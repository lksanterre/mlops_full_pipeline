{
 "cells": [
  {
   "cell_type": "code",
   "execution_count": 1,
   "metadata": {},
   "outputs": [],
   "source": [
    "import gzip\n",
    "import pickle\n",
    "\n",
    "import mlflow\n",
    "import mlflow.keras\n",
    "import numpy as np\n",
    "import pandas as pd\n",
    "import sklearn\n",
    "from sklearn.model_selection import train_test_split\n",
    "\n",
    "import tensorflow as tf\n",
    "from tensorflow.keras.layers import (Conv1D, Embedding, GlobalMaxPooling1D,\n",
    "                                    LSTM, Dense, Dropout, Bidirectional)\n",
    "from tensorflow.keras.models import Sequential\n",
    "from tensorflow.keras.preprocessing.sequence import pad_sequences\n",
    "from tensorflow.keras.preprocessing.text import Tokenizer\n",
    "\n"
   ]
  },
  {
   "cell_type": "code",
   "execution_count": 2,
   "metadata": {},
   "outputs": [
    {
     "data": {
      "text/plain": [
       "<Experiment: artifact_location='mlflow-artifacts:/1', creation_time=1727047711746, experiment_id='1', last_update_time=1727047711746, lifecycle_stage='active', name='intern-question/project/final/mlflow', tags={}>"
      ]
     },
     "execution_count": 2,
     "metadata": {},
     "output_type": "execute_result"
    }
   ],
   "source": [
    "mlflow.set_tracking_uri('https://mlflow-service-1073438601911.us-west2.run.app')\n",
    "mlflow.set_experiment('intern-question/project/final/mlflow')"
   ]
  },
  {
   "cell_type": "code",
   "execution_count": 3,
   "metadata": {},
   "outputs": [
    {
     "name": "stdout",
     "output_type": "stream",
     "text": [
      "                                            question           labels\n",
      "0  Which NFL team represented the AFC at Super Bo...  [1.0, 0.0, 0.0]\n",
      "1  Which NFL team represented the NFC at Super Bo...  [1.0, 0.0, 0.0]\n",
      "2                Where did Super Bowl 50 take place?  [1.0, 0.0, 0.0]\n",
      "3                  Which NFL team won Super Bowl 50?  [1.0, 0.0, 0.0]\n",
      "4  What color was used to emphasize the 50th anni...  [1.0, 0.0, 0.0]\n"
     ]
    },
    {
     "data": {
      "text/plain": [
       "0         Which NFL team represented the AFC at Super Bo...\n",
       "1         Which NFL team represented the NFC at Super Bo...\n",
       "2                       Where did Super Bowl 50 take place?\n",
       "3                         Which NFL team won Super Bowl 50?\n",
       "4         What color was used to emphasize the 50th anni...\n",
       "                                ...                        \n",
       "414915    How many keywords are there in the Racket prog...\n",
       "414916            Do you believe there is life after death?\n",
       "414917                                    What is one coin?\n",
       "414918    What is the approx annual cost of living while...\n",
       "414919                What is like to have sex with cousin?\n",
       "Name: question, Length: 414920, dtype: object"
      ]
     },
     "execution_count": 3,
     "metadata": {},
     "output_type": "execute_result"
    }
   ],
   "source": [
    "with open('/Users/lancesanterre/pipeline_edu/data/processed/pipeline_and_data.pkl', 'rb') as f:\n",
    "    df = pd.read_pickle(f)\n",
    "print(df.head())\n",
    "# Assuming the DataFrame `df` has at least one column and you want to access the first column\n",
    "questions = df['question']  # or df[0] if it's a Series or DataFrame\n",
    "questions "
   ]
  },
  {
   "cell_type": "code",
   "execution_count": 4,
   "metadata": {},
   "outputs": [],
   "source": [
    "filtered_labels = df['labels']\n",
    "filtered_questions = questions "
   ]
  },
  {
   "attachments": {},
   "cell_type": "markdown",
   "metadata": {},
   "source": [
    "# Simple LSTM"
   ]
  },
  {
   "cell_type": "code",
   "execution_count": 21,
   "metadata": {},
   "outputs": [
    {
     "name": "stdout",
     "output_type": "stream",
     "text": [
      "Epoch 1/10\n"
     ]
    },
    {
     "name": "stderr",
     "output_type": "stream",
     "text": [
      "/opt/homebrew/anaconda3/envs/intern/lib/python3.11/site-packages/keras/src/layers/core/embedding.py:90: UserWarning: Argument `input_length` is deprecated. Just remove it.\n",
      "  warnings.warn(\n"
     ]
    },
    {
     "name": "stdout",
     "output_type": "stream",
     "text": [
      "\u001b[1m10373/10373\u001b[0m \u001b[32m━━━━━━━━━━━━━━━━━━━━\u001b[0m\u001b[37m\u001b[0m \u001b[1m12s\u001b[0m 1ms/step - accuracy: 0.8708 - loss: 0.3292 - val_accuracy: 0.9281 - val_loss: 0.1808\n",
      "Epoch 2/10\n",
      "\u001b[1m10373/10373\u001b[0m \u001b[32m━━━━━━━━━━━━━━━━━━━━\u001b[0m\u001b[37m\u001b[0m \u001b[1m11s\u001b[0m 1ms/step - accuracy: 0.9274 - loss: 0.1864 - val_accuracy: 0.9334 - val_loss: 0.1715\n",
      "Epoch 3/10\n",
      "\u001b[1m10373/10373\u001b[0m \u001b[32m━━━━━━━━━━━━━━━━━━━━\u001b[0m\u001b[37m\u001b[0m \u001b[1m11s\u001b[0m 1ms/step - accuracy: 0.9315 - loss: 0.1721 - val_accuracy: 0.9362 - val_loss: 0.1629\n",
      "Epoch 4/10\n",
      "\u001b[1m10373/10373\u001b[0m \u001b[32m━━━━━━━━━━━━━━━━━━━━\u001b[0m\u001b[37m\u001b[0m \u001b[1m11s\u001b[0m 1ms/step - accuracy: 0.9354 - loss: 0.1643 - val_accuracy: 0.9364 - val_loss: 0.1629\n",
      "Epoch 5/10\n",
      "\u001b[1m10373/10373\u001b[0m \u001b[32m━━━━━━━━━━━━━━━━━━━━\u001b[0m\u001b[37m\u001b[0m \u001b[1m12s\u001b[0m 1ms/step - accuracy: 0.9379 - loss: 0.1576 - val_accuracy: 0.9392 - val_loss: 0.1569\n",
      "Epoch 6/10\n",
      "\u001b[1m10373/10373\u001b[0m \u001b[32m━━━━━━━━━━━━━━━━━━━━\u001b[0m\u001b[37m\u001b[0m \u001b[1m11s\u001b[0m 1ms/step - accuracy: 0.9399 - loss: 0.1527 - val_accuracy: 0.9393 - val_loss: 0.1609\n",
      "Epoch 7/10\n",
      "\u001b[1m10373/10373\u001b[0m \u001b[32m━━━━━━━━━━━━━━━━━━━━\u001b[0m\u001b[37m\u001b[0m \u001b[1m11s\u001b[0m 1ms/step - accuracy: 0.9422 - loss: 0.1470 - val_accuracy: 0.9412 - val_loss: 0.1567\n",
      "Epoch 8/10\n",
      "\u001b[1m10373/10373\u001b[0m \u001b[32m━━━━━━━━━━━━━━━━━━━━\u001b[0m\u001b[37m\u001b[0m \u001b[1m11s\u001b[0m 1ms/step - accuracy: 0.9438 - loss: 0.1453 - val_accuracy: 0.9409 - val_loss: 0.1543\n",
      "Epoch 9/10\n",
      "\u001b[1m10373/10373\u001b[0m \u001b[32m━━━━━━━━━━━━━━━━━━━━\u001b[0m\u001b[37m\u001b[0m \u001b[1m11s\u001b[0m 1ms/step - accuracy: 0.9454 - loss: 0.1413 - val_accuracy: 0.9412 - val_loss: 0.1589\n",
      "Epoch 10/10\n",
      "\u001b[1m10373/10373\u001b[0m \u001b[32m━━━━━━━━━━━━━━━━━━━━\u001b[0m\u001b[37m\u001b[0m \u001b[1m12s\u001b[0m 1ms/step - accuracy: 0.9462 - loss: 0.1401 - val_accuracy: 0.9413 - val_loss: 0.1545\n",
      "\u001b[1m2594/2594\u001b[0m \u001b[32m━━━━━━━━━━━━━━━━━━━━\u001b[0m\u001b[37m\u001b[0m \u001b[1m1s\u001b[0m 354us/step - accuracy: 0.9401 - loss: 0.1569\n"
     ]
    },
    {
     "name": "stderr",
     "output_type": "stream",
     "text": [
      "2024/09/22 16:31:20 WARNING mlflow.keras.save: You are saving a Keras model without specifying model signature.\n",
      "/opt/homebrew/anaconda3/envs/intern/lib/python3.11/site-packages/_distutils_hack/__init__.py:32: UserWarning: Setuptools is replacing distutils. Support for replacing an already imported distutils is deprecated. In the future, this condition will fail. Register concerns at https://github.com/pypa/setuptools/issues/new?template=distutils-deprecation.yml\n",
      "  warnings.warn(\n",
      "2024/09/22 16:31:30 WARNING mlflow.models.model: Input example should be provided to infer model signature if the model signature is not provided when logging the model.\n",
      "2024/09/22 16:31:30 INFO mlflow.tracking._tracking_service.client: 🏃 View run glamorous-shad-157 at: https://mlflow-service-1073438601911.us-west2.run.app/#/experiments/1/runs/6d6ae46cd3a449e7ab19ba568a009c12.\n",
      "2024/09/22 16:31:30 INFO mlflow.tracking._tracking_service.client: 🧪 View experiment at: https://mlflow-service-1073438601911.us-west2.run.app/#/experiments/1.\n"
     ]
    },
    {
     "name": "stdout",
     "output_type": "stream",
     "text": [
      "Model saved as Simple_LSTM_1000_16 with accuracy: 0.94\n",
      "Epoch 1/10\n",
      "\u001b[1m10373/10373\u001b[0m \u001b[32m━━━━━━━━━━━━━━━━━━━━\u001b[0m\u001b[37m\u001b[0m \u001b[1m14s\u001b[0m 1ms/step - accuracy: 0.8872 - loss: 0.2854 - val_accuracy: 0.9308 - val_loss: 0.1708\n",
      "Epoch 2/10\n",
      "\u001b[1m10373/10373\u001b[0m \u001b[32m━━━━━━━━━━━━━━━━━━━━\u001b[0m\u001b[37m\u001b[0m \u001b[1m14s\u001b[0m 1ms/step - accuracy: 0.9321 - loss: 0.1712 - val_accuracy: 0.9371 - val_loss: 0.1570\n",
      "Epoch 3/10\n",
      "\u001b[1m10373/10373\u001b[0m \u001b[32m━━━━━━━━━━━━━━━━━━━━\u001b[0m\u001b[37m\u001b[0m \u001b[1m14s\u001b[0m 1ms/step - accuracy: 0.9373 - loss: 0.1577 - val_accuracy: 0.9399 - val_loss: 0.1514\n",
      "Epoch 4/10\n",
      "\u001b[1m10373/10373\u001b[0m \u001b[32m━━━━━━━━━━━━━━━━━━━━\u001b[0m\u001b[37m\u001b[0m \u001b[1m14s\u001b[0m 1ms/step - accuracy: 0.9418 - loss: 0.1481 - val_accuracy: 0.9411 - val_loss: 0.1489\n",
      "Epoch 5/10\n",
      "\u001b[1m10373/10373\u001b[0m \u001b[32m━━━━━━━━━━━━━━━━━━━━\u001b[0m\u001b[37m\u001b[0m \u001b[1m14s\u001b[0m 1ms/step - accuracy: 0.9460 - loss: 0.1392 - val_accuracy: 0.9424 - val_loss: 0.1483\n",
      "Epoch 6/10\n",
      "\u001b[1m10373/10373\u001b[0m \u001b[32m━━━━━━━━━━━━━━━━━━━━\u001b[0m\u001b[37m\u001b[0m \u001b[1m14s\u001b[0m 1ms/step - accuracy: 0.9479 - loss: 0.1340 - val_accuracy: 0.9422 - val_loss: 0.1466\n",
      "Epoch 7/10\n",
      "\u001b[1m10373/10373\u001b[0m \u001b[32m━━━━━━━━━━━━━━━━━━━━\u001b[0m\u001b[37m\u001b[0m \u001b[1m14s\u001b[0m 1ms/step - accuracy: 0.9507 - loss: 0.1280 - val_accuracy: 0.9434 - val_loss: 0.1450\n",
      "Epoch 8/10\n",
      "\u001b[1m10373/10373\u001b[0m \u001b[32m━━━━━━━━━━━━━━━━━━━━\u001b[0m\u001b[37m\u001b[0m \u001b[1m13s\u001b[0m 1ms/step - accuracy: 0.9516 - loss: 0.1250 - val_accuracy: 0.9445 - val_loss: 0.1429\n",
      "Epoch 9/10\n",
      "\u001b[1m10373/10373\u001b[0m \u001b[32m━━━━━━━━━━━━━━━━━━━━\u001b[0m\u001b[37m\u001b[0m \u001b[1m13s\u001b[0m 1ms/step - accuracy: 0.9534 - loss: 0.1218 - val_accuracy: 0.9454 - val_loss: 0.1430\n",
      "Epoch 10/10\n",
      "\u001b[1m10373/10373\u001b[0m \u001b[32m━━━━━━━━━━━━━━━━━━━━\u001b[0m\u001b[37m\u001b[0m \u001b[1m13s\u001b[0m 1ms/step - accuracy: 0.9547 - loss: 0.1163 - val_accuracy: 0.9455 - val_loss: 0.1431\n",
      "\u001b[1m2594/2594\u001b[0m \u001b[32m━━━━━━━━━━━━━━━━━━━━\u001b[0m\u001b[37m\u001b[0m \u001b[1m1s\u001b[0m 427us/step - accuracy: 0.9441 - loss: 0.1450\n"
     ]
    },
    {
     "name": "stderr",
     "output_type": "stream",
     "text": [
      "2024/09/22 16:33:52 WARNING mlflow.keras.save: You are saving a Keras model without specifying model signature.\n",
      "2024/09/22 16:33:59 WARNING mlflow.models.model: Input example should be provided to infer model signature if the model signature is not provided when logging the model.\n",
      "2024/09/22 16:33:59 INFO mlflow.tracking._tracking_service.client: 🏃 View run upbeat-ant-249 at: https://mlflow-service-1073438601911.us-west2.run.app/#/experiments/1/runs/3450d0f70d4c42ffbf4b2d1578cc855c.\n",
      "2024/09/22 16:33:59 INFO mlflow.tracking._tracking_service.client: 🧪 View experiment at: https://mlflow-service-1073438601911.us-west2.run.app/#/experiments/1.\n"
     ]
    },
    {
     "name": "stdout",
     "output_type": "stream",
     "text": [
      "Model saved as Simple_LSTM_1000_32 with accuracy: 0.95\n",
      "Epoch 1/10\n",
      "\u001b[1m10373/10373\u001b[0m \u001b[32m━━━━━━━━━━━━━━━━━━━━\u001b[0m\u001b[37m\u001b[0m \u001b[1m27s\u001b[0m 3ms/step - accuracy: 0.8976 - loss: 0.2566 - val_accuracy: 0.9336 - val_loss: 0.1631\n",
      "Epoch 2/10\n",
      "\u001b[1m10373/10373\u001b[0m \u001b[32m━━━━━━━━━━━━━━━━━━━━\u001b[0m\u001b[37m\u001b[0m \u001b[1m26s\u001b[0m 3ms/step - accuracy: 0.9363 - loss: 0.1608 - val_accuracy: 0.9401 - val_loss: 0.1505\n",
      "Epoch 3/10\n",
      "\u001b[1m10373/10373\u001b[0m \u001b[32m━━━━━━━━━━━━━━━━━━━━\u001b[0m\u001b[37m\u001b[0m \u001b[1m26s\u001b[0m 3ms/step - accuracy: 0.9421 - loss: 0.1462 - val_accuracy: 0.9423 - val_loss: 0.1450\n",
      "Epoch 4/10\n",
      "\u001b[1m10373/10373\u001b[0m \u001b[32m━━━━━━━━━━━━━━━━━━━━\u001b[0m\u001b[37m\u001b[0m \u001b[1m27s\u001b[0m 3ms/step - accuracy: 0.9470 - loss: 0.1356 - val_accuracy: 0.9437 - val_loss: 0.1433\n",
      "Epoch 5/10\n",
      "\u001b[1m10373/10373\u001b[0m \u001b[32m━━━━━━━━━━━━━━━━━━━━\u001b[0m\u001b[37m\u001b[0m \u001b[1m26s\u001b[0m 3ms/step - accuracy: 0.9499 - loss: 0.1276 - val_accuracy: 0.9463 - val_loss: 0.1382\n",
      "Epoch 6/10\n",
      "\u001b[1m10373/10373\u001b[0m \u001b[32m━━━━━━━━━━━━━━━━━━━━\u001b[0m\u001b[37m\u001b[0m \u001b[1m27s\u001b[0m 3ms/step - accuracy: 0.9536 - loss: 0.1193 - val_accuracy: 0.9460 - val_loss: 0.1377\n",
      "Epoch 7/10\n",
      "\u001b[1m10373/10373\u001b[0m \u001b[32m━━━━━━━━━━━━━━━━━━━━\u001b[0m\u001b[37m\u001b[0m \u001b[1m27s\u001b[0m 3ms/step - accuracy: 0.9566 - loss: 0.1121 - val_accuracy: 0.9479 - val_loss: 0.1401\n",
      "Epoch 8/10\n",
      "\u001b[1m10373/10373\u001b[0m \u001b[32m━━━━━━━━━━━━━━━━━━━━\u001b[0m\u001b[37m\u001b[0m \u001b[1m26s\u001b[0m 3ms/step - accuracy: 0.9587 - loss: 0.1071 - val_accuracy: 0.9487 - val_loss: 0.1364\n",
      "Epoch 9/10\n",
      "\u001b[1m10373/10373\u001b[0m \u001b[32m━━━━━━━━━━━━━━━━━━━━\u001b[0m\u001b[37m\u001b[0m \u001b[1m26s\u001b[0m 3ms/step - accuracy: 0.9613 - loss: 0.1005 - val_accuracy: 0.9483 - val_loss: 0.1377\n",
      "Epoch 10/10\n",
      "\u001b[1m10373/10373\u001b[0m \u001b[32m━━━━━━━━━━━━━━━━━━━━\u001b[0m\u001b[37m\u001b[0m \u001b[1m26s\u001b[0m 2ms/step - accuracy: 0.9646 - loss: 0.0953 - val_accuracy: 0.9477 - val_loss: 0.1425\n",
      "\u001b[1m2594/2594\u001b[0m \u001b[32m━━━━━━━━━━━━━━━━━━━━\u001b[0m\u001b[37m\u001b[0m \u001b[1m2s\u001b[0m 655us/step - accuracy: 0.9467 - loss: 0.1449\n"
     ]
    },
    {
     "name": "stderr",
     "output_type": "stream",
     "text": [
      "2024/09/22 16:38:30 WARNING mlflow.keras.save: You are saving a Keras model without specifying model signature.\n",
      "2024/09/22 16:38:50 WARNING mlflow.models.model: Input example should be provided to infer model signature if the model signature is not provided when logging the model.\n",
      "2024/09/22 16:38:50 INFO mlflow.tracking._tracking_service.client: 🏃 View run rare-ram-375 at: https://mlflow-service-1073438601911.us-west2.run.app/#/experiments/1/runs/1c79a2be3f3c4be091f5183afc57771a.\n",
      "2024/09/22 16:38:50 INFO mlflow.tracking._tracking_service.client: 🧪 View experiment at: https://mlflow-service-1073438601911.us-west2.run.app/#/experiments/1.\n"
     ]
    },
    {
     "name": "stdout",
     "output_type": "stream",
     "text": [
      "Model saved as Simple_LSTM_1000_64 with accuracy: 0.95\n",
      "Epoch 1/10\n",
      "\u001b[1m10373/10373\u001b[0m \u001b[32m━━━━━━━━━━━━━━━━━━━━\u001b[0m\u001b[37m\u001b[0m \u001b[1m67s\u001b[0m 6ms/step - accuracy: 0.9043 - loss: 0.2433 - val_accuracy: 0.9367 - val_loss: 0.1567\n",
      "Epoch 2/10\n",
      "\u001b[1m10373/10373\u001b[0m \u001b[32m━━━━━━━━━━━━━━━━━━━━\u001b[0m\u001b[37m\u001b[0m \u001b[1m65s\u001b[0m 6ms/step - accuracy: 0.9382 - loss: 0.1558 - val_accuracy: 0.9413 - val_loss: 0.1481\n",
      "Epoch 3/10\n",
      "\u001b[1m10373/10373\u001b[0m \u001b[32m━━━━━━━━━━━━━━━━━━━━\u001b[0m\u001b[37m\u001b[0m \u001b[1m65s\u001b[0m 6ms/step - accuracy: 0.9453 - loss: 0.1388 - val_accuracy: 0.9434 - val_loss: 0.1411\n",
      "Epoch 4/10\n",
      "\u001b[1m10373/10373\u001b[0m \u001b[32m━━━━━━━━━━━━━━━━━━━━\u001b[0m\u001b[37m\u001b[0m \u001b[1m66s\u001b[0m 6ms/step - accuracy: 0.9502 - loss: 0.1267 - val_accuracy: 0.9454 - val_loss: 0.1388\n",
      "Epoch 5/10\n",
      "\u001b[1m10373/10373\u001b[0m \u001b[32m━━━━━━━━━━━━━━━━━━━━\u001b[0m\u001b[37m\u001b[0m \u001b[1m65s\u001b[0m 6ms/step - accuracy: 0.9550 - loss: 0.1153 - val_accuracy: 0.9479 - val_loss: 0.1339\n",
      "Epoch 6/10\n",
      "\u001b[1m10373/10373\u001b[0m \u001b[32m━━━━━━━━━━━━━━━━━━━━\u001b[0m\u001b[37m\u001b[0m \u001b[1m74s\u001b[0m 7ms/step - accuracy: 0.9593 - loss: 0.1050 - val_accuracy: 0.9483 - val_loss: 0.1351\n",
      "Epoch 7/10\n",
      "\u001b[1m10373/10373\u001b[0m \u001b[32m━━━━━━━━━━━━━━━━━━━━\u001b[0m\u001b[37m\u001b[0m \u001b[1m77s\u001b[0m 7ms/step - accuracy: 0.9635 - loss: 0.0951 - val_accuracy: 0.9492 - val_loss: 0.1343\n",
      "Epoch 8/10\n",
      "\u001b[1m10373/10373\u001b[0m \u001b[32m━━━━━━━━━━━━━━━━━━━━\u001b[0m\u001b[37m\u001b[0m \u001b[1m74s\u001b[0m 7ms/step - accuracy: 0.9656 - loss: 0.0890 - val_accuracy: 0.9494 - val_loss: 0.1387\n",
      "Epoch 9/10\n",
      "\u001b[1m10373/10373\u001b[0m \u001b[32m━━━━━━━━━━━━━━━━━━━━\u001b[0m\u001b[37m\u001b[0m \u001b[1m75s\u001b[0m 7ms/step - accuracy: 0.9693 - loss: 0.0811 - val_accuracy: 0.9497 - val_loss: 0.1431\n",
      "Epoch 10/10\n",
      "\u001b[1m10373/10373\u001b[0m \u001b[32m━━━━━━━━━━━━━━━━━━━━\u001b[0m\u001b[37m\u001b[0m \u001b[1m71s\u001b[0m 7ms/step - accuracy: 0.9717 - loss: 0.0750 - val_accuracy: 0.9503 - val_loss: 0.1445\n",
      "\u001b[1m2594/2594\u001b[0m \u001b[32m━━━━━━━━━━━━━━━━━━━━\u001b[0m\u001b[37m\u001b[0m \u001b[1m5s\u001b[0m 2ms/step - accuracy: 0.9501 - loss: 0.1460\n"
     ]
    },
    {
     "name": "stderr",
     "output_type": "stream",
     "text": [
      "2024/09/22 16:50:38 WARNING mlflow.keras.save: You are saving a Keras model without specifying model signature.\n",
      "2024/09/22 16:51:44 WARNING mlflow.models.model: Input example should be provided to infer model signature if the model signature is not provided when logging the model.\n",
      "2024/09/22 16:51:44 INFO mlflow.tracking._tracking_service.client: 🏃 View run peaceful-hawk-650 at: https://mlflow-service-1073438601911.us-west2.run.app/#/experiments/1/runs/bfd69126a0ba4b8c8ba700d041e3bbfa.\n",
      "2024/09/22 16:51:44 INFO mlflow.tracking._tracking_service.client: 🧪 View experiment at: https://mlflow-service-1073438601911.us-west2.run.app/#/experiments/1.\n"
     ]
    },
    {
     "name": "stdout",
     "output_type": "stream",
     "text": [
      "Model saved as Simple_LSTM_1000_128 with accuracy: 0.95\n",
      "Epoch 1/10\n",
      "\u001b[1m10373/10373\u001b[0m \u001b[32m━━━━━━━━━━━━━━━━━━━━\u001b[0m\u001b[37m\u001b[0m \u001b[1m12s\u001b[0m 1ms/step - accuracy: 0.8666 - loss: 0.3389 - val_accuracy: 0.9139 - val_loss: 0.2104\n",
      "Epoch 2/10\n",
      "\u001b[1m10373/10373\u001b[0m \u001b[32m━━━━━━━━━━━━━━━━━━━━\u001b[0m\u001b[37m\u001b[0m \u001b[1m12s\u001b[0m 1ms/step - accuracy: 0.9137 - loss: 0.2157 - val_accuracy: 0.9203 - val_loss: 0.1972\n",
      "Epoch 3/10\n",
      "\u001b[1m10373/10373\u001b[0m \u001b[32m━━━━━━━━━━━━━━━━━━━━\u001b[0m\u001b[37m\u001b[0m \u001b[1m12s\u001b[0m 1ms/step - accuracy: 0.9234 - loss: 0.1924 - val_accuracy: 0.9246 - val_loss: 0.1854\n",
      "Epoch 4/10\n",
      "\u001b[1m10373/10373\u001b[0m \u001b[32m━━━━━━━━━━━━━━━━━━━━\u001b[0m\u001b[37m\u001b[0m \u001b[1m12s\u001b[0m 1ms/step - accuracy: 0.9269 - loss: 0.1845 - val_accuracy: 0.9279 - val_loss: 0.1829\n",
      "Epoch 5/10\n",
      "\u001b[1m10373/10373\u001b[0m \u001b[32m━━━━━━━━━━━━━━━━━━━━\u001b[0m\u001b[37m\u001b[0m \u001b[1m12s\u001b[0m 1ms/step - accuracy: 0.9313 - loss: 0.1741 - val_accuracy: 0.9275 - val_loss: 0.1837\n",
      "Epoch 6/10\n",
      "\u001b[1m10373/10373\u001b[0m \u001b[32m━━━━━━━━━━━━━━━━━━━━\u001b[0m\u001b[37m\u001b[0m \u001b[1m12s\u001b[0m 1ms/step - accuracy: 0.9334 - loss: 0.1690 - val_accuracy: 0.9282 - val_loss: 0.1799\n",
      "Epoch 7/10\n",
      "\u001b[1m10373/10373\u001b[0m \u001b[32m━━━━━━━━━━━━━━━━━━━━\u001b[0m\u001b[37m\u001b[0m \u001b[1m12s\u001b[0m 1ms/step - accuracy: 0.9355 - loss: 0.1633 - val_accuracy: 0.9287 - val_loss: 0.1803\n",
      "Epoch 8/10\n",
      "\u001b[1m10373/10373\u001b[0m \u001b[32m━━━━━━━━━━━━━━━━━━━━\u001b[0m\u001b[37m\u001b[0m \u001b[1m12s\u001b[0m 1ms/step - accuracy: 0.9385 - loss: 0.1589 - val_accuracy: 0.9305 - val_loss: 0.1794\n",
      "Epoch 9/10\n",
      "\u001b[1m10373/10373\u001b[0m \u001b[32m━━━━━━━━━━━━━━━━━━━━\u001b[0m\u001b[37m\u001b[0m \u001b[1m12s\u001b[0m 1ms/step - accuracy: 0.9398 - loss: 0.1540 - val_accuracy: 0.9293 - val_loss: 0.1839\n",
      "Epoch 10/10\n",
      "\u001b[1m10373/10373\u001b[0m \u001b[32m━━━━━━━━━━━━━━━━━━━━\u001b[0m\u001b[37m\u001b[0m \u001b[1m12s\u001b[0m 1ms/step - accuracy: 0.9407 - loss: 0.1513 - val_accuracy: 0.9308 - val_loss: 0.1806\n",
      "\u001b[1m2594/2594\u001b[0m \u001b[32m━━━━━━━━━━━━━━━━━━━━\u001b[0m\u001b[37m\u001b[0m \u001b[1m1s\u001b[0m 379us/step - accuracy: 0.9302 - loss: 0.1815\n"
     ]
    },
    {
     "name": "stderr",
     "output_type": "stream",
     "text": [
      "2024/09/22 16:53:47 WARNING mlflow.keras.save: You are saving a Keras model without specifying model signature.\n",
      "2024/09/22 16:53:53 WARNING mlflow.models.model: Input example should be provided to infer model signature if the model signature is not provided when logging the model.\n",
      "2024/09/22 16:53:53 INFO mlflow.tracking._tracking_service.client: 🏃 View run persistent-cow-319 at: https://mlflow-service-1073438601911.us-west2.run.app/#/experiments/1/runs/8d7c495835944397a7bc109170e1dbf8.\n",
      "2024/09/22 16:53:53 INFO mlflow.tracking._tracking_service.client: 🧪 View experiment at: https://mlflow-service-1073438601911.us-west2.run.app/#/experiments/1.\n"
     ]
    },
    {
     "name": "stdout",
     "output_type": "stream",
     "text": [
      "Model saved as Simple_LSTM_2000_16 with accuracy: 0.93\n",
      "Epoch 1/10\n",
      "\u001b[1m10373/10373\u001b[0m \u001b[32m━━━━━━━━━━━━━━━━━━━━\u001b[0m\u001b[37m\u001b[0m \u001b[1m17s\u001b[0m 2ms/step - accuracy: 0.8685 - loss: 0.3276 - val_accuracy: 0.9194 - val_loss: 0.1992\n",
      "Epoch 2/10\n",
      "\u001b[1m10373/10373\u001b[0m \u001b[32m━━━━━━━━━━━━━━━━━━━━\u001b[0m\u001b[37m\u001b[0m \u001b[1m17s\u001b[0m 2ms/step - accuracy: 0.9194 - loss: 0.1984 - val_accuracy: 0.9265 - val_loss: 0.1807\n",
      "Epoch 3/10\n",
      "\u001b[1m10373/10373\u001b[0m \u001b[32m━━━━━━━━━━━━━━━━━━━━\u001b[0m\u001b[37m\u001b[0m \u001b[1m17s\u001b[0m 2ms/step - accuracy: 0.9297 - loss: 0.1760 - val_accuracy: 0.9296 - val_loss: 0.1770\n",
      "Epoch 4/10\n",
      "\u001b[1m10373/10373\u001b[0m \u001b[32m━━━━━━━━━━━━━━━━━━━━\u001b[0m\u001b[37m\u001b[0m \u001b[1m17s\u001b[0m 2ms/step - accuracy: 0.9348 - loss: 0.1646 - val_accuracy: 0.9299 - val_loss: 0.1734\n",
      "Epoch 5/10\n",
      "\u001b[1m10373/10373\u001b[0m \u001b[32m━━━━━━━━━━━━━━━━━━━━\u001b[0m\u001b[37m\u001b[0m \u001b[1m17s\u001b[0m 2ms/step - accuracy: 0.9386 - loss: 0.1549 - val_accuracy: 0.9315 - val_loss: 0.1718\n",
      "Epoch 6/10\n",
      "\u001b[1m10373/10373\u001b[0m \u001b[32m━━━━━━━━━━━━━━━━━━━━\u001b[0m\u001b[37m\u001b[0m \u001b[1m17s\u001b[0m 2ms/step - accuracy: 0.9422 - loss: 0.1473 - val_accuracy: 0.9340 - val_loss: 0.1704\n",
      "Epoch 7/10\n",
      "\u001b[1m10373/10373\u001b[0m \u001b[32m━━━━━━━━━━━━━━━━━━━━\u001b[0m\u001b[37m\u001b[0m \u001b[1m17s\u001b[0m 2ms/step - accuracy: 0.9457 - loss: 0.1388 - val_accuracy: 0.9320 - val_loss: 0.1723\n",
      "Epoch 8/10\n",
      "\u001b[1m10373/10373\u001b[0m \u001b[32m━━━━━━━━━━━━━━━━━━━━\u001b[0m\u001b[37m\u001b[0m \u001b[1m17s\u001b[0m 2ms/step - accuracy: 0.9497 - loss: 0.1311 - val_accuracy: 0.9333 - val_loss: 0.1718\n",
      "Epoch 9/10\n",
      "\u001b[1m10373/10373\u001b[0m \u001b[32m━━━━━━━━━━━━━━━━━━━━\u001b[0m\u001b[37m\u001b[0m \u001b[1m17s\u001b[0m 2ms/step - accuracy: 0.9518 - loss: 0.1262 - val_accuracy: 0.9354 - val_loss: 0.1750\n",
      "Epoch 10/10\n",
      "\u001b[1m10373/10373\u001b[0m \u001b[32m━━━━━━━━━━━━━━━━━━━━\u001b[0m\u001b[37m\u001b[0m \u001b[1m17s\u001b[0m 2ms/step - accuracy: 0.9545 - loss: 0.1200 - val_accuracy: 0.9352 - val_loss: 0.1753\n",
      "\u001b[1m2594/2594\u001b[0m \u001b[32m━━━━━━━━━━━━━━━━━━━━\u001b[0m\u001b[37m\u001b[0m \u001b[1m1s\u001b[0m 485us/step - accuracy: 0.9353 - loss: 0.1756\n"
     ]
    },
    {
     "name": "stderr",
     "output_type": "stream",
     "text": [
      "2024/09/22 16:56:46 WARNING mlflow.keras.save: You are saving a Keras model without specifying model signature.\n",
      "2024/09/22 16:56:55 WARNING mlflow.models.model: Input example should be provided to infer model signature if the model signature is not provided when logging the model.\n",
      "2024/09/22 16:56:55 INFO mlflow.tracking._tracking_service.client: 🏃 View run marvelous-lamb-658 at: https://mlflow-service-1073438601911.us-west2.run.app/#/experiments/1/runs/04a67b8855414be19f46fc34e44bcaf5.\n",
      "2024/09/22 16:56:55 INFO mlflow.tracking._tracking_service.client: 🧪 View experiment at: https://mlflow-service-1073438601911.us-west2.run.app/#/experiments/1.\n"
     ]
    },
    {
     "name": "stdout",
     "output_type": "stream",
     "text": [
      "Model saved as Simple_LSTM_2000_32 with accuracy: 0.94\n",
      "Epoch 1/10\n",
      "\u001b[1m10373/10373\u001b[0m \u001b[32m━━━━━━━━━━━━━━━━━━━━\u001b[0m\u001b[37m\u001b[0m \u001b[1m31s\u001b[0m 3ms/step - accuracy: 0.8836 - loss: 0.2896 - val_accuracy: 0.9228 - val_loss: 0.1893\n",
      "Epoch 2/10\n",
      "\u001b[1m10373/10373\u001b[0m \u001b[32m━━━━━━━━━━━━━━━━━━━━\u001b[0m\u001b[37m\u001b[0m \u001b[1m31s\u001b[0m 3ms/step - accuracy: 0.9262 - loss: 0.1837 - val_accuracy: 0.9286 - val_loss: 0.1767\n",
      "Epoch 3/10\n",
      "\u001b[1m10373/10373\u001b[0m \u001b[32m━━━━━━━━━━━━━━━━━━━━\u001b[0m\u001b[37m\u001b[0m \u001b[1m31s\u001b[0m 3ms/step - accuracy: 0.9346 - loss: 0.1660 - val_accuracy: 0.9330 - val_loss: 0.1690\n",
      "Epoch 4/10\n",
      "\u001b[1m10373/10373\u001b[0m \u001b[32m━━━━━━━━━━━━━━━━━━━━\u001b[0m\u001b[37m\u001b[0m \u001b[1m30s\u001b[0m 3ms/step - accuracy: 0.9404 - loss: 0.1520 - val_accuracy: 0.9344 - val_loss: 0.1706\n",
      "Epoch 5/10\n",
      "\u001b[1m10373/10373\u001b[0m \u001b[32m━━━━━━━━━━━━━━━━━━━━\u001b[0m\u001b[37m\u001b[0m \u001b[1m30s\u001b[0m 3ms/step - accuracy: 0.9465 - loss: 0.1377 - val_accuracy: 0.9358 - val_loss: 0.1690\n",
      "Epoch 6/10\n",
      "\u001b[1m10373/10373\u001b[0m \u001b[32m━━━━━━━━━━━━━━━━━━━━\u001b[0m\u001b[37m\u001b[0m \u001b[1m31s\u001b[0m 3ms/step - accuracy: 0.9498 - loss: 0.1299 - val_accuracy: 0.9361 - val_loss: 0.1691\n",
      "Epoch 7/10\n",
      "\u001b[1m10373/10373\u001b[0m \u001b[32m━━━━━━━━━━━━━━━━━━━━\u001b[0m\u001b[37m\u001b[0m \u001b[1m30s\u001b[0m 3ms/step - accuracy: 0.9540 - loss: 0.1199 - val_accuracy: 0.9367 - val_loss: 0.1722\n",
      "Epoch 8/10\n",
      "\u001b[1m10373/10373\u001b[0m \u001b[32m━━━━━━━━━━━━━━━━━━━━\u001b[0m\u001b[37m\u001b[0m \u001b[1m31s\u001b[0m 3ms/step - accuracy: 0.9575 - loss: 0.1118 - val_accuracy: 0.9375 - val_loss: 0.1716\n",
      "Epoch 9/10\n",
      "\u001b[1m10373/10373\u001b[0m \u001b[32m━━━━━━━━━━━━━━━━━━━━\u001b[0m\u001b[37m\u001b[0m \u001b[1m31s\u001b[0m 3ms/step - accuracy: 0.9609 - loss: 0.1028 - val_accuracy: 0.9360 - val_loss: 0.1850\n",
      "Epoch 10/10\n",
      "\u001b[1m10373/10373\u001b[0m \u001b[32m━━━━━━━━━━━━━━━━━━━━\u001b[0m\u001b[37m\u001b[0m \u001b[1m31s\u001b[0m 3ms/step - accuracy: 0.9631 - loss: 0.0969 - val_accuracy: 0.9379 - val_loss: 0.1785\n",
      "\u001b[1m2594/2594\u001b[0m \u001b[32m━━━━━━━━━━━━━━━━━━━━\u001b[0m\u001b[37m\u001b[0m \u001b[1m2s\u001b[0m 709us/step - accuracy: 0.9376 - loss: 0.1797\n"
     ]
    },
    {
     "name": "stderr",
     "output_type": "stream",
     "text": [
      "2024/09/22 17:02:10 WARNING mlflow.keras.save: You are saving a Keras model without specifying model signature.\n",
      "2024/09/22 17:02:40 WARNING mlflow.models.model: Input example should be provided to infer model signature if the model signature is not provided when logging the model.\n",
      "2024/09/22 17:02:40 INFO mlflow.tracking._tracking_service.client: 🏃 View run treasured-fowl-849 at: https://mlflow-service-1073438601911.us-west2.run.app/#/experiments/1/runs/21c3cb7244e24d9faa80a01ebe0eccc8.\n",
      "2024/09/22 17:02:40 INFO mlflow.tracking._tracking_service.client: 🧪 View experiment at: https://mlflow-service-1073438601911.us-west2.run.app/#/experiments/1.\n"
     ]
    },
    {
     "name": "stdout",
     "output_type": "stream",
     "text": [
      "Model saved as Simple_LSTM_2000_64 with accuracy: 0.94\n",
      "Epoch 1/10\n",
      "\u001b[1m10373/10373\u001b[0m \u001b[32m━━━━━━━━━━━━━━━━━━━━\u001b[0m\u001b[37m\u001b[0m \u001b[1m71s\u001b[0m 7ms/step - accuracy: 0.8893 - loss: 0.2729 - val_accuracy: 0.9248 - val_loss: 0.1865\n",
      "Epoch 2/10\n",
      "\u001b[1m10373/10373\u001b[0m \u001b[32m━━━━━━━━━━━━━━━━━━━━\u001b[0m\u001b[37m\u001b[0m \u001b[1m71s\u001b[0m 7ms/step - accuracy: 0.9284 - loss: 0.1784 - val_accuracy: 0.9311 - val_loss: 0.1725\n",
      "Epoch 3/10\n",
      "\u001b[1m10373/10373\u001b[0m \u001b[32m━━━━━━━━━━━━━━━━━━━━\u001b[0m\u001b[37m\u001b[0m \u001b[1m69s\u001b[0m 7ms/step - accuracy: 0.9374 - loss: 0.1566 - val_accuracy: 0.9326 - val_loss: 0.1685\n",
      "Epoch 4/10\n",
      "\u001b[1m10373/10373\u001b[0m \u001b[32m━━━━━━━━━━━━━━━━━━━━\u001b[0m\u001b[37m\u001b[0m \u001b[1m73s\u001b[0m 7ms/step - accuracy: 0.9458 - loss: 0.1384 - val_accuracy: 0.9363 - val_loss: 0.1637\n",
      "Epoch 5/10\n",
      "\u001b[1m10373/10373\u001b[0m \u001b[32m━━━━━━━━━━━━━━━━━━━━\u001b[0m\u001b[37m\u001b[0m \u001b[1m73s\u001b[0m 7ms/step - accuracy: 0.9520 - loss: 0.1244 - val_accuracy: 0.9380 - val_loss: 0.1598\n",
      "Epoch 6/10\n",
      "\u001b[1m10373/10373\u001b[0m \u001b[32m━━━━━━━━━━━━━━━━━━━━\u001b[0m\u001b[37m\u001b[0m \u001b[1m75s\u001b[0m 7ms/step - accuracy: 0.9571 - loss: 0.1123 - val_accuracy: 0.9398 - val_loss: 0.1610\n",
      "Epoch 7/10\n",
      "\u001b[1m10373/10373\u001b[0m \u001b[32m━━━━━━━━━━━━━━━━━━━━\u001b[0m\u001b[37m\u001b[0m \u001b[1m75s\u001b[0m 7ms/step - accuracy: 0.9618 - loss: 0.1009 - val_accuracy: 0.9397 - val_loss: 0.1692\n",
      "Epoch 8/10\n",
      "\u001b[1m10373/10373\u001b[0m \u001b[32m━━━━━━━━━━━━━━━━━━━━\u001b[0m\u001b[37m\u001b[0m \u001b[1m76s\u001b[0m 7ms/step - accuracy: 0.9667 - loss: 0.0898 - val_accuracy: 0.9404 - val_loss: 0.1693\n",
      "Epoch 9/10\n",
      "\u001b[1m10373/10373\u001b[0m \u001b[32m━━━━━━━━━━━━━━━━━━━━\u001b[0m\u001b[37m\u001b[0m \u001b[1m77s\u001b[0m 7ms/step - accuracy: 0.9700 - loss: 0.0801 - val_accuracy: 0.9395 - val_loss: 0.1803\n",
      "Epoch 10/10\n",
      "\u001b[1m10373/10373\u001b[0m \u001b[32m━━━━━━━━━━━━━━━━━━━━\u001b[0m\u001b[37m\u001b[0m \u001b[1m78s\u001b[0m 7ms/step - accuracy: 0.9738 - loss: 0.0712 - val_accuracy: 0.9409 - val_loss: 0.1877\n",
      "\u001b[1m2594/2594\u001b[0m \u001b[32m━━━━━━━━━━━━━━━━━━━━\u001b[0m\u001b[37m\u001b[0m \u001b[1m4s\u001b[0m 2ms/step - accuracy: 0.9400 - loss: 0.1884\n"
     ]
    },
    {
     "name": "stderr",
     "output_type": "stream",
     "text": [
      "2024/09/22 17:15:06 WARNING mlflow.keras.save: You are saving a Keras model without specifying model signature.\n",
      "2024/09/22 17:15:41 WARNING mlflow.models.model: Input example should be provided to infer model signature if the model signature is not provided when logging the model.\n",
      "2024/09/22 17:15:41 INFO mlflow.tracking._tracking_service.client: 🏃 View run capricious-steed-702 at: https://mlflow-service-1073438601911.us-west2.run.app/#/experiments/1/runs/7343341f8e14472b9460e5b7b75ef679.\n",
      "2024/09/22 17:15:41 INFO mlflow.tracking._tracking_service.client: 🧪 View experiment at: https://mlflow-service-1073438601911.us-west2.run.app/#/experiments/1.\n"
     ]
    },
    {
     "name": "stdout",
     "output_type": "stream",
     "text": [
      "Model saved as Simple_LSTM_2000_128 with accuracy: 0.94\n",
      "Epoch 1/10\n",
      "\u001b[1m10373/10373\u001b[0m \u001b[32m━━━━━━━━━━━━━━━━━━━━\u001b[0m\u001b[37m\u001b[0m \u001b[1m16s\u001b[0m 1ms/step - accuracy: 0.8507 - loss: 0.3780 - val_accuracy: 0.9023 - val_loss: 0.2380\n",
      "Epoch 2/10\n",
      "\u001b[1m10373/10373\u001b[0m \u001b[32m━━━━━━━━━━━━━━━━━━━━\u001b[0m\u001b[37m\u001b[0m \u001b[1m14s\u001b[0m 1ms/step - accuracy: 0.9066 - loss: 0.2347 - val_accuracy: 0.9113 - val_loss: 0.2231\n",
      "Epoch 3/10\n",
      "\u001b[1m10373/10373\u001b[0m \u001b[32m━━━━━━━━━━━━━━━━━━━━\u001b[0m\u001b[37m\u001b[0m \u001b[1m14s\u001b[0m 1ms/step - accuracy: 0.9146 - loss: 0.2128 - val_accuracy: 0.9134 - val_loss: 0.2178\n",
      "Epoch 4/10\n",
      "\u001b[1m10373/10373\u001b[0m \u001b[32m━━━━━━━━━━━━━━━━━━━━\u001b[0m\u001b[37m\u001b[0m \u001b[1m14s\u001b[0m 1ms/step - accuracy: 0.9221 - loss: 0.1965 - val_accuracy: 0.9161 - val_loss: 0.2120\n",
      "Epoch 5/10\n",
      "\u001b[1m10373/10373\u001b[0m \u001b[32m━━━━━━━━━━━━━━━━━━━━\u001b[0m\u001b[37m\u001b[0m \u001b[1m14s\u001b[0m 1ms/step - accuracy: 0.9273 - loss: 0.1843 - val_accuracy: 0.9180 - val_loss: 0.2173\n",
      "Epoch 6/10\n",
      "\u001b[1m10373/10373\u001b[0m \u001b[32m━━━━━━━━━━━━━━━━━━━━\u001b[0m\u001b[37m\u001b[0m \u001b[1m14s\u001b[0m 1ms/step - accuracy: 0.9309 - loss: 0.1752 - val_accuracy: 0.9185 - val_loss: 0.2133\n",
      "Epoch 7/10\n",
      "\u001b[1m10373/10373\u001b[0m \u001b[32m━━━━━━━━━━━━━━━━━━━━\u001b[0m\u001b[37m\u001b[0m \u001b[1m14s\u001b[0m 1ms/step - accuracy: 0.9337 - loss: 0.1695 - val_accuracy: 0.9155 - val_loss: 0.2257\n",
      "Epoch 8/10\n",
      "\u001b[1m10373/10373\u001b[0m \u001b[32m━━━━━━━━━━━━━━━━━━━━\u001b[0m\u001b[37m\u001b[0m \u001b[1m14s\u001b[0m 1ms/step - accuracy: 0.9376 - loss: 0.1604 - val_accuracy: 0.9193 - val_loss: 0.2185\n",
      "Epoch 9/10\n",
      "\u001b[1m10373/10373\u001b[0m \u001b[32m━━━━━━━━━━━━━━━━━━━━\u001b[0m\u001b[37m\u001b[0m \u001b[1m14s\u001b[0m 1ms/step - accuracy: 0.9398 - loss: 0.1563 - val_accuracy: 0.9202 - val_loss: 0.2119\n",
      "Epoch 10/10\n",
      "\u001b[1m10373/10373\u001b[0m \u001b[32m━━━━━━━━━━━━━━━━━━━━\u001b[0m\u001b[37m\u001b[0m \u001b[1m14s\u001b[0m 1ms/step - accuracy: 0.9420 - loss: 0.1504 - val_accuracy: 0.9194 - val_loss: 0.2164\n",
      "\u001b[1m2594/2594\u001b[0m \u001b[32m━━━━━━━━━━━━━━━━━━━━\u001b[0m\u001b[37m\u001b[0m \u001b[1m1s\u001b[0m 369us/step - accuracy: 0.9197 - loss: 0.2180\n"
     ]
    },
    {
     "name": "stderr",
     "output_type": "stream",
     "text": [
      "2024/09/22 17:18:08 WARNING mlflow.keras.save: You are saving a Keras model without specifying model signature.\n",
      "2024/09/22 17:18:21 WARNING mlflow.models.model: Input example should be provided to infer model signature if the model signature is not provided when logging the model.\n",
      "2024/09/22 17:18:21 INFO mlflow.tracking._tracking_service.client: 🏃 View run traveling-ant-511 at: https://mlflow-service-1073438601911.us-west2.run.app/#/experiments/1/runs/1753597d3f004c7db911c83507f1c085.\n",
      "2024/09/22 17:18:21 INFO mlflow.tracking._tracking_service.client: 🧪 View experiment at: https://mlflow-service-1073438601911.us-west2.run.app/#/experiments/1.\n"
     ]
    },
    {
     "name": "stdout",
     "output_type": "stream",
     "text": [
      "Model saved as Simple_LSTM_4000_16 with accuracy: 0.92\n",
      "Epoch 1/10\n",
      "\u001b[1m10373/10373\u001b[0m \u001b[32m━━━━━━━━━━━━━━━━━━━━\u001b[0m\u001b[37m\u001b[0m \u001b[1m22s\u001b[0m 2ms/step - accuracy: 0.8646 - loss: 0.3382 - val_accuracy: 0.9085 - val_loss: 0.2215\n",
      "Epoch 2/10\n",
      "\u001b[1m10373/10373\u001b[0m \u001b[32m━━━━━━━━━━━━━━━━━━━━\u001b[0m\u001b[37m\u001b[0m \u001b[1m22s\u001b[0m 2ms/step - accuracy: 0.9129 - loss: 0.2130 - val_accuracy: 0.9151 - val_loss: 0.2098\n",
      "Epoch 3/10\n",
      "\u001b[1m10373/10373\u001b[0m \u001b[32m━━━━━━━━━━━━━━━━━━━━\u001b[0m\u001b[37m\u001b[0m \u001b[1m21s\u001b[0m 2ms/step - accuracy: 0.9232 - loss: 0.1911 - val_accuracy: 0.9181 - val_loss: 0.2056\n",
      "Epoch 4/10\n",
      "\u001b[1m10373/10373\u001b[0m \u001b[32m━━━━━━━━━━━━━━━━━━━━\u001b[0m\u001b[37m\u001b[0m \u001b[1m22s\u001b[0m 2ms/step - accuracy: 0.9308 - loss: 0.1739 - val_accuracy: 0.9208 - val_loss: 0.2039\n",
      "Epoch 5/10\n",
      "\u001b[1m10373/10373\u001b[0m \u001b[32m━━━━━━━━━━━━━━━━━━━━\u001b[0m\u001b[37m\u001b[0m \u001b[1m22s\u001b[0m 2ms/step - accuracy: 0.9372 - loss: 0.1604 - val_accuracy: 0.9199 - val_loss: 0.2045\n",
      "Epoch 6/10\n",
      "\u001b[1m10373/10373\u001b[0m \u001b[32m━━━━━━━━━━━━━━━━━━━━\u001b[0m\u001b[37m\u001b[0m \u001b[1m22s\u001b[0m 2ms/step - accuracy: 0.9411 - loss: 0.1501 - val_accuracy: 0.9204 - val_loss: 0.2090\n",
      "Epoch 7/10\n",
      "\u001b[1m10373/10373\u001b[0m \u001b[32m━━━━━━━━━━━━━━━━━━━━\u001b[0m\u001b[37m\u001b[0m \u001b[1m21s\u001b[0m 2ms/step - accuracy: 0.9457 - loss: 0.1404 - val_accuracy: 0.9220 - val_loss: 0.2069\n",
      "Epoch 8/10\n",
      "\u001b[1m10373/10373\u001b[0m \u001b[32m━━━━━━━━━━━━━━━━━━━━\u001b[0m\u001b[37m\u001b[0m \u001b[1m21s\u001b[0m 2ms/step - accuracy: 0.9497 - loss: 0.1307 - val_accuracy: 0.9217 - val_loss: 0.2187\n",
      "Epoch 9/10\n",
      "\u001b[1m10373/10373\u001b[0m \u001b[32m━━━━━━━━━━━━━━━━━━━━\u001b[0m\u001b[37m\u001b[0m \u001b[1m21s\u001b[0m 2ms/step - accuracy: 0.9532 - loss: 0.1227 - val_accuracy: 0.9202 - val_loss: 0.2333\n",
      "Epoch 10/10\n",
      "\u001b[1m10373/10373\u001b[0m \u001b[32m━━━━━━━━━━━━━━━━━━━━\u001b[0m\u001b[37m\u001b[0m \u001b[1m21s\u001b[0m 2ms/step - accuracy: 0.9563 - loss: 0.1150 - val_accuracy: 0.9231 - val_loss: 0.2263\n",
      "\u001b[1m2594/2594\u001b[0m \u001b[32m━━━━━━━━━━━━━━━━━━━━\u001b[0m\u001b[37m\u001b[0m \u001b[1m1s\u001b[0m 437us/step - accuracy: 0.9224 - loss: 0.2299\n"
     ]
    },
    {
     "name": "stderr",
     "output_type": "stream",
     "text": [
      "2024/09/22 17:22:01 WARNING mlflow.keras.save: You are saving a Keras model without specifying model signature.\n",
      "2024/09/22 17:26:03 WARNING mlflow.models.model: Input example should be provided to infer model signature if the model signature is not provided when logging the model.\n",
      "2024/09/22 17:26:04 INFO mlflow.tracking._tracking_service.client: 🏃 View run capricious-fox-953 at: https://mlflow-service-1073438601911.us-west2.run.app/#/experiments/1/runs/9782a46a8b4649f2904f2d13d86d0018.\n",
      "2024/09/22 17:26:04 INFO mlflow.tracking._tracking_service.client: 🧪 View experiment at: https://mlflow-service-1073438601911.us-west2.run.app/#/experiments/1.\n"
     ]
    },
    {
     "name": "stdout",
     "output_type": "stream",
     "text": [
      "Model saved as Simple_LSTM_4000_32 with accuracy: 0.92\n",
      "Epoch 1/10\n",
      "\u001b[1m10373/10373\u001b[0m \u001b[32m━━━━━━━━━━━━━━━━━━━━\u001b[0m\u001b[37m\u001b[0m \u001b[1m37s\u001b[0m 4ms/step - accuracy: 0.8715 - loss: 0.3190 - val_accuracy: 0.9114 - val_loss: 0.2134\n",
      "Epoch 2/10\n",
      "\u001b[1m10373/10373\u001b[0m \u001b[32m━━━━━━━━━━━━━━━━━━━━\u001b[0m\u001b[37m\u001b[0m \u001b[1m36s\u001b[0m 3ms/step - accuracy: 0.9181 - loss: 0.2027 - val_accuracy: 0.9182 - val_loss: 0.2003\n",
      "Epoch 3/10\n",
      "\u001b[1m10373/10373\u001b[0m \u001b[32m━━━━━━━━━━━━━━━━━━━━\u001b[0m\u001b[37m\u001b[0m \u001b[1m39s\u001b[0m 4ms/step - accuracy: 0.9301 - loss: 0.1761 - val_accuracy: 0.9226 - val_loss: 0.1941\n",
      "Epoch 4/10\n",
      "\u001b[1m10373/10373\u001b[0m \u001b[32m━━━━━━━━━━━━━━━━━━━━\u001b[0m\u001b[37m\u001b[0m \u001b[1m38s\u001b[0m 4ms/step - accuracy: 0.9389 - loss: 0.1552 - val_accuracy: 0.9237 - val_loss: 0.1983\n",
      "Epoch 5/10\n",
      "\u001b[1m10373/10373\u001b[0m \u001b[32m━━━━━━━━━━━━━━━━━━━━\u001b[0m\u001b[37m\u001b[0m \u001b[1m37s\u001b[0m 4ms/step - accuracy: 0.9452 - loss: 0.1400 - val_accuracy: 0.9248 - val_loss: 0.2034\n",
      "Epoch 6/10\n",
      "\u001b[1m10373/10373\u001b[0m \u001b[32m━━━━━━━━━━━━━━━━━━━━\u001b[0m\u001b[37m\u001b[0m \u001b[1m37s\u001b[0m 4ms/step - accuracy: 0.9510 - loss: 0.1264 - val_accuracy: 0.9249 - val_loss: 0.2076\n",
      "Epoch 7/10\n",
      "\u001b[1m10373/10373\u001b[0m \u001b[32m━━━━━━━━━━━━━━━━━━━━\u001b[0m\u001b[37m\u001b[0m \u001b[1m38s\u001b[0m 4ms/step - accuracy: 0.9568 - loss: 0.1128 - val_accuracy: 0.9253 - val_loss: 0.2114\n",
      "Epoch 8/10\n",
      "\u001b[1m10373/10373\u001b[0m \u001b[32m━━━━━━━━━━━━━━━━━━━━\u001b[0m\u001b[37m\u001b[0m \u001b[1m39s\u001b[0m 4ms/step - accuracy: 0.9615 - loss: 0.1024 - val_accuracy: 0.9256 - val_loss: 0.2211\n",
      "Epoch 9/10\n",
      "\u001b[1m10373/10373\u001b[0m \u001b[32m━━━━━━━━━━━━━━━━━━━━\u001b[0m\u001b[37m\u001b[0m \u001b[1m37s\u001b[0m 4ms/step - accuracy: 0.9658 - loss: 0.0932 - val_accuracy: 0.9258 - val_loss: 0.2318\n",
      "Epoch 10/10\n",
      "\u001b[1m10373/10373\u001b[0m \u001b[32m━━━━━━━━━━━━━━━━━━━━\u001b[0m\u001b[37m\u001b[0m \u001b[1m35s\u001b[0m 3ms/step - accuracy: 0.9685 - loss: 0.0846 - val_accuracy: 0.9259 - val_loss: 0.2378\n",
      "\u001b[1m2594/2594\u001b[0m \u001b[32m━━━━━━━━━━━━━━━━━━━━\u001b[0m\u001b[37m\u001b[0m \u001b[1m2s\u001b[0m 682us/step - accuracy: 0.9262 - loss: 0.2367\n"
     ]
    },
    {
     "name": "stderr",
     "output_type": "stream",
     "text": [
      "2024/09/22 17:32:23 WARNING mlflow.keras.save: You are saving a Keras model without specifying model signature.\n",
      "2024/09/22 17:33:22 WARNING mlflow.models.model: Input example should be provided to infer model signature if the model signature is not provided when logging the model.\n"
     ]
    },
    {
     "name": "stdout",
     "output_type": "stream",
     "text": [
      "Model saved as Simple_LSTM_4000_64 with accuracy: 0.93\n"
     ]
    },
    {
     "name": "stderr",
     "output_type": "stream",
     "text": [
      "2024/09/22 17:33:22 INFO mlflow.tracking._tracking_service.client: 🏃 View run worried-snipe-661 at: https://mlflow-service-1073438601911.us-west2.run.app/#/experiments/1/runs/6c59ee8c037b4048b8bde02f000b279f.\n",
      "2024/09/22 17:33:22 INFO mlflow.tracking._tracking_service.client: 🧪 View experiment at: https://mlflow-service-1073438601911.us-west2.run.app/#/experiments/1.\n"
     ]
    },
    {
     "name": "stdout",
     "output_type": "stream",
     "text": [
      "Epoch 1/10\n",
      "\u001b[1m10373/10373\u001b[0m \u001b[32m━━━━━━━━━━━━━━━━━━━━\u001b[0m\u001b[37m\u001b[0m \u001b[1m99s\u001b[0m 9ms/step - accuracy: 0.8774 - loss: 0.3033 - val_accuracy: 0.9148 - val_loss: 0.2064\n",
      "Epoch 2/10\n",
      "\u001b[1m10373/10373\u001b[0m \u001b[32m━━━━━━━━━━━━━━━━━━━━\u001b[0m\u001b[37m\u001b[0m \u001b[1m90s\u001b[0m 9ms/step - accuracy: 0.9217 - loss: 0.1937 - val_accuracy: 0.9222 - val_loss: 0.1944\n",
      "Epoch 3/10\n",
      "\u001b[1m10373/10373\u001b[0m \u001b[32m━━━━━━━━━━━━━━━━━━━━\u001b[0m\u001b[37m\u001b[0m \u001b[1m101s\u001b[0m 10ms/step - accuracy: 0.9332 - loss: 0.1670 - val_accuracy: 0.9253 - val_loss: 0.1913\n",
      "Epoch 4/10\n",
      "\u001b[1m10373/10373\u001b[0m \u001b[32m━━━━━━━━━━━━━━━━━━━━\u001b[0m\u001b[37m\u001b[0m \u001b[1m102s\u001b[0m 10ms/step - accuracy: 0.9433 - loss: 0.1446 - val_accuracy: 0.9265 - val_loss: 0.1913\n",
      "Epoch 5/10\n",
      "\u001b[1m10373/10373\u001b[0m \u001b[32m━━━━━━━━━━━━━━━━━━━━\u001b[0m\u001b[37m\u001b[0m \u001b[1m98s\u001b[0m 9ms/step - accuracy: 0.9516 - loss: 0.1246 - val_accuracy: 0.9270 - val_loss: 0.1974\n",
      "Epoch 6/10\n",
      "\u001b[1m10373/10373\u001b[0m \u001b[32m━━━━━━━━━━━━━━━━━━━━\u001b[0m\u001b[37m\u001b[0m \u001b[1m98s\u001b[0m 9ms/step - accuracy: 0.9585 - loss: 0.1081 - val_accuracy: 0.9277 - val_loss: 0.2046\n",
      "Epoch 7/10\n",
      "\u001b[1m10373/10373\u001b[0m \u001b[32m━━━━━━━━━━━━━━━━━━━━\u001b[0m\u001b[37m\u001b[0m \u001b[1m110s\u001b[0m 11ms/step - accuracy: 0.9642 - loss: 0.0934 - val_accuracy: 0.9287 - val_loss: 0.2228\n",
      "Epoch 8/10\n",
      "\u001b[1m10373/10373\u001b[0m \u001b[32m━━━━━━━━━━━━━━━━━━━━\u001b[0m\u001b[37m\u001b[0m \u001b[1m108s\u001b[0m 10ms/step - accuracy: 0.9700 - loss: 0.0800 - val_accuracy: 0.9280 - val_loss: 0.2294\n",
      "Epoch 9/10\n",
      "\u001b[1m10373/10373\u001b[0m \u001b[32m━━━━━━━━━━━━━━━━━━━━\u001b[0m\u001b[37m\u001b[0m \u001b[1m105s\u001b[0m 10ms/step - accuracy: 0.9738 - loss: 0.0707 - val_accuracy: 0.9277 - val_loss: 0.2331\n",
      "Epoch 10/10\n",
      "\u001b[1m10373/10373\u001b[0m \u001b[32m━━━━━━━━━━━━━━━━━━━━\u001b[0m\u001b[37m\u001b[0m \u001b[1m76s\u001b[0m 7ms/step - accuracy: 0.9775 - loss: 0.0607 - val_accuracy: 0.9294 - val_loss: 0.2754\n",
      "\u001b[1m2594/2594\u001b[0m \u001b[32m━━━━━━━━━━━━━━━━━━━━\u001b[0m\u001b[37m\u001b[0m \u001b[1m4s\u001b[0m 2ms/step - accuracy: 0.9295 - loss: 0.2779\n"
     ]
    },
    {
     "name": "stderr",
     "output_type": "stream",
     "text": [
      "2024/09/22 17:49:59 WARNING mlflow.keras.save: You are saving a Keras model without specifying model signature.\n",
      "2024/09/22 17:51:15 WARNING mlflow.models.model: Input example should be provided to infer model signature if the model signature is not provided when logging the model.\n",
      "2024/09/22 17:51:15 INFO mlflow.tracking._tracking_service.client: 🏃 View run sassy-cat-13 at: https://mlflow-service-1073438601911.us-west2.run.app/#/experiments/1/runs/08e901c25faa46f7a4469d2f946b6827.\n",
      "2024/09/22 17:51:15 INFO mlflow.tracking._tracking_service.client: 🧪 View experiment at: https://mlflow-service-1073438601911.us-west2.run.app/#/experiments/1.\n"
     ]
    },
    {
     "name": "stdout",
     "output_type": "stream",
     "text": [
      "Model saved as Simple_LSTM_4000_128 with accuracy: 0.93\n",
      "Epoch 1/10\n",
      "\u001b[1m10373/10373\u001b[0m \u001b[32m━━━━━━━━━━━━━━━━━━━━\u001b[0m\u001b[37m\u001b[0m \u001b[1m14s\u001b[0m 1ms/step - accuracy: 0.8445 - loss: 0.3893 - val_accuracy: 0.9010 - val_loss: 0.2387\n",
      "Epoch 2/10\n",
      "\u001b[1m10373/10373\u001b[0m \u001b[32m━━━━━━━━━━━━━━━━━━━━\u001b[0m\u001b[37m\u001b[0m \u001b[1m14s\u001b[0m 1ms/step - accuracy: 0.9047 - loss: 0.2385 - val_accuracy: 0.9075 - val_loss: 0.2268\n",
      "Epoch 3/10\n",
      "\u001b[1m10373/10373\u001b[0m \u001b[32m━━━━━━━━━━━━━━━━━━━━\u001b[0m\u001b[37m\u001b[0m \u001b[1m14s\u001b[0m 1ms/step - accuracy: 0.9160 - loss: 0.2122 - val_accuracy: 0.9113 - val_loss: 0.2259\n",
      "Epoch 4/10\n",
      "\u001b[1m10373/10373\u001b[0m \u001b[32m━━━━━━━━━━━━━━━━━━━━\u001b[0m\u001b[37m\u001b[0m \u001b[1m14s\u001b[0m 1ms/step - accuracy: 0.9224 - loss: 0.1962 - val_accuracy: 0.9135 - val_loss: 0.2229\n",
      "Epoch 5/10\n",
      "\u001b[1m10373/10373\u001b[0m \u001b[32m━━━━━━━━━━━━━━━━━━━━\u001b[0m\u001b[37m\u001b[0m \u001b[1m14s\u001b[0m 1ms/step - accuracy: 0.9268 - loss: 0.1865 - val_accuracy: 0.9147 - val_loss: 0.2301\n",
      "Epoch 6/10\n",
      "\u001b[1m10373/10373\u001b[0m \u001b[32m━━━━━━━━━━━━━━━━━━━━\u001b[0m\u001b[37m\u001b[0m \u001b[1m14s\u001b[0m 1ms/step - accuracy: 0.9311 - loss: 0.1757 - val_accuracy: 0.9156 - val_loss: 0.2276\n",
      "Epoch 7/10\n",
      "\u001b[1m10373/10373\u001b[0m \u001b[32m━━━━━━━━━━━━━━━━━━━━\u001b[0m\u001b[37m\u001b[0m \u001b[1m14s\u001b[0m 1ms/step - accuracy: 0.9353 - loss: 0.1662 - val_accuracy: 0.9160 - val_loss: 0.2289\n",
      "Epoch 8/10\n",
      "\u001b[1m10373/10373\u001b[0m \u001b[32m━━━━━━━━━━━━━━━━━━━━\u001b[0m\u001b[37m\u001b[0m \u001b[1m14s\u001b[0m 1ms/step - accuracy: 0.9388 - loss: 0.1581 - val_accuracy: 0.9161 - val_loss: 0.2287\n",
      "Epoch 9/10\n",
      "\u001b[1m10373/10373\u001b[0m \u001b[32m━━━━━━━━━━━━━━━━━━━━\u001b[0m\u001b[37m\u001b[0m \u001b[1m14s\u001b[0m 1ms/step - accuracy: 0.9409 - loss: 0.1529 - val_accuracy: 0.9166 - val_loss: 0.2306\n",
      "Epoch 10/10\n",
      "\u001b[1m10373/10373\u001b[0m \u001b[32m━━━━━━━━━━━━━━━━━━━━\u001b[0m\u001b[37m\u001b[0m \u001b[1m14s\u001b[0m 1ms/step - accuracy: 0.9437 - loss: 0.1470 - val_accuracy: 0.9156 - val_loss: 0.2381\n",
      "\u001b[1m2594/2594\u001b[0m \u001b[32m━━━━━━━━━━━━━━━━━━━━\u001b[0m\u001b[37m\u001b[0m \u001b[1m1s\u001b[0m 359us/step - accuracy: 0.9165 - loss: 0.2375\n"
     ]
    },
    {
     "name": "stderr",
     "output_type": "stream",
     "text": [
      "2024/09/22 17:53:39 WARNING mlflow.keras.save: You are saving a Keras model without specifying model signature.\n",
      "2024/09/22 17:53:48 WARNING mlflow.models.model: Input example should be provided to infer model signature if the model signature is not provided when logging the model.\n",
      "2024/09/22 17:53:48 INFO mlflow.tracking._tracking_service.client: 🏃 View run indecisive-vole-99 at: https://mlflow-service-1073438601911.us-west2.run.app/#/experiments/1/runs/3303725a6aef467c9893a35a786fa667.\n",
      "2024/09/22 17:53:48 INFO mlflow.tracking._tracking_service.client: 🧪 View experiment at: https://mlflow-service-1073438601911.us-west2.run.app/#/experiments/1.\n"
     ]
    },
    {
     "name": "stdout",
     "output_type": "stream",
     "text": [
      "Model saved as Simple_LSTM_5000_16 with accuracy: 0.92\n",
      "Epoch 1/10\n",
      "\u001b[1m10373/10373\u001b[0m \u001b[32m━━━━━━━━━━━━━━━━━━━━\u001b[0m\u001b[37m\u001b[0m \u001b[1m20s\u001b[0m 2ms/step - accuracy: 0.8608 - loss: 0.3466 - val_accuracy: 0.9062 - val_loss: 0.2270\n",
      "Epoch 2/10\n",
      "\u001b[1m10373/10373\u001b[0m \u001b[32m━━━━━━━━━━━━━━━━━━━━\u001b[0m\u001b[37m\u001b[0m \u001b[1m20s\u001b[0m 2ms/step - accuracy: 0.9118 - loss: 0.2191 - val_accuracy: 0.9120 - val_loss: 0.2131\n",
      "Epoch 3/10\n",
      "\u001b[1m10373/10373\u001b[0m \u001b[32m━━━━━━━━━━━━━━━━━━━━\u001b[0m\u001b[37m\u001b[0m \u001b[1m20s\u001b[0m 2ms/step - accuracy: 0.9233 - loss: 0.1930 - val_accuracy: 0.9161 - val_loss: 0.2123\n",
      "Epoch 4/10\n",
      "\u001b[1m10373/10373\u001b[0m \u001b[32m━━━━━━━━━━━━━━━━━━━━\u001b[0m\u001b[37m\u001b[0m \u001b[1m20s\u001b[0m 2ms/step - accuracy: 0.9314 - loss: 0.1751 - val_accuracy: 0.9185 - val_loss: 0.2083\n",
      "Epoch 5/10\n",
      "\u001b[1m10373/10373\u001b[0m \u001b[32m━━━━━━━━━━━━━━━━━━━━\u001b[0m\u001b[37m\u001b[0m \u001b[1m20s\u001b[0m 2ms/step - accuracy: 0.9377 - loss: 0.1605 - val_accuracy: 0.9175 - val_loss: 0.2097\n",
      "Epoch 6/10\n",
      "\u001b[1m10373/10373\u001b[0m \u001b[32m━━━━━━━━━━━━━━━━━━━━\u001b[0m\u001b[37m\u001b[0m \u001b[1m20s\u001b[0m 2ms/step - accuracy: 0.9431 - loss: 0.1479 - val_accuracy: 0.9195 - val_loss: 0.2154\n",
      "Epoch 7/10\n",
      "\u001b[1m10373/10373\u001b[0m \u001b[32m━━━━━━━━━━━━━━━━━━━━\u001b[0m\u001b[37m\u001b[0m \u001b[1m20s\u001b[0m 2ms/step - accuracy: 0.9469 - loss: 0.1387 - val_accuracy: 0.9189 - val_loss: 0.2203\n",
      "Epoch 8/10\n",
      "\u001b[1m10373/10373\u001b[0m \u001b[32m━━━━━━━━━━━━━━━━━━━━\u001b[0m\u001b[37m\u001b[0m \u001b[1m20s\u001b[0m 2ms/step - accuracy: 0.9525 - loss: 0.1257 - val_accuracy: 0.9195 - val_loss: 0.2264\n",
      "Epoch 9/10\n",
      "\u001b[1m10373/10373\u001b[0m \u001b[32m━━━━━━━━━━━━━━━━━━━━\u001b[0m\u001b[37m\u001b[0m \u001b[1m20s\u001b[0m 2ms/step - accuracy: 0.9552 - loss: 0.1199 - val_accuracy: 0.9196 - val_loss: 0.2409\n",
      "Epoch 10/10\n",
      "\u001b[1m10373/10373\u001b[0m \u001b[32m━━━━━━━━━━━━━━━━━━━━\u001b[0m\u001b[37m\u001b[0m \u001b[1m20s\u001b[0m 2ms/step - accuracy: 0.9589 - loss: 0.1107 - val_accuracy: 0.9209 - val_loss: 0.2379\n",
      "\u001b[1m2594/2594\u001b[0m \u001b[32m━━━━━━━━━━━━━━━━━━━━\u001b[0m\u001b[37m\u001b[0m \u001b[1m1s\u001b[0m 442us/step - accuracy: 0.9215 - loss: 0.2377\n"
     ]
    },
    {
     "name": "stderr",
     "output_type": "stream",
     "text": [
      "2024/09/22 17:57:15 WARNING mlflow.keras.save: You are saving a Keras model without specifying model signature.\n",
      "2024/09/22 17:57:27 WARNING mlflow.models.model: Input example should be provided to infer model signature if the model signature is not provided when logging the model.\n",
      "2024/09/22 17:57:27 INFO mlflow.tracking._tracking_service.client: 🏃 View run crawling-goose-930 at: https://mlflow-service-1073438601911.us-west2.run.app/#/experiments/1/runs/ece8d7d6cebc4a5a991d0b60d3161fa1.\n",
      "2024/09/22 17:57:27 INFO mlflow.tracking._tracking_service.client: 🧪 View experiment at: https://mlflow-service-1073438601911.us-west2.run.app/#/experiments/1.\n"
     ]
    },
    {
     "name": "stdout",
     "output_type": "stream",
     "text": [
      "Model saved as Simple_LSTM_5000_32 with accuracy: 0.92\n",
      "Epoch 1/10\n",
      "\u001b[1m10373/10373\u001b[0m \u001b[32m━━━━━━━━━━━━━━━━━━━━\u001b[0m\u001b[37m\u001b[0m \u001b[1m37s\u001b[0m 4ms/step - accuracy: 0.8685 - loss: 0.3239 - val_accuracy: 0.9089 - val_loss: 0.2210\n",
      "Epoch 2/10\n",
      "\u001b[1m10373/10373\u001b[0m \u001b[32m━━━━━━━━━━━━━━━━━━━━\u001b[0m\u001b[37m\u001b[0m \u001b[1m37s\u001b[0m 4ms/step - accuracy: 0.9159 - loss: 0.2081 - val_accuracy: 0.9154 - val_loss: 0.2064\n",
      "Epoch 3/10\n",
      "\u001b[1m10373/10373\u001b[0m \u001b[32m━━━━━━━━━━━━━━━━━━━━\u001b[0m\u001b[37m\u001b[0m \u001b[1m37s\u001b[0m 4ms/step - accuracy: 0.9288 - loss: 0.1788 - val_accuracy: 0.9184 - val_loss: 0.2008\n",
      "Epoch 4/10\n",
      "\u001b[1m10373/10373\u001b[0m \u001b[32m━━━━━━━━━━━━━━━━━━━━\u001b[0m\u001b[37m\u001b[0m \u001b[1m38s\u001b[0m 4ms/step - accuracy: 0.9384 - loss: 0.1571 - val_accuracy: 0.9213 - val_loss: 0.2009\n",
      "Epoch 5/10\n",
      "\u001b[1m10373/10373\u001b[0m \u001b[32m━━━━━━━━━━━━━━━━━━━━\u001b[0m\u001b[37m\u001b[0m \u001b[1m41s\u001b[0m 4ms/step - accuracy: 0.9455 - loss: 0.1398 - val_accuracy: 0.9225 - val_loss: 0.2025\n",
      "Epoch 6/10\n",
      "\u001b[1m10373/10373\u001b[0m \u001b[32m━━━━━━━━━━━━━━━━━━━━\u001b[0m\u001b[37m\u001b[0m \u001b[1m37s\u001b[0m 4ms/step - accuracy: 0.9527 - loss: 0.1242 - val_accuracy: 0.9226 - val_loss: 0.2142\n",
      "Epoch 7/10\n",
      "\u001b[1m10373/10373\u001b[0m \u001b[32m━━━━━━━━━━━━━━━━━━━━\u001b[0m\u001b[37m\u001b[0m \u001b[1m34s\u001b[0m 3ms/step - accuracy: 0.9582 - loss: 0.1089 - val_accuracy: 0.9221 - val_loss: 0.2326\n",
      "Epoch 8/10\n",
      "\u001b[1m10373/10373\u001b[0m \u001b[32m━━━━━━━━━━━━━━━━━━━━\u001b[0m\u001b[37m\u001b[0m \u001b[1m38s\u001b[0m 4ms/step - accuracy: 0.9634 - loss: 0.0981 - val_accuracy: 0.9234 - val_loss: 0.2336\n",
      "Epoch 9/10\n",
      "\u001b[1m10373/10373\u001b[0m \u001b[32m━━━━━━━━━━━━━━━━━━━━\u001b[0m\u001b[37m\u001b[0m \u001b[1m38s\u001b[0m 4ms/step - accuracy: 0.9677 - loss: 0.0875 - val_accuracy: 0.9238 - val_loss: 0.2505\n",
      "Epoch 10/10\n",
      "\u001b[1m10373/10373\u001b[0m \u001b[32m━━━━━━━━━━━━━━━━━━━━\u001b[0m\u001b[37m\u001b[0m \u001b[1m37s\u001b[0m 4ms/step - accuracy: 0.9707 - loss: 0.0796 - val_accuracy: 0.9224 - val_loss: 0.2646\n",
      "\u001b[1m2594/2594\u001b[0m \u001b[32m━━━━━━━━━━━━━━━━━━━━\u001b[0m\u001b[37m\u001b[0m \u001b[1m2s\u001b[0m 712us/step - accuracy: 0.9229 - loss: 0.2630\n"
     ]
    },
    {
     "name": "stderr",
     "output_type": "stream",
     "text": [
      "2024/09/22 18:03:48 WARNING mlflow.keras.save: You are saving a Keras model without specifying model signature.\n",
      "2024/09/22 18:04:05 WARNING mlflow.models.model: Input example should be provided to infer model signature if the model signature is not provided when logging the model.\n",
      "2024/09/22 18:04:05 INFO mlflow.tracking._tracking_service.client: 🏃 View run trusting-mule-681 at: https://mlflow-service-1073438601911.us-west2.run.app/#/experiments/1/runs/8c7dbf0bdd464701b64e393be65473f2.\n",
      "2024/09/22 18:04:05 INFO mlflow.tracking._tracking_service.client: 🧪 View experiment at: https://mlflow-service-1073438601911.us-west2.run.app/#/experiments/1.\n"
     ]
    },
    {
     "name": "stdout",
     "output_type": "stream",
     "text": [
      "Model saved as Simple_LSTM_5000_64 with accuracy: 0.92\n",
      "Epoch 1/10\n",
      "\u001b[1m10373/10373\u001b[0m \u001b[32m━━━━━━━━━━━━━━━━━━━━\u001b[0m\u001b[37m\u001b[0m \u001b[1m78s\u001b[0m 7ms/step - accuracy: 0.8722 - loss: 0.3152 - val_accuracy: 0.9114 - val_loss: 0.2142\n",
      "Epoch 2/10\n",
      "\u001b[1m10373/10373\u001b[0m \u001b[32m━━━━━━━━━━━━━━━━━━━━\u001b[0m\u001b[37m\u001b[0m \u001b[1m82s\u001b[0m 8ms/step - accuracy: 0.9205 - loss: 0.1975 - val_accuracy: 0.9192 - val_loss: 0.2010\n",
      "Epoch 3/10\n",
      "\u001b[1m10373/10373\u001b[0m \u001b[32m━━━━━━━━━━━━━━━━━━━━\u001b[0m\u001b[37m\u001b[0m \u001b[1m80s\u001b[0m 8ms/step - accuracy: 0.9341 - loss: 0.1661 - val_accuracy: 0.9208 - val_loss: 0.1964\n",
      "Epoch 4/10\n",
      "\u001b[1m10373/10373\u001b[0m \u001b[32m━━━━━━━━━━━━━━━━━━━━\u001b[0m\u001b[37m\u001b[0m \u001b[1m79s\u001b[0m 8ms/step - accuracy: 0.9440 - loss: 0.1438 - val_accuracy: 0.9243 - val_loss: 0.2055\n",
      "Epoch 5/10\n",
      "\u001b[1m10373/10373\u001b[0m \u001b[32m━━━━━━━━━━━━━━━━━━━━\u001b[0m\u001b[37m\u001b[0m \u001b[1m82s\u001b[0m 8ms/step - accuracy: 0.9531 - loss: 0.1221 - val_accuracy: 0.9229 - val_loss: 0.2114\n",
      "Epoch 6/10\n",
      "\u001b[1m10373/10373\u001b[0m \u001b[32m━━━━━━━━━━━━━━━━━━━━\u001b[0m\u001b[37m\u001b[0m \u001b[1m79s\u001b[0m 8ms/step - accuracy: 0.9604 - loss: 0.1037 - val_accuracy: 0.9248 - val_loss: 0.2211\n",
      "Epoch 7/10\n",
      "\u001b[1m10373/10373\u001b[0m \u001b[32m━━━━━━━━━━━━━━━━━━━━\u001b[0m\u001b[37m\u001b[0m \u001b[1m78s\u001b[0m 8ms/step - accuracy: 0.9673 - loss: 0.0873 - val_accuracy: 0.9250 - val_loss: 0.2295\n",
      "Epoch 8/10\n",
      "\u001b[1m10373/10373\u001b[0m \u001b[32m━━━━━━━━━━━━━━━━━━━━\u001b[0m\u001b[37m\u001b[0m \u001b[1m79s\u001b[0m 8ms/step - accuracy: 0.9714 - loss: 0.0764 - val_accuracy: 0.9253 - val_loss: 0.2440\n",
      "Epoch 9/10\n",
      "\u001b[1m10373/10373\u001b[0m \u001b[32m━━━━━━━━━━━━━━━━━━━━\u001b[0m\u001b[37m\u001b[0m \u001b[1m78s\u001b[0m 7ms/step - accuracy: 0.9766 - loss: 0.0638 - val_accuracy: 0.9254 - val_loss: 0.2662\n",
      "Epoch 10/10\n",
      "\u001b[1m10373/10373\u001b[0m \u001b[32m━━━━━━━━━━━━━━━━━━━━\u001b[0m\u001b[37m\u001b[0m \u001b[1m78s\u001b[0m 8ms/step - accuracy: 0.9795 - loss: 0.0555 - val_accuracy: 0.9262 - val_loss: 0.2892\n",
      "\u001b[1m2594/2594\u001b[0m \u001b[32m━━━━━━━━━━━━━━━━━━━━\u001b[0m\u001b[37m\u001b[0m \u001b[1m4s\u001b[0m 2ms/step - accuracy: 0.9263 - loss: 0.2913\n"
     ]
    },
    {
     "name": "stderr",
     "output_type": "stream",
     "text": [
      "2024/09/22 18:17:26 WARNING mlflow.keras.save: You are saving a Keras model without specifying model signature.\n",
      "2024/09/22 18:18:12 WARNING mlflow.models.model: Input example should be provided to infer model signature if the model signature is not provided when logging the model.\n",
      "2024/09/22 18:18:12 INFO mlflow.tracking._tracking_service.client: 🏃 View run colorful-shrew-603 at: https://mlflow-service-1073438601911.us-west2.run.app/#/experiments/1/runs/c7140f0e6e17481395d86305c40559ce.\n",
      "2024/09/22 18:18:12 INFO mlflow.tracking._tracking_service.client: 🧪 View experiment at: https://mlflow-service-1073438601911.us-west2.run.app/#/experiments/1.\n"
     ]
    },
    {
     "name": "stdout",
     "output_type": "stream",
     "text": [
      "Model saved as Simple_LSTM_5000_128 with accuracy: 0.93\n",
      "Registering the best model: Simple_LSTM_1000_128 with accuracy: 0.95\n"
     ]
    },
    {
     "name": "stderr",
     "output_type": "stream",
     "text": [
      "Successfully registered model 'Best_Simple_LSTM_Model'.\n",
      "2024/09/22 18:18:13 INFO mlflow.store.model_registry.abstract_store: Waiting up to 300 seconds for model version to finish creation. Model name: Best_Simple_LSTM_Model, version 1\n",
      "Created version '1' of model 'Best_Simple_LSTM_Model'.\n"
     ]
    }
   ],
   "source": [
    "best_accuracy = 0\n",
    "best_model_info = None\n",
    "\n",
    "for input_dim in [1000, 2000, 4000, 5000]:\n",
    "    for output_dim in [16, 32, 64, 128]:\n",
    "        input_length = 10\n",
    "        with mlflow.start_run():\n",
    "            # Tokenization and Padding\n",
    "            tokenizer = Tokenizer(num_words=input_dim)  # Adjust vocabulary size\n",
    "            tokenizer.fit_on_texts(filtered_questions)\n",
    "            sequences = tokenizer.texts_to_sequences(filtered_questions)\n",
    "            X = pad_sequences(sequences, maxlen=input_length)\n",
    "\n",
    "            # Convert labels to numpy array\n",
    "            y = np.array(filtered_labels.tolist())\n",
    "\n",
    "            # Model: Simple LSTM\n",
    "            model_name = f\"Simple_LSTM_{input_dim}_{output_dim}\"\n",
    "            model = Sequential([\n",
    "                Embedding(input_dim=input_dim, output_dim=output_dim, input_length=input_length),\n",
    "                LSTM(output_dim),\n",
    "                Dropout(0.5),\n",
    "                Dense(32, activation='relu'),\n",
    "                Dense(3, activation='softmax')\n",
    "            ])\n",
    "\n",
    "            # Compile and train\n",
    "            model.compile(optimizer='adam', loss='categorical_crossentropy', metrics=['accuracy'])\n",
    "            X_train, X_test, y_train, y_test = train_test_split(X, y, test_size=0.2, random_state=42)\n",
    "            model.fit(X_train, y_train, epochs=10, validation_data=(X_test, y_test))\n",
    "\n",
    "            # Evaluate and log\n",
    "            loss, accuracy = model.evaluate(X_test, y_test)\n",
    "            mlflow.log_params({\"input_dim\": input_dim, \"output_dim\": output_dim, \"input_length\": input_length})\n",
    "            mlflow.log_metrics({\"loss\": loss, \"accuracy\": accuracy})\n",
    "\n",
    "            # Save the model with a unique name\n",
    "            mlflow.keras.log_model(model, artifact_path=model_name)\n",
    "            print(f\"Model saved as {model_name} with accuracy: {accuracy:.2f}\")\n",
    "\n",
    "            # Check if this is the best model\n",
    "            if accuracy > best_accuracy:\n",
    "                best_accuracy = accuracy\n",
    "                best_model_info = {\n",
    "                    \"model_name\": model_name,\n",
    "                    \"run_id\": mlflow.active_run().info.run_id,\n",
    "                }\n",
    "\n",
    "            # End the current MLflow run to prepare for the next iteration\n",
    "            mlflow.end_run()\n",
    "\n",
    "# Register the best model\n",
    "if best_model_info:\n",
    "    print(f\"Registering the best model: {best_model_info['model_name']} with accuracy: {best_accuracy:.2f}\")\n",
    "    mlflow.register_model(\n",
    "        model_uri=f\"runs:/{best_model_info['run_id']}/{best_model_info['model_name']}\",\n",
    "        name=\"Best_Simple_LSTM_Model\"\n",
    "    )\n"
   ]
  },
  {
   "attachments": {},
   "cell_type": "markdown",
   "metadata": {},
   "source": [
    "#  Bi-directional LSTM"
   ]
  },
  {
   "cell_type": "code",
   "execution_count": 22,
   "metadata": {},
   "outputs": [
    {
     "name": "stdout",
     "output_type": "stream",
     "text": [
      "Epoch 1/10\n",
      "\u001b[1m10373/10373\u001b[0m \u001b[32m━━━━━━━━━━━━━━━━━━━━\u001b[0m\u001b[37m\u001b[0m \u001b[1m19s\u001b[0m 2ms/step - accuracy: 0.8889 - loss: 0.2822 - val_accuracy: 0.9315 - val_loss: 0.1724\n",
      "Epoch 2/10\n",
      "\u001b[1m10373/10373\u001b[0m \u001b[32m━━━━━━━━━━━━━━━━━━━━\u001b[0m\u001b[37m\u001b[0m \u001b[1m18s\u001b[0m 2ms/step - accuracy: 0.9318 - loss: 0.1752 - val_accuracy: 0.9358 - val_loss: 0.1610\n",
      "Epoch 3/10\n",
      "\u001b[1m10373/10373\u001b[0m \u001b[32m━━━━━━━━━━━━━━━━━━━━\u001b[0m\u001b[37m\u001b[0m \u001b[1m18s\u001b[0m 2ms/step - accuracy: 0.9370 - loss: 0.1604 - val_accuracy: 0.9384 - val_loss: 0.1552\n",
      "Epoch 4/10\n",
      "\u001b[1m10373/10373\u001b[0m \u001b[32m━━━━━━━━━━━━━━━━━━━━\u001b[0m\u001b[37m\u001b[0m \u001b[1m18s\u001b[0m 2ms/step - accuracy: 0.9404 - loss: 0.1530 - val_accuracy: 0.9400 - val_loss: 0.1510\n",
      "Epoch 5/10\n",
      "\u001b[1m10373/10373\u001b[0m \u001b[32m━━━━━━━━━━━━━━━━━━━━\u001b[0m\u001b[37m\u001b[0m \u001b[1m18s\u001b[0m 2ms/step - accuracy: 0.9431 - loss: 0.1461 - val_accuracy: 0.9417 - val_loss: 0.1476\n",
      "Epoch 6/10\n",
      "\u001b[1m10373/10373\u001b[0m \u001b[32m━━━━━━━━━━━━━━━━━━━━\u001b[0m\u001b[37m\u001b[0m \u001b[1m18s\u001b[0m 2ms/step - accuracy: 0.9444 - loss: 0.1433 - val_accuracy: 0.9419 - val_loss: 0.1477\n",
      "Epoch 7/10\n",
      "\u001b[1m10373/10373\u001b[0m \u001b[32m━━━━━━━━━━━━━━━━━━━━\u001b[0m\u001b[37m\u001b[0m \u001b[1m18s\u001b[0m 2ms/step - accuracy: 0.9460 - loss: 0.1386 - val_accuracy: 0.9417 - val_loss: 0.1483\n",
      "Epoch 8/10\n",
      "\u001b[1m10373/10373\u001b[0m \u001b[32m━━━━━━━━━━━━━━━━━━━━\u001b[0m\u001b[37m\u001b[0m \u001b[1m18s\u001b[0m 2ms/step - accuracy: 0.9470 - loss: 0.1373 - val_accuracy: 0.9436 - val_loss: 0.1453\n",
      "Epoch 9/10\n",
      "\u001b[1m10373/10373\u001b[0m \u001b[32m━━━━━━━━━━━━━━━━━━━━\u001b[0m\u001b[37m\u001b[0m \u001b[1m18s\u001b[0m 2ms/step - accuracy: 0.9490 - loss: 0.1325 - val_accuracy: 0.9436 - val_loss: 0.1458\n",
      "Epoch 10/10\n",
      "\u001b[1m10373/10373\u001b[0m \u001b[32m━━━━━━━━━━━━━━━━━━━━\u001b[0m\u001b[37m\u001b[0m \u001b[1m18s\u001b[0m 2ms/step - accuracy: 0.9500 - loss: 0.1295 - val_accuracy: 0.9447 - val_loss: 0.1434\n",
      "\u001b[1m2594/2594\u001b[0m \u001b[32m━━━━━━━━━━━━━━━━━━━━\u001b[0m\u001b[37m\u001b[0m \u001b[1m1s\u001b[0m 497us/step - accuracy: 0.9438 - loss: 0.1456\n"
     ]
    },
    {
     "name": "stderr",
     "output_type": "stream",
     "text": [
      "2024/09/22 18:21:22 WARNING mlflow.keras.save: You are saving a Keras model without specifying model signature.\n",
      "2024/09/22 18:21:28 WARNING mlflow.models.model: Input example should be provided to infer model signature if the model signature is not provided when logging the model.\n",
      "2024/09/22 18:21:28 INFO mlflow.tracking._tracking_service.client: 🏃 View run defiant-ape-959 at: https://mlflow-service-1073438601911.us-west2.run.app/#/experiments/1/runs/25c22f52e35347ecb89e47e6ceee9b16.\n",
      "2024/09/22 18:21:28 INFO mlflow.tracking._tracking_service.client: 🧪 View experiment at: https://mlflow-service-1073438601911.us-west2.run.app/#/experiments/1.\n"
     ]
    },
    {
     "name": "stdout",
     "output_type": "stream",
     "text": [
      "Model saved as Bidirectional_LSTM_1000_16 with accuracy: 0.94\n",
      "Epoch 1/10\n",
      "\u001b[1m10373/10373\u001b[0m \u001b[32m━━━━━━━━━━━━━━━━━━━━\u001b[0m\u001b[37m\u001b[0m \u001b[1m28s\u001b[0m 3ms/step - accuracy: 0.8969 - loss: 0.2613 - val_accuracy: 0.9341 - val_loss: 0.1660\n",
      "Epoch 2/10\n",
      "\u001b[1m10373/10373\u001b[0m \u001b[32m━━━━━━━━━━━━━━━━━━━━\u001b[0m\u001b[37m\u001b[0m \u001b[1m27s\u001b[0m 3ms/step - accuracy: 0.9350 - loss: 0.1647 - val_accuracy: 0.9386 - val_loss: 0.1524\n",
      "Epoch 3/10\n",
      "\u001b[1m10373/10373\u001b[0m \u001b[32m━━━━━━━━━━━━━━━━━━━━\u001b[0m\u001b[37m\u001b[0m \u001b[1m27s\u001b[0m 3ms/step - accuracy: 0.9416 - loss: 0.1486 - val_accuracy: 0.9409 - val_loss: 0.1488\n",
      "Epoch 4/10\n",
      "\u001b[1m10373/10373\u001b[0m \u001b[32m━━━━━━━━━━━━━━━━━━━━\u001b[0m\u001b[37m\u001b[0m \u001b[1m27s\u001b[0m 3ms/step - accuracy: 0.9453 - loss: 0.1390 - val_accuracy: 0.9418 - val_loss: 0.1465\n",
      "Epoch 5/10\n",
      "\u001b[1m10373/10373\u001b[0m \u001b[32m━━━━━━━━━━━━━━━━━━━━\u001b[0m\u001b[37m\u001b[0m \u001b[1m27s\u001b[0m 3ms/step - accuracy: 0.9483 - loss: 0.1328 - val_accuracy: 0.9429 - val_loss: 0.1437\n",
      "Epoch 6/10\n",
      "\u001b[1m10373/10373\u001b[0m \u001b[32m━━━━━━━━━━━━━━━━━━━━\u001b[0m\u001b[37m\u001b[0m \u001b[1m27s\u001b[0m 3ms/step - accuracy: 0.9505 - loss: 0.1282 - val_accuracy: 0.9449 - val_loss: 0.1444\n",
      "Epoch 7/10\n",
      "\u001b[1m10373/10373\u001b[0m \u001b[32m━━━━━━━━━━━━━━━━━━━━\u001b[0m\u001b[37m\u001b[0m \u001b[1m27s\u001b[0m 3ms/step - accuracy: 0.9528 - loss: 0.1226 - val_accuracy: 0.9459 - val_loss: 0.1391\n",
      "Epoch 8/10\n",
      "\u001b[1m10373/10373\u001b[0m \u001b[32m━━━━━━━━━━━━━━━━━━━━\u001b[0m\u001b[37m\u001b[0m \u001b[1m28s\u001b[0m 3ms/step - accuracy: 0.9544 - loss: 0.1184 - val_accuracy: 0.9452 - val_loss: 0.1407\n",
      "Epoch 9/10\n",
      "\u001b[1m10373/10373\u001b[0m \u001b[32m━━━━━━━━━━━━━━━━━━━━\u001b[0m\u001b[37m\u001b[0m \u001b[1m27s\u001b[0m 3ms/step - accuracy: 0.9559 - loss: 0.1148 - val_accuracy: 0.9455 - val_loss: 0.1450\n",
      "Epoch 10/10\n",
      "\u001b[1m10373/10373\u001b[0m \u001b[32m━━━━━━━━━━━━━━━━━━━━\u001b[0m\u001b[37m\u001b[0m \u001b[1m28s\u001b[0m 3ms/step - accuracy: 0.9582 - loss: 0.1102 - val_accuracy: 0.9469 - val_loss: 0.1433\n",
      "\u001b[1m2594/2594\u001b[0m \u001b[32m━━━━━━━━━━━━━━━━━━━━\u001b[0m\u001b[37m\u001b[0m \u001b[1m2s\u001b[0m 837us/step - accuracy: 0.9466 - loss: 0.1450\n"
     ]
    },
    {
     "name": "stderr",
     "output_type": "stream",
     "text": [
      "2024/09/22 18:26:09 WARNING mlflow.keras.save: You are saving a Keras model without specifying model signature.\n",
      "2024/09/22 18:26:17 WARNING mlflow.models.model: Input example should be provided to infer model signature if the model signature is not provided when logging the model.\n",
      "2024/09/22 18:26:17 INFO mlflow.tracking._tracking_service.client: 🏃 View run likeable-snake-443 at: https://mlflow-service-1073438601911.us-west2.run.app/#/experiments/1/runs/42e5bb57663847d1984a7c5848ca5897.\n",
      "2024/09/22 18:26:17 INFO mlflow.tracking._tracking_service.client: 🧪 View experiment at: https://mlflow-service-1073438601911.us-west2.run.app/#/experiments/1.\n"
     ]
    },
    {
     "name": "stdout",
     "output_type": "stream",
     "text": [
      "Model saved as Bidirectional_LSTM_1000_32 with accuracy: 0.95\n",
      "Epoch 1/10\n",
      "\u001b[1m10373/10373\u001b[0m \u001b[32m━━━━━━━━━━━━━━━━━━━━\u001b[0m\u001b[37m\u001b[0m \u001b[1m54s\u001b[0m 5ms/step - accuracy: 0.9047 - loss: 0.2403 - val_accuracy: 0.9366 - val_loss: 0.1585\n",
      "Epoch 2/10\n",
      "\u001b[1m10373/10373\u001b[0m \u001b[32m━━━━━━━━━━━━━━━━━━━━\u001b[0m\u001b[37m\u001b[0m \u001b[1m50s\u001b[0m 5ms/step - accuracy: 0.9392 - loss: 0.1533 - val_accuracy: 0.9426 - val_loss: 0.1458\n",
      "Epoch 3/10\n",
      "\u001b[1m10373/10373\u001b[0m \u001b[32m━━━━━━━━━━━━━━━━━━━━\u001b[0m\u001b[37m\u001b[0m \u001b[1m50s\u001b[0m 5ms/step - accuracy: 0.9449 - loss: 0.1393 - val_accuracy: 0.9437 - val_loss: 0.1418\n",
      "Epoch 4/10\n",
      "\u001b[1m10373/10373\u001b[0m \u001b[32m━━━━━━━━━━━━━━━━━━━━\u001b[0m\u001b[37m\u001b[0m \u001b[1m51s\u001b[0m 5ms/step - accuracy: 0.9495 - loss: 0.1301 - val_accuracy: 0.9448 - val_loss: 0.1405\n",
      "Epoch 5/10\n",
      "\u001b[1m10373/10373\u001b[0m \u001b[32m━━━━━━━━━━━━━━━━━━━━\u001b[0m\u001b[37m\u001b[0m \u001b[1m50s\u001b[0m 5ms/step - accuracy: 0.9532 - loss: 0.1209 - val_accuracy: 0.9467 - val_loss: 0.1366\n",
      "Epoch 6/10\n",
      "\u001b[1m10373/10373\u001b[0m \u001b[32m━━━━━━━━━━━━━━━━━━━━\u001b[0m\u001b[37m\u001b[0m \u001b[1m50s\u001b[0m 5ms/step - accuracy: 0.9563 - loss: 0.1138 - val_accuracy: 0.9487 - val_loss: 0.1356\n",
      "Epoch 7/10\n",
      "\u001b[1m10373/10373\u001b[0m \u001b[32m━━━━━━━━━━━━━━━━━━━━\u001b[0m\u001b[37m\u001b[0m \u001b[1m50s\u001b[0m 5ms/step - accuracy: 0.9591 - loss: 0.1061 - val_accuracy: 0.9492 - val_loss: 0.1369\n",
      "Epoch 8/10\n",
      "\u001b[1m10373/10373\u001b[0m \u001b[32m━━━━━━━━━━━━━━━━━━━━\u001b[0m\u001b[37m\u001b[0m \u001b[1m50s\u001b[0m 5ms/step - accuracy: 0.9619 - loss: 0.1000 - val_accuracy: 0.9489 - val_loss: 0.1414\n",
      "Epoch 9/10\n",
      "\u001b[1m10373/10373\u001b[0m \u001b[32m━━━━━━━━━━━━━━━━━━━━\u001b[0m\u001b[37m\u001b[0m \u001b[1m49s\u001b[0m 5ms/step - accuracy: 0.9654 - loss: 0.0923 - val_accuracy: 0.9505 - val_loss: 0.1402\n",
      "Epoch 10/10\n",
      "\u001b[1m10373/10373\u001b[0m \u001b[32m━━━━━━━━━━━━━━━━━━━━\u001b[0m\u001b[37m\u001b[0m \u001b[1m46s\u001b[0m 4ms/step - accuracy: 0.9677 - loss: 0.0866 - val_accuracy: 0.9498 - val_loss: 0.1405\n",
      "\u001b[1m2594/2594\u001b[0m \u001b[32m━━━━━━━━━━━━━━━━━━━━\u001b[0m\u001b[37m\u001b[0m \u001b[1m3s\u001b[0m 1ms/step - accuracy: 0.9492 - loss: 0.1424\n"
     ]
    },
    {
     "name": "stderr",
     "output_type": "stream",
     "text": [
      "2024/09/22 18:34:46 WARNING mlflow.keras.save: You are saving a Keras model without specifying model signature.\n",
      "2024/09/22 18:34:58 WARNING mlflow.models.model: Input example should be provided to infer model signature if the model signature is not provided when logging the model.\n",
      "2024/09/22 18:34:58 INFO mlflow.tracking._tracking_service.client: 🏃 View run bouncy-cow-286 at: https://mlflow-service-1073438601911.us-west2.run.app/#/experiments/1/runs/e4352c9a0f1f4b169800149bd3620954.\n",
      "2024/09/22 18:34:58 INFO mlflow.tracking._tracking_service.client: 🧪 View experiment at: https://mlflow-service-1073438601911.us-west2.run.app/#/experiments/1.\n"
     ]
    },
    {
     "name": "stdout",
     "output_type": "stream",
     "text": [
      "Model saved as Bidirectional_LSTM_1000_64 with accuracy: 0.95\n",
      "Epoch 1/10\n",
      "\u001b[1m10373/10373\u001b[0m \u001b[32m━━━━━━━━━━━━━━━━━━━━\u001b[0m\u001b[37m\u001b[0m \u001b[1m131s\u001b[0m 12ms/step - accuracy: 0.9084 - loss: 0.2295 - val_accuracy: 0.9386 - val_loss: 0.1547\n",
      "Epoch 2/10\n",
      "\u001b[1m10373/10373\u001b[0m \u001b[32m━━━━━━━━━━━━━━━━━━━━\u001b[0m\u001b[37m\u001b[0m \u001b[1m135s\u001b[0m 13ms/step - accuracy: 0.9404 - loss: 0.1511 - val_accuracy: 0.9430 - val_loss: 0.1444\n",
      "Epoch 3/10\n",
      "\u001b[1m10373/10373\u001b[0m \u001b[32m━━━━━━━━━━━━━━━━━━━━\u001b[0m\u001b[37m\u001b[0m \u001b[1m125s\u001b[0m 12ms/step - accuracy: 0.9487 - loss: 0.1318 - val_accuracy: 0.9471 - val_loss: 0.1349\n",
      "Epoch 4/10\n",
      "\u001b[1m10373/10373\u001b[0m \u001b[32m━━━━━━━━━━━━━━━━━━━━\u001b[0m\u001b[37m\u001b[0m \u001b[1m135s\u001b[0m 13ms/step - accuracy: 0.9532 - loss: 0.1205 - val_accuracy: 0.9471 - val_loss: 0.1357\n",
      "Epoch 5/10\n",
      "\u001b[1m10116/10373\u001b[0m \u001b[32m━━━━━━━━━━━━━━━━━━━\u001b[0m\u001b[37m━\u001b[0m \u001b[1m3s\u001b[0m 12ms/step - accuracy: 0.9583 - loss: 0.1080"
     ]
    },
    {
     "name": "stderr",
     "output_type": "stream",
     "text": [
      "2024/09/22 18:45:52 INFO mlflow.tracking._tracking_service.client: 🏃 View run gentle-rook-187 at: https://mlflow-service-1073438601911.us-west2.run.app/#/experiments/1/runs/4ae09ce00629496fb41f0fe627bce2e6.\n",
      "2024/09/22 18:45:52 INFO mlflow.tracking._tracking_service.client: 🧪 View experiment at: https://mlflow-service-1073438601911.us-west2.run.app/#/experiments/1.\n"
     ]
    },
    {
     "ename": "KeyboardInterrupt",
     "evalue": "",
     "output_type": "error",
     "traceback": [
      "\u001b[0;31m---------------------------------------------------------------------------\u001b[0m",
      "\u001b[0;31mKeyboardInterrupt\u001b[0m                         Traceback (most recent call last)",
      "Cell \u001b[0;32mIn[22], line 25\u001b[0m\n\u001b[1;32m     23\u001b[0m model\u001b[39m.\u001b[39mcompile(optimizer\u001b[39m=\u001b[39m\u001b[39m'\u001b[39m\u001b[39madam\u001b[39m\u001b[39m'\u001b[39m, loss\u001b[39m=\u001b[39m\u001b[39m'\u001b[39m\u001b[39mcategorical_crossentropy\u001b[39m\u001b[39m'\u001b[39m, metrics\u001b[39m=\u001b[39m[\u001b[39m'\u001b[39m\u001b[39maccuracy\u001b[39m\u001b[39m'\u001b[39m])\n\u001b[1;32m     24\u001b[0m X_train, X_test, y_train, y_test \u001b[39m=\u001b[39m train_test_split(X, y, test_size\u001b[39m=\u001b[39m\u001b[39m0.2\u001b[39m, random_state\u001b[39m=\u001b[39m\u001b[39m42\u001b[39m)\n\u001b[0;32m---> 25\u001b[0m model\u001b[39m.\u001b[39;49mfit(X_train, y_train, epochs\u001b[39m=\u001b[39;49m\u001b[39m10\u001b[39;49m, validation_data\u001b[39m=\u001b[39;49m(X_test, y_test))\n\u001b[1;32m     27\u001b[0m \u001b[39m# Evaluate and log\u001b[39;00m\n\u001b[1;32m     28\u001b[0m loss, accuracy \u001b[39m=\u001b[39m model\u001b[39m.\u001b[39mevaluate(X_test, y_test)\n",
      "File \u001b[0;32m/opt/homebrew/anaconda3/envs/intern/lib/python3.11/site-packages/keras/src/utils/traceback_utils.py:117\u001b[0m, in \u001b[0;36mfilter_traceback.<locals>.error_handler\u001b[0;34m(*args, **kwargs)\u001b[0m\n\u001b[1;32m    115\u001b[0m filtered_tb \u001b[39m=\u001b[39m \u001b[39mNone\u001b[39;00m\n\u001b[1;32m    116\u001b[0m \u001b[39mtry\u001b[39;00m:\n\u001b[0;32m--> 117\u001b[0m     \u001b[39mreturn\u001b[39;00m fn(\u001b[39m*\u001b[39;49margs, \u001b[39m*\u001b[39;49m\u001b[39m*\u001b[39;49mkwargs)\n\u001b[1;32m    118\u001b[0m \u001b[39mexcept\u001b[39;00m \u001b[39mException\u001b[39;00m \u001b[39mas\u001b[39;00m e:\n\u001b[1;32m    119\u001b[0m     filtered_tb \u001b[39m=\u001b[39m _process_traceback_frames(e\u001b[39m.\u001b[39m__traceback__)\n",
      "File \u001b[0;32m/opt/homebrew/anaconda3/envs/intern/lib/python3.11/site-packages/keras/src/backend/tensorflow/trainer.py:320\u001b[0m, in \u001b[0;36mTensorFlowTrainer.fit\u001b[0;34m(self, x, y, batch_size, epochs, verbose, callbacks, validation_split, validation_data, shuffle, class_weight, sample_weight, initial_epoch, steps_per_epoch, validation_steps, validation_batch_size, validation_freq)\u001b[0m\n\u001b[1;32m    318\u001b[0m \u001b[39mfor\u001b[39;00m step, iterator \u001b[39min\u001b[39;00m epoch_iterator\u001b[39m.\u001b[39menumerate_epoch():\n\u001b[1;32m    319\u001b[0m     callbacks\u001b[39m.\u001b[39mon_train_batch_begin(step)\n\u001b[0;32m--> 320\u001b[0m     logs \u001b[39m=\u001b[39m \u001b[39mself\u001b[39;49m\u001b[39m.\u001b[39;49mtrain_function(iterator)\n\u001b[1;32m    321\u001b[0m     logs \u001b[39m=\u001b[39m \u001b[39mself\u001b[39m\u001b[39m.\u001b[39m_pythonify_logs(logs)\n\u001b[1;32m    322\u001b[0m     callbacks\u001b[39m.\u001b[39mon_train_batch_end(step, logs)\n",
      "File \u001b[0;32m/opt/homebrew/anaconda3/envs/intern/lib/python3.11/site-packages/tensorflow/python/util/traceback_utils.py:150\u001b[0m, in \u001b[0;36mfilter_traceback.<locals>.error_handler\u001b[0;34m(*args, **kwargs)\u001b[0m\n\u001b[1;32m    148\u001b[0m filtered_tb \u001b[39m=\u001b[39m \u001b[39mNone\u001b[39;00m\n\u001b[1;32m    149\u001b[0m \u001b[39mtry\u001b[39;00m:\n\u001b[0;32m--> 150\u001b[0m   \u001b[39mreturn\u001b[39;00m fn(\u001b[39m*\u001b[39;49margs, \u001b[39m*\u001b[39;49m\u001b[39m*\u001b[39;49mkwargs)\n\u001b[1;32m    151\u001b[0m \u001b[39mexcept\u001b[39;00m \u001b[39mException\u001b[39;00m \u001b[39mas\u001b[39;00m e:\n\u001b[1;32m    152\u001b[0m   filtered_tb \u001b[39m=\u001b[39m _process_traceback_frames(e\u001b[39m.\u001b[39m__traceback__)\n",
      "File \u001b[0;32m/opt/homebrew/anaconda3/envs/intern/lib/python3.11/site-packages/tensorflow/python/eager/polymorphic_function/polymorphic_function.py:833\u001b[0m, in \u001b[0;36mFunction.__call__\u001b[0;34m(self, *args, **kwds)\u001b[0m\n\u001b[1;32m    830\u001b[0m compiler \u001b[39m=\u001b[39m \u001b[39m\"\u001b[39m\u001b[39mxla\u001b[39m\u001b[39m\"\u001b[39m \u001b[39mif\u001b[39;00m \u001b[39mself\u001b[39m\u001b[39m.\u001b[39m_jit_compile \u001b[39melse\u001b[39;00m \u001b[39m\"\u001b[39m\u001b[39mnonXla\u001b[39m\u001b[39m\"\u001b[39m\n\u001b[1;32m    832\u001b[0m \u001b[39mwith\u001b[39;00m OptionalXlaContext(\u001b[39mself\u001b[39m\u001b[39m.\u001b[39m_jit_compile):\n\u001b[0;32m--> 833\u001b[0m   result \u001b[39m=\u001b[39m \u001b[39mself\u001b[39;49m\u001b[39m.\u001b[39;49m_call(\u001b[39m*\u001b[39;49margs, \u001b[39m*\u001b[39;49m\u001b[39m*\u001b[39;49mkwds)\n\u001b[1;32m    835\u001b[0m new_tracing_count \u001b[39m=\u001b[39m \u001b[39mself\u001b[39m\u001b[39m.\u001b[39mexperimental_get_tracing_count()\n\u001b[1;32m    836\u001b[0m without_tracing \u001b[39m=\u001b[39m (tracing_count \u001b[39m==\u001b[39m new_tracing_count)\n",
      "File \u001b[0;32m/opt/homebrew/anaconda3/envs/intern/lib/python3.11/site-packages/tensorflow/python/eager/polymorphic_function/polymorphic_function.py:878\u001b[0m, in \u001b[0;36mFunction._call\u001b[0;34m(self, *args, **kwds)\u001b[0m\n\u001b[1;32m    875\u001b[0m \u001b[39mself\u001b[39m\u001b[39m.\u001b[39m_lock\u001b[39m.\u001b[39mrelease()\n\u001b[1;32m    876\u001b[0m \u001b[39m# In this case we have not created variables on the first call. So we can\u001b[39;00m\n\u001b[1;32m    877\u001b[0m \u001b[39m# run the first trace but we should fail if variables are created.\u001b[39;00m\n\u001b[0;32m--> 878\u001b[0m results \u001b[39m=\u001b[39m tracing_compilation\u001b[39m.\u001b[39;49mcall_function(\n\u001b[1;32m    879\u001b[0m     args, kwds, \u001b[39mself\u001b[39;49m\u001b[39m.\u001b[39;49m_variable_creation_config\n\u001b[1;32m    880\u001b[0m )\n\u001b[1;32m    881\u001b[0m \u001b[39mif\u001b[39;00m \u001b[39mself\u001b[39m\u001b[39m.\u001b[39m_created_variables:\n\u001b[1;32m    882\u001b[0m   \u001b[39mraise\u001b[39;00m \u001b[39mValueError\u001b[39;00m(\u001b[39m\"\u001b[39m\u001b[39mCreating variables on a non-first call to a function\u001b[39m\u001b[39m\"\u001b[39m\n\u001b[1;32m    883\u001b[0m                    \u001b[39m\"\u001b[39m\u001b[39m decorated with tf.function.\u001b[39m\u001b[39m\"\u001b[39m)\n",
      "File \u001b[0;32m/opt/homebrew/anaconda3/envs/intern/lib/python3.11/site-packages/tensorflow/python/eager/polymorphic_function/tracing_compilation.py:139\u001b[0m, in \u001b[0;36mcall_function\u001b[0;34m(args, kwargs, tracing_options)\u001b[0m\n\u001b[1;32m    137\u001b[0m bound_args \u001b[39m=\u001b[39m function\u001b[39m.\u001b[39mfunction_type\u001b[39m.\u001b[39mbind(\u001b[39m*\u001b[39margs, \u001b[39m*\u001b[39m\u001b[39m*\u001b[39mkwargs)\n\u001b[1;32m    138\u001b[0m flat_inputs \u001b[39m=\u001b[39m function\u001b[39m.\u001b[39mfunction_type\u001b[39m.\u001b[39munpack_inputs(bound_args)\n\u001b[0;32m--> 139\u001b[0m \u001b[39mreturn\u001b[39;00m function\u001b[39m.\u001b[39;49m_call_flat(  \u001b[39m# pylint: disable=protected-access\u001b[39;49;00m\n\u001b[1;32m    140\u001b[0m     flat_inputs, captured_inputs\u001b[39m=\u001b[39;49mfunction\u001b[39m.\u001b[39;49mcaptured_inputs\n\u001b[1;32m    141\u001b[0m )\n",
      "File \u001b[0;32m/opt/homebrew/anaconda3/envs/intern/lib/python3.11/site-packages/tensorflow/python/eager/polymorphic_function/concrete_function.py:1322\u001b[0m, in \u001b[0;36mConcreteFunction._call_flat\u001b[0;34m(self, tensor_inputs, captured_inputs)\u001b[0m\n\u001b[1;32m   1318\u001b[0m possible_gradient_type \u001b[39m=\u001b[39m gradients_util\u001b[39m.\u001b[39mPossibleTapeGradientTypes(args)\n\u001b[1;32m   1319\u001b[0m \u001b[39mif\u001b[39;00m (possible_gradient_type \u001b[39m==\u001b[39m gradients_util\u001b[39m.\u001b[39mPOSSIBLE_GRADIENT_TYPES_NONE\n\u001b[1;32m   1320\u001b[0m     \u001b[39mand\u001b[39;00m executing_eagerly):\n\u001b[1;32m   1321\u001b[0m   \u001b[39m# No tape is watching; skip to running the function.\u001b[39;00m\n\u001b[0;32m-> 1322\u001b[0m   \u001b[39mreturn\u001b[39;00m \u001b[39mself\u001b[39;49m\u001b[39m.\u001b[39;49m_inference_function\u001b[39m.\u001b[39;49mcall_preflattened(args)\n\u001b[1;32m   1323\u001b[0m forward_backward \u001b[39m=\u001b[39m \u001b[39mself\u001b[39m\u001b[39m.\u001b[39m_select_forward_and_backward_functions(\n\u001b[1;32m   1324\u001b[0m     args,\n\u001b[1;32m   1325\u001b[0m     possible_gradient_type,\n\u001b[1;32m   1326\u001b[0m     executing_eagerly)\n\u001b[1;32m   1327\u001b[0m forward_function, args_with_tangents \u001b[39m=\u001b[39m forward_backward\u001b[39m.\u001b[39mforward()\n",
      "File \u001b[0;32m/opt/homebrew/anaconda3/envs/intern/lib/python3.11/site-packages/tensorflow/python/eager/polymorphic_function/atomic_function.py:216\u001b[0m, in \u001b[0;36mAtomicFunction.call_preflattened\u001b[0;34m(self, args)\u001b[0m\n\u001b[1;32m    214\u001b[0m \u001b[39mdef\u001b[39;00m \u001b[39mcall_preflattened\u001b[39m(\u001b[39mself\u001b[39m, args: Sequence[core\u001b[39m.\u001b[39mTensor]) \u001b[39m-\u001b[39m\u001b[39m>\u001b[39m Any:\n\u001b[1;32m    215\u001b[0m \u001b[39m  \u001b[39m\u001b[39m\"\"\"Calls with flattened tensor inputs and returns the structured output.\"\"\"\u001b[39;00m\n\u001b[0;32m--> 216\u001b[0m   flat_outputs \u001b[39m=\u001b[39m \u001b[39mself\u001b[39;49m\u001b[39m.\u001b[39;49mcall_flat(\u001b[39m*\u001b[39;49margs)\n\u001b[1;32m    217\u001b[0m   \u001b[39mreturn\u001b[39;00m \u001b[39mself\u001b[39m\u001b[39m.\u001b[39mfunction_type\u001b[39m.\u001b[39mpack_output(flat_outputs)\n",
      "File \u001b[0;32m/opt/homebrew/anaconda3/envs/intern/lib/python3.11/site-packages/tensorflow/python/eager/polymorphic_function/atomic_function.py:251\u001b[0m, in \u001b[0;36mAtomicFunction.call_flat\u001b[0;34m(self, *args)\u001b[0m\n\u001b[1;32m    249\u001b[0m \u001b[39mwith\u001b[39;00m record\u001b[39m.\u001b[39mstop_recording():\n\u001b[1;32m    250\u001b[0m   \u001b[39mif\u001b[39;00m \u001b[39mself\u001b[39m\u001b[39m.\u001b[39m_bound_context\u001b[39m.\u001b[39mexecuting_eagerly():\n\u001b[0;32m--> 251\u001b[0m     outputs \u001b[39m=\u001b[39m \u001b[39mself\u001b[39;49m\u001b[39m.\u001b[39;49m_bound_context\u001b[39m.\u001b[39;49mcall_function(\n\u001b[1;32m    252\u001b[0m         \u001b[39mself\u001b[39;49m\u001b[39m.\u001b[39;49mname,\n\u001b[1;32m    253\u001b[0m         \u001b[39mlist\u001b[39;49m(args),\n\u001b[1;32m    254\u001b[0m         \u001b[39mlen\u001b[39;49m(\u001b[39mself\u001b[39;49m\u001b[39m.\u001b[39;49mfunction_type\u001b[39m.\u001b[39;49mflat_outputs),\n\u001b[1;32m    255\u001b[0m     )\n\u001b[1;32m    256\u001b[0m   \u001b[39melse\u001b[39;00m:\n\u001b[1;32m    257\u001b[0m     outputs \u001b[39m=\u001b[39m make_call_op_in_graph(\n\u001b[1;32m    258\u001b[0m         \u001b[39mself\u001b[39m,\n\u001b[1;32m    259\u001b[0m         \u001b[39mlist\u001b[39m(args),\n\u001b[1;32m    260\u001b[0m         \u001b[39mself\u001b[39m\u001b[39m.\u001b[39m_bound_context\u001b[39m.\u001b[39mfunction_call_options\u001b[39m.\u001b[39mas_attrs(),\n\u001b[1;32m    261\u001b[0m     )\n",
      "File \u001b[0;32m/opt/homebrew/anaconda3/envs/intern/lib/python3.11/site-packages/tensorflow/python/eager/context.py:1552\u001b[0m, in \u001b[0;36mContext.call_function\u001b[0;34m(self, name, tensor_inputs, num_outputs)\u001b[0m\n\u001b[1;32m   1550\u001b[0m cancellation_context \u001b[39m=\u001b[39m cancellation\u001b[39m.\u001b[39mcontext()\n\u001b[1;32m   1551\u001b[0m \u001b[39mif\u001b[39;00m cancellation_context \u001b[39mis\u001b[39;00m \u001b[39mNone\u001b[39;00m:\n\u001b[0;32m-> 1552\u001b[0m   outputs \u001b[39m=\u001b[39m execute\u001b[39m.\u001b[39;49mexecute(\n\u001b[1;32m   1553\u001b[0m       name\u001b[39m.\u001b[39;49mdecode(\u001b[39m\"\u001b[39;49m\u001b[39mutf-8\u001b[39;49m\u001b[39m\"\u001b[39;49m),\n\u001b[1;32m   1554\u001b[0m       num_outputs\u001b[39m=\u001b[39;49mnum_outputs,\n\u001b[1;32m   1555\u001b[0m       inputs\u001b[39m=\u001b[39;49mtensor_inputs,\n\u001b[1;32m   1556\u001b[0m       attrs\u001b[39m=\u001b[39;49mattrs,\n\u001b[1;32m   1557\u001b[0m       ctx\u001b[39m=\u001b[39;49m\u001b[39mself\u001b[39;49m,\n\u001b[1;32m   1558\u001b[0m   )\n\u001b[1;32m   1559\u001b[0m \u001b[39melse\u001b[39;00m:\n\u001b[1;32m   1560\u001b[0m   outputs \u001b[39m=\u001b[39m execute\u001b[39m.\u001b[39mexecute_with_cancellation(\n\u001b[1;32m   1561\u001b[0m       name\u001b[39m.\u001b[39mdecode(\u001b[39m\"\u001b[39m\u001b[39mutf-8\u001b[39m\u001b[39m\"\u001b[39m),\n\u001b[1;32m   1562\u001b[0m       num_outputs\u001b[39m=\u001b[39mnum_outputs,\n\u001b[0;32m   (...)\u001b[0m\n\u001b[1;32m   1566\u001b[0m       cancellation_manager\u001b[39m=\u001b[39mcancellation_context,\n\u001b[1;32m   1567\u001b[0m   )\n",
      "File \u001b[0;32m/opt/homebrew/anaconda3/envs/intern/lib/python3.11/site-packages/tensorflow/python/eager/execute.py:53\u001b[0m, in \u001b[0;36mquick_execute\u001b[0;34m(op_name, num_outputs, inputs, attrs, ctx, name)\u001b[0m\n\u001b[1;32m     51\u001b[0m \u001b[39mtry\u001b[39;00m:\n\u001b[1;32m     52\u001b[0m   ctx\u001b[39m.\u001b[39mensure_initialized()\n\u001b[0;32m---> 53\u001b[0m   tensors \u001b[39m=\u001b[39m pywrap_tfe\u001b[39m.\u001b[39;49mTFE_Py_Execute(ctx\u001b[39m.\u001b[39;49m_handle, device_name, op_name,\n\u001b[1;32m     54\u001b[0m                                       inputs, attrs, num_outputs)\n\u001b[1;32m     55\u001b[0m \u001b[39mexcept\u001b[39;00m core\u001b[39m.\u001b[39m_NotOkStatusException \u001b[39mas\u001b[39;00m e:\n\u001b[1;32m     56\u001b[0m   \u001b[39mif\u001b[39;00m name \u001b[39mis\u001b[39;00m \u001b[39mnot\u001b[39;00m \u001b[39mNone\u001b[39;00m:\n",
      "\u001b[0;31mKeyboardInterrupt\u001b[0m: "
     ]
    }
   ],
   "source": [
    "for input_dim in [1000, 2000, 4000, 5000]:\n",
    "    for output_dim in [16, 32, 64, 128]:\n",
    "        input_length = 10\n",
    "        with mlflow.start_run():\n",
    "            # Tokenization and Padding\n",
    "            tokenizer = Tokenizer(num_words=input_dim)\n",
    "            tokenizer.fit_on_texts(filtered_questions)\n",
    "            sequences = tokenizer.texts_to_sequences(filtered_questions)\n",
    "            X = pad_sequences(sequences, maxlen=input_length)\n",
    "            y = np.array(filtered_labels.tolist())\n",
    "\n",
    "            # Model 2: Bi-directional LSTM\n",
    "            model_name = f\"Bidirectional_LSTM_{input_dim}_{output_dim}\"\n",
    "            model = Sequential([\n",
    "                Embedding(input_dim=input_dim, output_dim=output_dim, input_length=input_length),\n",
    "                Bidirectional(LSTM(output_dim)),\n",
    "                Dropout(0.5),\n",
    "                Dense(32, activation='relu'),\n",
    "                Dense(3, activation='softmax')\n",
    "            ])\n",
    "\n",
    "            # Compile and train\n",
    "            model.compile(optimizer='adam', loss='categorical_crossentropy', metrics=['accuracy'])\n",
    "            X_train, X_test, y_train, y_test = train_test_split(X, y, test_size=0.2, random_state=42)\n",
    "            model.fit(X_train, y_train, epochs=10, validation_data=(X_test, y_test))\n",
    "\n",
    "            # Evaluate and log\n",
    "            loss, accuracy = model.evaluate(X_test, y_test)\n",
    "            mlflow.log_params({\"input_dim\": input_dim, \"output_dim\": output_dim, \"input_length\": input_length})\n",
    "            mlflow.log_metric(\"loss\", loss)\n",
    "            mlflow.log_metric(\"accuracy\", accuracy)\n",
    "\n",
    "            # Save the model with a unique name\n",
    "            mlflow.keras.log_model(model, artifact_path=model_name)\n",
    "            print(f\"Model saved as {model_name} with accuracy: {accuracy:.2f}\")\n",
    "        mlflow.end_run()\n"
   ]
  },
  {
   "attachments": {},
   "cell_type": "markdown",
   "metadata": {},
   "source": [
    "# Chosen Model \n",
    "## Bi-directional LSTM\n",
    "### Params\n",
    "- input_dim : 1000\n",
    "- output_dim : 128\n",
    "- input_length : 10"
   ]
  },
  {
   "cell_type": "code",
   "execution_count": 9,
   "metadata": {},
   "outputs": [
    {
     "name": "stdout",
     "output_type": "stream",
     "text": [
      "Tokenizer saved at: model_token/tokenizer.pkl\n",
      "Epoch 1/10\n",
      "10373/10373 - 30s - 3ms/step - accuracy: 0.9187 - loss: 0.2055 - val_accuracy: 0.9347 - val_loss: 0.1668\n",
      "Epoch 2/10\n",
      "10373/10373 - 29s - 3ms/step - accuracy: 0.9362 - loss: 0.1604 - val_accuracy: 0.9392 - val_loss: 0.1516\n",
      "Epoch 3/10\n",
      "10373/10373 - 30s - 3ms/step - accuracy: 0.9422 - loss: 0.1467 - val_accuracy: 0.9427 - val_loss: 0.1448\n",
      "Epoch 4/10\n",
      "10373/10373 - 30s - 3ms/step - accuracy: 0.9462 - loss: 0.1367 - val_accuracy: 0.9449 - val_loss: 0.1405\n",
      "Epoch 5/10\n",
      "10373/10373 - 29s - 3ms/step - accuracy: 0.9497 - loss: 0.1293 - val_accuracy: 0.9461 - val_loss: 0.1379\n",
      "Epoch 6/10\n",
      "10373/10373 - 29s - 3ms/step - accuracy: 0.9522 - loss: 0.1220 - val_accuracy: 0.9449 - val_loss: 0.1377\n",
      "Epoch 7/10\n",
      "10373/10373 - 28s - 3ms/step - accuracy: 0.9554 - loss: 0.1163 - val_accuracy: 0.9466 - val_loss: 0.1403\n",
      "Epoch 8/10\n",
      "10373/10373 - 28s - 3ms/step - accuracy: 0.9572 - loss: 0.1111 - val_accuracy: 0.9474 - val_loss: 0.1412\n",
      "Epoch 9/10\n",
      "10373/10373 - 30s - 3ms/step - accuracy: 0.9597 - loss: 0.1055 - val_accuracy: 0.9480 - val_loss: 0.1406\n",
      "Epoch 10/10\n",
      "10373/10373 - 31s - 3ms/step - accuracy: 0.9619 - loss: 0.1008 - val_accuracy: 0.9484 - val_loss: 0.1415\n"
     ]
    },
    {
     "name": "stderr",
     "output_type": "stream",
     "text": [
      "2024/09/24 09:36:20 WARNING mlflow.keras.save: You are saving a Keras model without specifying model signature.\n"
     ]
    },
    {
     "name": "stdout",
     "output_type": "stream",
     "text": [
      "Model saved at: model_token/Simple_LSTM_1000_64.keras\n"
     ]
    },
    {
     "name": "stderr",
     "output_type": "stream",
     "text": [
      "/opt/homebrew/anaconda3/envs/intern/lib/python3.11/site-packages/_distutils_hack/__init__.py:32: UserWarning: Setuptools is replacing distutils. Support for replacing an already imported distutils is deprecated. In the future, this condition will fail. Register concerns at https://github.com/pypa/setuptools/issues/new?template=distutils-deprecation.yml\n",
      "  warnings.warn(\n",
      "2024/09/24 09:37:30 INFO mlflow.tracking._tracking_service.client: 🏃 View run invincible-tern-528 at: https://mlflow-service-1073438601911.us-west2.run.app/#/experiments/1/runs/ae526ecd037b43e69936e94473d00f29.\n",
      "2024/09/24 09:37:30 INFO mlflow.tracking._tracking_service.client: 🧪 View experiment at: https://mlflow-service-1073438601911.us-west2.run.app/#/experiments/1.\n"
     ]
    },
    {
     "ename": "MlflowException",
     "evalue": "API request to https://mlflow-service-1073438601911.us-west2.run.app/api/2.0/mlflow-artifacts/artifacts/1/ae526ecd037b43e69936e94473d00f29/artifacts/Simple_LSTM_1000_64/python_env.yaml failed with exception HTTPSConnectionPool(host='mlflow-service-1073438601911.us-west2.run.app', port=443): Max retries exceeded with url: /api/2.0/mlflow-artifacts/artifacts/1/ae526ecd037b43e69936e94473d00f29/artifacts/Simple_LSTM_1000_64/python_env.yaml (Caused by ResponseError('too many 500 error responses'))",
     "output_type": "error",
     "traceback": [
      "\u001b[0;31m---------------------------------------------------------------------------\u001b[0m",
      "\u001b[0;31mResponseError\u001b[0m                             Traceback (most recent call last)",
      "\u001b[0;31mResponseError\u001b[0m: too many 500 error responses",
      "\nThe above exception was the direct cause of the following exception:\n",
      "\u001b[0;31mMaxRetryError\u001b[0m                             Traceback (most recent call last)",
      "File \u001b[0;32m/opt/homebrew/anaconda3/envs/intern/lib/python3.11/site-packages/requests/adapters.py:667\u001b[0m, in \u001b[0;36mHTTPAdapter.send\u001b[0;34m(self, request, stream, timeout, verify, cert, proxies)\u001b[0m\n\u001b[1;32m    666\u001b[0m \u001b[39mtry\u001b[39;00m:\n\u001b[0;32m--> 667\u001b[0m     resp \u001b[39m=\u001b[39m conn\u001b[39m.\u001b[39;49murlopen(\n\u001b[1;32m    668\u001b[0m         method\u001b[39m=\u001b[39;49mrequest\u001b[39m.\u001b[39;49mmethod,\n\u001b[1;32m    669\u001b[0m         url\u001b[39m=\u001b[39;49murl,\n\u001b[1;32m    670\u001b[0m         body\u001b[39m=\u001b[39;49mrequest\u001b[39m.\u001b[39;49mbody,\n\u001b[1;32m    671\u001b[0m         headers\u001b[39m=\u001b[39;49mrequest\u001b[39m.\u001b[39;49mheaders,\n\u001b[1;32m    672\u001b[0m         redirect\u001b[39m=\u001b[39;49m\u001b[39mFalse\u001b[39;49;00m,\n\u001b[1;32m    673\u001b[0m         assert_same_host\u001b[39m=\u001b[39;49m\u001b[39mFalse\u001b[39;49;00m,\n\u001b[1;32m    674\u001b[0m         preload_content\u001b[39m=\u001b[39;49m\u001b[39mFalse\u001b[39;49;00m,\n\u001b[1;32m    675\u001b[0m         decode_content\u001b[39m=\u001b[39;49m\u001b[39mFalse\u001b[39;49;00m,\n\u001b[1;32m    676\u001b[0m         retries\u001b[39m=\u001b[39;49m\u001b[39mself\u001b[39;49m\u001b[39m.\u001b[39;49mmax_retries,\n\u001b[1;32m    677\u001b[0m         timeout\u001b[39m=\u001b[39;49mtimeout,\n\u001b[1;32m    678\u001b[0m         chunked\u001b[39m=\u001b[39;49mchunked,\n\u001b[1;32m    679\u001b[0m     )\n\u001b[1;32m    681\u001b[0m \u001b[39mexcept\u001b[39;00m (ProtocolError, \u001b[39mOSError\u001b[39;00m) \u001b[39mas\u001b[39;00m err:\n",
      "File \u001b[0;32m/opt/homebrew/anaconda3/envs/intern/lib/python3.11/site-packages/urllib3/connectionpool.py:944\u001b[0m, in \u001b[0;36mHTTPConnectionPool.urlopen\u001b[0;34m(self, method, url, body, headers, retries, redirect, assert_same_host, timeout, pool_timeout, release_conn, chunked, body_pos, preload_content, decode_content, **response_kw)\u001b[0m\n\u001b[1;32m    943\u001b[0m     log\u001b[39m.\u001b[39mdebug(\u001b[39m\"\u001b[39m\u001b[39mRetry: \u001b[39m\u001b[39m%s\u001b[39;00m\u001b[39m\"\u001b[39m, url)\n\u001b[0;32m--> 944\u001b[0m     \u001b[39mreturn\u001b[39;00m \u001b[39mself\u001b[39;49m\u001b[39m.\u001b[39;49murlopen(\n\u001b[1;32m    945\u001b[0m         method,\n\u001b[1;32m    946\u001b[0m         url,\n\u001b[1;32m    947\u001b[0m         body,\n\u001b[1;32m    948\u001b[0m         headers,\n\u001b[1;32m    949\u001b[0m         retries\u001b[39m=\u001b[39;49mretries,\n\u001b[1;32m    950\u001b[0m         redirect\u001b[39m=\u001b[39;49mredirect,\n\u001b[1;32m    951\u001b[0m         assert_same_host\u001b[39m=\u001b[39;49massert_same_host,\n\u001b[1;32m    952\u001b[0m         timeout\u001b[39m=\u001b[39;49mtimeout,\n\u001b[1;32m    953\u001b[0m         pool_timeout\u001b[39m=\u001b[39;49mpool_timeout,\n\u001b[1;32m    954\u001b[0m         release_conn\u001b[39m=\u001b[39;49mrelease_conn,\n\u001b[1;32m    955\u001b[0m         chunked\u001b[39m=\u001b[39;49mchunked,\n\u001b[1;32m    956\u001b[0m         body_pos\u001b[39m=\u001b[39;49mbody_pos,\n\u001b[1;32m    957\u001b[0m         preload_content\u001b[39m=\u001b[39;49mpreload_content,\n\u001b[1;32m    958\u001b[0m         decode_content\u001b[39m=\u001b[39;49mdecode_content,\n\u001b[1;32m    959\u001b[0m         \u001b[39m*\u001b[39;49m\u001b[39m*\u001b[39;49mresponse_kw,\n\u001b[1;32m    960\u001b[0m     )\n\u001b[1;32m    962\u001b[0m \u001b[39mreturn\u001b[39;00m response\n",
      "File \u001b[0;32m/opt/homebrew/anaconda3/envs/intern/lib/python3.11/site-packages/urllib3/connectionpool.py:944\u001b[0m, in \u001b[0;36mHTTPConnectionPool.urlopen\u001b[0;34m(self, method, url, body, headers, retries, redirect, assert_same_host, timeout, pool_timeout, release_conn, chunked, body_pos, preload_content, decode_content, **response_kw)\u001b[0m\n\u001b[1;32m    943\u001b[0m     log\u001b[39m.\u001b[39mdebug(\u001b[39m\"\u001b[39m\u001b[39mRetry: \u001b[39m\u001b[39m%s\u001b[39;00m\u001b[39m\"\u001b[39m, url)\n\u001b[0;32m--> 944\u001b[0m     \u001b[39mreturn\u001b[39;00m \u001b[39mself\u001b[39;49m\u001b[39m.\u001b[39;49murlopen(\n\u001b[1;32m    945\u001b[0m         method,\n\u001b[1;32m    946\u001b[0m         url,\n\u001b[1;32m    947\u001b[0m         body,\n\u001b[1;32m    948\u001b[0m         headers,\n\u001b[1;32m    949\u001b[0m         retries\u001b[39m=\u001b[39;49mretries,\n\u001b[1;32m    950\u001b[0m         redirect\u001b[39m=\u001b[39;49mredirect,\n\u001b[1;32m    951\u001b[0m         assert_same_host\u001b[39m=\u001b[39;49massert_same_host,\n\u001b[1;32m    952\u001b[0m         timeout\u001b[39m=\u001b[39;49mtimeout,\n\u001b[1;32m    953\u001b[0m         pool_timeout\u001b[39m=\u001b[39;49mpool_timeout,\n\u001b[1;32m    954\u001b[0m         release_conn\u001b[39m=\u001b[39;49mrelease_conn,\n\u001b[1;32m    955\u001b[0m         chunked\u001b[39m=\u001b[39;49mchunked,\n\u001b[1;32m    956\u001b[0m         body_pos\u001b[39m=\u001b[39;49mbody_pos,\n\u001b[1;32m    957\u001b[0m         preload_content\u001b[39m=\u001b[39;49mpreload_content,\n\u001b[1;32m    958\u001b[0m         decode_content\u001b[39m=\u001b[39;49mdecode_content,\n\u001b[1;32m    959\u001b[0m         \u001b[39m*\u001b[39;49m\u001b[39m*\u001b[39;49mresponse_kw,\n\u001b[1;32m    960\u001b[0m     )\n\u001b[1;32m    962\u001b[0m \u001b[39mreturn\u001b[39;00m response\n",
      "    \u001b[0;31m[... skipping similar frames: HTTPConnectionPool.urlopen at line 944 (2 times)]\u001b[0m\n",
      "File \u001b[0;32m/opt/homebrew/anaconda3/envs/intern/lib/python3.11/site-packages/urllib3/connectionpool.py:944\u001b[0m, in \u001b[0;36mHTTPConnectionPool.urlopen\u001b[0;34m(self, method, url, body, headers, retries, redirect, assert_same_host, timeout, pool_timeout, release_conn, chunked, body_pos, preload_content, decode_content, **response_kw)\u001b[0m\n\u001b[1;32m    943\u001b[0m     log\u001b[39m.\u001b[39mdebug(\u001b[39m\"\u001b[39m\u001b[39mRetry: \u001b[39m\u001b[39m%s\u001b[39;00m\u001b[39m\"\u001b[39m, url)\n\u001b[0;32m--> 944\u001b[0m     \u001b[39mreturn\u001b[39;00m \u001b[39mself\u001b[39;49m\u001b[39m.\u001b[39;49murlopen(\n\u001b[1;32m    945\u001b[0m         method,\n\u001b[1;32m    946\u001b[0m         url,\n\u001b[1;32m    947\u001b[0m         body,\n\u001b[1;32m    948\u001b[0m         headers,\n\u001b[1;32m    949\u001b[0m         retries\u001b[39m=\u001b[39;49mretries,\n\u001b[1;32m    950\u001b[0m         redirect\u001b[39m=\u001b[39;49mredirect,\n\u001b[1;32m    951\u001b[0m         assert_same_host\u001b[39m=\u001b[39;49massert_same_host,\n\u001b[1;32m    952\u001b[0m         timeout\u001b[39m=\u001b[39;49mtimeout,\n\u001b[1;32m    953\u001b[0m         pool_timeout\u001b[39m=\u001b[39;49mpool_timeout,\n\u001b[1;32m    954\u001b[0m         release_conn\u001b[39m=\u001b[39;49mrelease_conn,\n\u001b[1;32m    955\u001b[0m         chunked\u001b[39m=\u001b[39;49mchunked,\n\u001b[1;32m    956\u001b[0m         body_pos\u001b[39m=\u001b[39;49mbody_pos,\n\u001b[1;32m    957\u001b[0m         preload_content\u001b[39m=\u001b[39;49mpreload_content,\n\u001b[1;32m    958\u001b[0m         decode_content\u001b[39m=\u001b[39;49mdecode_content,\n\u001b[1;32m    959\u001b[0m         \u001b[39m*\u001b[39;49m\u001b[39m*\u001b[39;49mresponse_kw,\n\u001b[1;32m    960\u001b[0m     )\n\u001b[1;32m    962\u001b[0m \u001b[39mreturn\u001b[39;00m response\n",
      "File \u001b[0;32m/opt/homebrew/anaconda3/envs/intern/lib/python3.11/site-packages/urllib3/connectionpool.py:934\u001b[0m, in \u001b[0;36mHTTPConnectionPool.urlopen\u001b[0;34m(self, method, url, body, headers, retries, redirect, assert_same_host, timeout, pool_timeout, release_conn, chunked, body_pos, preload_content, decode_content, **response_kw)\u001b[0m\n\u001b[1;32m    933\u001b[0m \u001b[39mtry\u001b[39;00m:\n\u001b[0;32m--> 934\u001b[0m     retries \u001b[39m=\u001b[39m retries\u001b[39m.\u001b[39;49mincrement(method, url, response\u001b[39m=\u001b[39;49mresponse, _pool\u001b[39m=\u001b[39;49m\u001b[39mself\u001b[39;49m)\n\u001b[1;32m    935\u001b[0m \u001b[39mexcept\u001b[39;00m MaxRetryError:\n",
      "File \u001b[0;32m/opt/homebrew/anaconda3/envs/intern/lib/python3.11/site-packages/urllib3/util/retry.py:519\u001b[0m, in \u001b[0;36mRetry.increment\u001b[0;34m(self, method, url, response, error, _pool, _stacktrace)\u001b[0m\n\u001b[1;32m    518\u001b[0m     reason \u001b[39m=\u001b[39m error \u001b[39mor\u001b[39;00m ResponseError(cause)\n\u001b[0;32m--> 519\u001b[0m     \u001b[39mraise\u001b[39;00m MaxRetryError(_pool, url, reason) \u001b[39mfrom\u001b[39;00m \u001b[39mreason\u001b[39;00m  \u001b[39m# type: ignore[arg-type]\u001b[39;00m\n\u001b[1;32m    521\u001b[0m log\u001b[39m.\u001b[39mdebug(\u001b[39m\"\u001b[39m\u001b[39mIncremented Retry for (url=\u001b[39m\u001b[39m'\u001b[39m\u001b[39m%s\u001b[39;00m\u001b[39m'\u001b[39m\u001b[39m): \u001b[39m\u001b[39m%r\u001b[39;00m\u001b[39m\"\u001b[39m, url, new_retry)\n",
      "\u001b[0;31mMaxRetryError\u001b[0m: HTTPSConnectionPool(host='mlflow-service-1073438601911.us-west2.run.app', port=443): Max retries exceeded with url: /api/2.0/mlflow-artifacts/artifacts/1/ae526ecd037b43e69936e94473d00f29/artifacts/Simple_LSTM_1000_64/python_env.yaml (Caused by ResponseError('too many 500 error responses'))",
      "\nDuring handling of the above exception, another exception occurred:\n",
      "\u001b[0;31mRetryError\u001b[0m                                Traceback (most recent call last)",
      "File \u001b[0;32m/opt/homebrew/anaconda3/envs/intern/lib/python3.11/site-packages/mlflow/utils/rest_utils.py:187\u001b[0m, in \u001b[0;36mhttp_request\u001b[0;34m(host_creds, endpoint, method, max_retries, backoff_factor, backoff_jitter, extra_headers, retry_codes, timeout, raise_on_status, respect_retry_after_header, **kwargs)\u001b[0m\n\u001b[1;32m    186\u001b[0m \u001b[39mtry\u001b[39;00m:\n\u001b[0;32m--> 187\u001b[0m     \u001b[39mreturn\u001b[39;00m _get_http_response_with_retries(\n\u001b[1;32m    188\u001b[0m         method,\n\u001b[1;32m    189\u001b[0m         url,\n\u001b[1;32m    190\u001b[0m         max_retries,\n\u001b[1;32m    191\u001b[0m         backoff_factor,\n\u001b[1;32m    192\u001b[0m         backoff_jitter,\n\u001b[1;32m    193\u001b[0m         retry_codes,\n\u001b[1;32m    194\u001b[0m         raise_on_status,\n\u001b[1;32m    195\u001b[0m         headers\u001b[39m=\u001b[39;49mheaders,\n\u001b[1;32m    196\u001b[0m         verify\u001b[39m=\u001b[39;49mhost_creds\u001b[39m.\u001b[39;49mverify,\n\u001b[1;32m    197\u001b[0m         timeout\u001b[39m=\u001b[39;49mtimeout,\n\u001b[1;32m    198\u001b[0m         respect_retry_after_header\u001b[39m=\u001b[39;49mrespect_retry_after_header,\n\u001b[1;32m    199\u001b[0m         \u001b[39m*\u001b[39;49m\u001b[39m*\u001b[39;49mkwargs,\n\u001b[1;32m    200\u001b[0m     )\n\u001b[1;32m    201\u001b[0m \u001b[39mexcept\u001b[39;00m requests\u001b[39m.\u001b[39mexceptions\u001b[39m.\u001b[39mTimeout \u001b[39mas\u001b[39;00m to:\n",
      "File \u001b[0;32m/opt/homebrew/anaconda3/envs/intern/lib/python3.11/site-packages/mlflow/utils/request_utils.py:237\u001b[0m, in \u001b[0;36m_get_http_response_with_retries\u001b[0;34m(method, url, max_retries, backoff_factor, backoff_jitter, retry_codes, raise_on_status, allow_redirects, respect_retry_after_header, **kwargs)\u001b[0m\n\u001b[1;32m    235\u001b[0m allow_redirects \u001b[39m=\u001b[39m env_value \u001b[39mif\u001b[39;00m allow_redirects \u001b[39mis\u001b[39;00m \u001b[39mNone\u001b[39;00m \u001b[39melse\u001b[39;00m allow_redirects\n\u001b[0;32m--> 237\u001b[0m \u001b[39mreturn\u001b[39;00m session\u001b[39m.\u001b[39;49mrequest(method, url, allow_redirects\u001b[39m=\u001b[39;49mallow_redirects, \u001b[39m*\u001b[39;49m\u001b[39m*\u001b[39;49mkwargs)\n",
      "File \u001b[0;32m/opt/homebrew/anaconda3/envs/intern/lib/python3.11/site-packages/requests/sessions.py:589\u001b[0m, in \u001b[0;36mSession.request\u001b[0;34m(self, method, url, params, data, headers, cookies, files, auth, timeout, allow_redirects, proxies, hooks, stream, verify, cert, json)\u001b[0m\n\u001b[1;32m    588\u001b[0m send_kwargs\u001b[39m.\u001b[39mupdate(settings)\n\u001b[0;32m--> 589\u001b[0m resp \u001b[39m=\u001b[39m \u001b[39mself\u001b[39;49m\u001b[39m.\u001b[39;49msend(prep, \u001b[39m*\u001b[39;49m\u001b[39m*\u001b[39;49msend_kwargs)\n\u001b[1;32m    591\u001b[0m \u001b[39mreturn\u001b[39;00m resp\n",
      "File \u001b[0;32m/opt/homebrew/anaconda3/envs/intern/lib/python3.11/site-packages/requests/sessions.py:703\u001b[0m, in \u001b[0;36mSession.send\u001b[0;34m(self, request, **kwargs)\u001b[0m\n\u001b[1;32m    702\u001b[0m \u001b[39m# Send the request\u001b[39;00m\n\u001b[0;32m--> 703\u001b[0m r \u001b[39m=\u001b[39m adapter\u001b[39m.\u001b[39;49msend(request, \u001b[39m*\u001b[39;49m\u001b[39m*\u001b[39;49mkwargs)\n\u001b[1;32m    705\u001b[0m \u001b[39m# Total elapsed time of the request (approximately)\u001b[39;00m\n",
      "File \u001b[0;32m/opt/homebrew/anaconda3/envs/intern/lib/python3.11/site-packages/requests/adapters.py:691\u001b[0m, in \u001b[0;36mHTTPAdapter.send\u001b[0;34m(self, request, stream, timeout, verify, cert, proxies)\u001b[0m\n\u001b[1;32m    690\u001b[0m \u001b[39mif\u001b[39;00m \u001b[39misinstance\u001b[39m(e\u001b[39m.\u001b[39mreason, ResponseError):\n\u001b[0;32m--> 691\u001b[0m     \u001b[39mraise\u001b[39;00m RetryError(e, request\u001b[39m=\u001b[39mrequest)\n\u001b[1;32m    693\u001b[0m \u001b[39mif\u001b[39;00m \u001b[39misinstance\u001b[39m(e\u001b[39m.\u001b[39mreason, _ProxyError):\n",
      "\u001b[0;31mRetryError\u001b[0m: HTTPSConnectionPool(host='mlflow-service-1073438601911.us-west2.run.app', port=443): Max retries exceeded with url: /api/2.0/mlflow-artifacts/artifacts/1/ae526ecd037b43e69936e94473d00f29/artifacts/Simple_LSTM_1000_64/python_env.yaml (Caused by ResponseError('too many 500 error responses'))",
      "\nDuring handling of the above exception, another exception occurred:\n",
      "\u001b[0;31mMlflowException\u001b[0m                           Traceback (most recent call last)",
      "Cell \u001b[0;32mIn[9], line 63\u001b[0m\n\u001b[1;32m     61\u001b[0m \u001b[39m# Log the model to MLflow\u001b[39;00m\n\u001b[1;32m     62\u001b[0m mlflow\u001b[39m.\u001b[39mlog_params({\u001b[39m\"\u001b[39m\u001b[39minput_dim\u001b[39m\u001b[39m\"\u001b[39m: input_dim, \u001b[39m\"\u001b[39m\u001b[39moutput_dim\u001b[39m\u001b[39m\"\u001b[39m: output_dim, \u001b[39m\"\u001b[39m\u001b[39minput_length\u001b[39m\u001b[39m\"\u001b[39m: input_length})\n\u001b[0;32m---> 63\u001b[0m mlflow\u001b[39m.\u001b[39;49mkeras\u001b[39m.\u001b[39;49mlog_model(model, artifact_path\u001b[39m=\u001b[39;49mmodel_name)\n\u001b[1;32m     64\u001b[0m \u001b[39mprint\u001b[39m(\u001b[39mf\u001b[39m\u001b[39m\"\u001b[39m\u001b[39mModel logged in MLflow as \u001b[39m\u001b[39m{\u001b[39;00mmodel_name\u001b[39m}\u001b[39;00m\u001b[39m\"\u001b[39m)\n\u001b[1;32m     66\u001b[0m \u001b[39m# Evaluate the model\u001b[39;00m\n",
      "File \u001b[0;32m/opt/homebrew/anaconda3/envs/intern/lib/python3.11/site-packages/mlflow/keras/save.py:339\u001b[0m, in \u001b[0;36mlog_model\u001b[0;34m(model, artifact_path, save_exported_model, conda_env, signature, input_example, registered_model_name, await_registration_for, pip_requirements, extra_pip_requirements, save_model_kwargs, metadata)\u001b[0m\n\u001b[1;32m    277\u001b[0m \u001b[39m@experimental\u001b[39m\n\u001b[1;32m    278\u001b[0m \u001b[39m@format_docstring\u001b[39m(LOG_MODEL_PARAM_DOCS\u001b[39m.\u001b[39mformat(package_name\u001b[39m=\u001b[39mFLAVOR_NAME))\n\u001b[1;32m    279\u001b[0m \u001b[39mdef\u001b[39;00m \u001b[39mlog_model\u001b[39m(\n\u001b[0;32m   (...)\u001b[0m\n\u001b[1;32m    291\u001b[0m     metadata\u001b[39m=\u001b[39m\u001b[39mNone\u001b[39;00m,\n\u001b[1;32m    292\u001b[0m ):\n\u001b[1;32m    293\u001b[0m \u001b[39m    \u001b[39m\u001b[39m\"\"\"\u001b[39;00m\n\u001b[1;32m    294\u001b[0m \u001b[39m    Log a Keras model along with metadata to MLflow.\u001b[39;00m\n\u001b[1;32m    295\u001b[0m \n\u001b[0;32m   (...)\u001b[0m\n\u001b[1;32m    337\u001b[0m \u001b[39m            mlflow.keras.log_model(model, \"model\")\u001b[39;00m\n\u001b[1;32m    338\u001b[0m \u001b[39m    \"\"\"\u001b[39;00m\n\u001b[0;32m--> 339\u001b[0m     \u001b[39mreturn\u001b[39;00m Model\u001b[39m.\u001b[39;49mlog(\n\u001b[1;32m    340\u001b[0m         artifact_path\u001b[39m=\u001b[39;49martifact_path,\n\u001b[1;32m    341\u001b[0m         flavor\u001b[39m=\u001b[39;49mmlflow\u001b[39m.\u001b[39;49mkeras,\n\u001b[1;32m    342\u001b[0m         model\u001b[39m=\u001b[39;49mmodel,\n\u001b[1;32m    343\u001b[0m         conda_env\u001b[39m=\u001b[39;49mconda_env,\n\u001b[1;32m    344\u001b[0m         registered_model_name\u001b[39m=\u001b[39;49mregistered_model_name,\n\u001b[1;32m    345\u001b[0m         signature\u001b[39m=\u001b[39;49msignature,\n\u001b[1;32m    346\u001b[0m         input_example\u001b[39m=\u001b[39;49minput_example,\n\u001b[1;32m    347\u001b[0m         await_registration_for\u001b[39m=\u001b[39;49mawait_registration_for,\n\u001b[1;32m    348\u001b[0m         pip_requirements\u001b[39m=\u001b[39;49mpip_requirements,\n\u001b[1;32m    349\u001b[0m         extra_pip_requirements\u001b[39m=\u001b[39;49mextra_pip_requirements,\n\u001b[1;32m    350\u001b[0m         save_model_kwargs\u001b[39m=\u001b[39;49msave_model_kwargs,\n\u001b[1;32m    351\u001b[0m         save_exported_model\u001b[39m=\u001b[39;49msave_exported_model,\n\u001b[1;32m    352\u001b[0m         metadata\u001b[39m=\u001b[39;49mmetadata,\n\u001b[1;32m    353\u001b[0m     )\n",
      "File \u001b[0;32m/opt/homebrew/anaconda3/envs/intern/lib/python3.11/site-packages/mlflow/models/model.py:714\u001b[0m, in \u001b[0;36mModel.log\u001b[0;34m(cls, artifact_path, flavor, registered_model_name, await_registration_for, metadata, run_id, resources, **kwargs)\u001b[0m\n\u001b[1;32m    710\u001b[0m \u001b[39mif\u001b[39;00m mlflow_model\u001b[39m.\u001b[39msignature \u001b[39mis\u001b[39;00m \u001b[39mNone\u001b[39;00m \u001b[39mand\u001b[39;00m (\n\u001b[1;32m    711\u001b[0m     tracking_uri \u001b[39m==\u001b[39m \u001b[39m\"\u001b[39m\u001b[39mdatabricks\u001b[39m\u001b[39m\"\u001b[39m \u001b[39mor\u001b[39;00m get_uri_scheme(tracking_uri) \u001b[39m==\u001b[39m \u001b[39m\"\u001b[39m\u001b[39mdatabricks\u001b[39m\u001b[39m\"\u001b[39m\n\u001b[1;32m    712\u001b[0m ):\n\u001b[1;32m    713\u001b[0m     _logger\u001b[39m.\u001b[39mwarning(_LOG_MODEL_MISSING_SIGNATURE_WARNING)\n\u001b[0;32m--> 714\u001b[0m mlflow\u001b[39m.\u001b[39;49mtracking\u001b[39m.\u001b[39;49mfluent\u001b[39m.\u001b[39;49mlog_artifacts(local_path, mlflow_model\u001b[39m.\u001b[39;49martifact_path, run_id)\n\u001b[1;32m    716\u001b[0m \u001b[39m# if the model_config kwarg is passed in, then log the model config as an params\u001b[39;00m\n\u001b[1;32m    717\u001b[0m \u001b[39mif\u001b[39;00m model_config \u001b[39m:=\u001b[39m kwargs\u001b[39m.\u001b[39mget(\u001b[39m\"\u001b[39m\u001b[39mmodel_config\u001b[39m\u001b[39m\"\u001b[39m):\n",
      "File \u001b[0;32m/opt/homebrew/anaconda3/envs/intern/lib/python3.11/site-packages/mlflow/tracking/fluent.py:1147\u001b[0m, in \u001b[0;36mlog_artifacts\u001b[0;34m(local_dir, artifact_path, run_id)\u001b[0m\n\u001b[1;32m   1115\u001b[0m \u001b[39m\u001b[39m\u001b[39m\"\"\"\u001b[39;00m\n\u001b[1;32m   1116\u001b[0m \u001b[39mLog all the contents of a local directory as artifacts of the run. If no run is active,\u001b[39;00m\n\u001b[1;32m   1117\u001b[0m \u001b[39mthis method will create a new active run.\u001b[39;00m\n\u001b[0;32m   (...)\u001b[0m\n\u001b[1;32m   1144\u001b[0m \u001b[39m            mlflow.log_artifacts(tmp_dir, artifact_path=\"states\")\u001b[39;00m\n\u001b[1;32m   1145\u001b[0m \u001b[39m\"\"\"\u001b[39;00m\n\u001b[1;32m   1146\u001b[0m run_id \u001b[39m=\u001b[39m run_id \u001b[39mor\u001b[39;00m _get_or_start_run()\u001b[39m.\u001b[39minfo\u001b[39m.\u001b[39mrun_id\n\u001b[0;32m-> 1147\u001b[0m MlflowClient()\u001b[39m.\u001b[39;49mlog_artifacts(run_id, local_dir, artifact_path)\n",
      "File \u001b[0;32m/opt/homebrew/anaconda3/envs/intern/lib/python3.11/site-packages/mlflow/tracking/client.py:1962\u001b[0m, in \u001b[0;36mMlflowClient.log_artifacts\u001b[0;34m(self, run_id, local_dir, artifact_path)\u001b[0m\n\u001b[1;32m   1916\u001b[0m \u001b[39mdef\u001b[39;00m \u001b[39mlog_artifacts\u001b[39m(\n\u001b[1;32m   1917\u001b[0m     \u001b[39mself\u001b[39m, run_id: \u001b[39mstr\u001b[39m, local_dir: \u001b[39mstr\u001b[39m, artifact_path: Optional[\u001b[39mstr\u001b[39m] \u001b[39m=\u001b[39m \u001b[39mNone\u001b[39;00m\n\u001b[1;32m   1918\u001b[0m ) \u001b[39m-\u001b[39m\u001b[39m>\u001b[39m \u001b[39mNone\u001b[39;00m:\n\u001b[1;32m   1919\u001b[0m \u001b[39m    \u001b[39m\u001b[39m\"\"\"Write a directory of files to the remote ``artifact_uri``.\u001b[39;00m\n\u001b[1;32m   1920\u001b[0m \n\u001b[1;32m   1921\u001b[0m \u001b[39m    Args:\u001b[39;00m\n\u001b[0;32m   (...)\u001b[0m\n\u001b[1;32m   1960\u001b[0m \n\u001b[1;32m   1961\u001b[0m \u001b[39m    \"\"\"\u001b[39;00m\n\u001b[0;32m-> 1962\u001b[0m     \u001b[39mself\u001b[39;49m\u001b[39m.\u001b[39;49m_tracking_client\u001b[39m.\u001b[39;49mlog_artifacts(run_id, local_dir, artifact_path)\n",
      "File \u001b[0;32m/opt/homebrew/anaconda3/envs/intern/lib/python3.11/site-packages/mlflow/tracking/_tracking_service/client.py:843\u001b[0m, in \u001b[0;36mTrackingServiceClient.log_artifacts\u001b[0;34m(self, run_id, local_dir, artifact_path)\u001b[0m\n\u001b[1;32m    835\u001b[0m \u001b[39mdef\u001b[39;00m \u001b[39mlog_artifacts\u001b[39m(\u001b[39mself\u001b[39m, run_id, local_dir, artifact_path\u001b[39m=\u001b[39m\u001b[39mNone\u001b[39;00m):\n\u001b[1;32m    836\u001b[0m \u001b[39m    \u001b[39m\u001b[39m\"\"\"Write a directory of files to the remote ``artifact_uri``.\u001b[39;00m\n\u001b[1;32m    837\u001b[0m \n\u001b[1;32m    838\u001b[0m \u001b[39m    Args:\u001b[39;00m\n\u001b[0;32m   (...)\u001b[0m\n\u001b[1;32m    841\u001b[0m \n\u001b[1;32m    842\u001b[0m \u001b[39m    \"\"\"\u001b[39;00m\n\u001b[0;32m--> 843\u001b[0m     \u001b[39mself\u001b[39;49m\u001b[39m.\u001b[39;49m_get_artifact_repo(run_id)\u001b[39m.\u001b[39;49mlog_artifacts(local_dir, artifact_path)\n",
      "File \u001b[0;32m/opt/homebrew/anaconda3/envs/intern/lib/python3.11/site-packages/mlflow/store/artifact/http_artifact_repo.py:80\u001b[0m, in \u001b[0;36mHttpArtifactRepository.log_artifacts\u001b[0;34m(self, local_dir, artifact_path)\u001b[0m\n\u001b[1;32m     76\u001b[0m     artifact_dir \u001b[39m=\u001b[39m (\n\u001b[1;32m     77\u001b[0m         posixpath\u001b[39m.\u001b[39mjoin(artifact_path, rel_path) \u001b[39mif\u001b[39;00m artifact_path \u001b[39melse\u001b[39;00m rel_path\n\u001b[1;32m     78\u001b[0m     )\n\u001b[1;32m     79\u001b[0m \u001b[39mfor\u001b[39;00m f \u001b[39min\u001b[39;00m filenames:\n\u001b[0;32m---> 80\u001b[0m     \u001b[39mself\u001b[39;49m\u001b[39m.\u001b[39;49mlog_artifact(os\u001b[39m.\u001b[39;49mpath\u001b[39m.\u001b[39;49mjoin(root, f), artifact_dir)\n",
      "File \u001b[0;32m/opt/homebrew/anaconda3/envs/intern/lib/python3.11/site-packages/mlflow/store/artifact/http_artifact_repo.py:63\u001b[0m, in \u001b[0;36mHttpArtifactRepository.log_artifact\u001b[0;34m(self, local_file, artifact_path)\u001b[0m\n\u001b[1;32m     61\u001b[0m extra_headers \u001b[39m=\u001b[39m {\u001b[39m\"\u001b[39m\u001b[39mContent-Type\u001b[39m\u001b[39m\"\u001b[39m: mime_type}\n\u001b[1;32m     62\u001b[0m \u001b[39mwith\u001b[39;00m \u001b[39mopen\u001b[39m(local_file, \u001b[39m\"\u001b[39m\u001b[39mrb\u001b[39m\u001b[39m\"\u001b[39m) \u001b[39mas\u001b[39;00m f:\n\u001b[0;32m---> 63\u001b[0m     resp \u001b[39m=\u001b[39m http_request(\n\u001b[1;32m     64\u001b[0m         \u001b[39mself\u001b[39;49m\u001b[39m.\u001b[39;49m_host_creds, endpoint, \u001b[39m\"\u001b[39;49m\u001b[39mPUT\u001b[39;49m\u001b[39m\"\u001b[39;49m, data\u001b[39m=\u001b[39;49mf, extra_headers\u001b[39m=\u001b[39;49mextra_headers\n\u001b[1;32m     65\u001b[0m     )\n\u001b[1;32m     66\u001b[0m     augmented_raise_for_status(resp)\n",
      "File \u001b[0;32m/opt/homebrew/anaconda3/envs/intern/lib/python3.11/site-packages/mlflow/utils/rest_utils.py:210\u001b[0m, in \u001b[0;36mhttp_request\u001b[0;34m(host_creds, endpoint, method, max_retries, backoff_factor, backoff_jitter, extra_headers, retry_codes, timeout, raise_on_status, respect_retry_after_header, **kwargs)\u001b[0m\n\u001b[1;32m    208\u001b[0m     \u001b[39mraise\u001b[39;00m InvalidUrlException(\u001b[39mf\u001b[39m\u001b[39m\"\u001b[39m\u001b[39mInvalid url: \u001b[39m\u001b[39m{\u001b[39;00murl\u001b[39m}\u001b[39;00m\u001b[39m\"\u001b[39m) \u001b[39mfrom\u001b[39;00m \u001b[39miu\u001b[39;00m\n\u001b[1;32m    209\u001b[0m \u001b[39mexcept\u001b[39;00m \u001b[39mException\u001b[39;00m \u001b[39mas\u001b[39;00m e:\n\u001b[0;32m--> 210\u001b[0m     \u001b[39mraise\u001b[39;00m MlflowException(\u001b[39mf\u001b[39m\u001b[39m\"\u001b[39m\u001b[39mAPI request to \u001b[39m\u001b[39m{\u001b[39;00murl\u001b[39m}\u001b[39;00m\u001b[39m failed with exception \u001b[39m\u001b[39m{\u001b[39;00me\u001b[39m}\u001b[39;00m\u001b[39m\"\u001b[39m)\n",
      "\u001b[0;31mMlflowException\u001b[0m: API request to https://mlflow-service-1073438601911.us-west2.run.app/api/2.0/mlflow-artifacts/artifacts/1/ae526ecd037b43e69936e94473d00f29/artifacts/Simple_LSTM_1000_64/python_env.yaml failed with exception HTTPSConnectionPool(host='mlflow-service-1073438601911.us-west2.run.app', port=443): Max retries exceeded with url: /api/2.0/mlflow-artifacts/artifacts/1/ae526ecd037b43e69936e94473d00f29/artifacts/Simple_LSTM_1000_64/python_env.yaml (Caused by ResponseError('too many 500 error responses'))"
     ]
    }
   ],
   "source": [
    "import os\n",
    "import mlflow\n",
    "import pickle\n",
    "import numpy as np\n",
    "from sklearn.model_selection import train_test_split\n",
    "from tensorflow.keras.models import Sequential\n",
    "from tensorflow.keras.layers import Embedding, LSTM, Dropout, Dense\n",
    "from tensorflow.keras.preprocessing.sequence import pad_sequences\n",
    "from tensorflow.keras.preprocessing.text import Tokenizer\n",
    "\n",
    "# Define directories and parameters\n",
    "save_dir = \"model_token\"\n",
    "os.makedirs(save_dir, exist_ok=True)\n",
    "input_dim = 1000  # Adjust as needed\n",
    "output_dim = 64  # Adjust as needed\n",
    "input_length = 10  # Should match the training setup\n",
    "\n",
    "# Sample data (assuming filtered_questions and filtered_labels are already defined)\n",
    "# filtered_questions = [...]  # Define your questions list here\n",
    "# filtered_labels = [...]     # Define your labels list here\n",
    "\n",
    "# Tokenization and Padding\n",
    "tokenizer = Tokenizer(num_words=input_dim)\n",
    "tokenizer.fit_on_texts(filtered_questions)\n",
    "sequences = tokenizer.texts_to_sequences(filtered_questions)\n",
    "X = pad_sequences(sequences, maxlen=input_length)\n",
    "y = np.array(filtered_labels.tolist())\n",
    "\n",
    "# Save the tokenizer\n",
    "tokenizer_path = os.path.join(save_dir, \"tokenizer.pkl\")\n",
    "with open(tokenizer_path, 'wb') as f:\n",
    "    pickle.dump(tokenizer, f)\n",
    "print(f\"Tokenizer saved at: {tokenizer_path}\")\n",
    "\n",
    "# Split data for training and evaluation\n",
    "X_train, X_test, y_train, y_test = train_test_split(X, y, test_size=0.2, random_state=42)\n",
    "\n",
    "# Start MLflow run\n",
    "with mlflow.start_run():\n",
    "    # Model: Simple LSTM\n",
    "    model_name = f\"Simple_LSTM_{input_dim}_{output_dim}\"\n",
    "    model = Sequential([\n",
    "        Embedding(input_dim=input_dim, output_dim=output_dim, input_length=input_length),\n",
    "        LSTM(output_dim),\n",
    "        Dropout(0.5),\n",
    "        Dense(32, activation='relu'),\n",
    "        Dense(3, activation='softmax')\n",
    "    ])\n",
    "\n",
    "    # Compile the model\n",
    "    model.compile(optimizer='adam', loss='categorical_crossentropy', metrics=['accuracy'])\n",
    "\n",
    "    # Train the model with a validation split to monitor training\n",
    "    model.fit(X_train, y_train, epochs=10, validation_data=(X_test, y_test), verbose=2)\n",
    "\n",
    "    # Save the model in the correct format\n",
    "    model_path = os.path.join(save_dir, model_name + \".keras\")\n",
    "    model.save(model_path)\n",
    "    print(f\"Model saved at: {model_path}\")\n",
    "\n",
    "    # Log the model to MLflow\n",
    "    mlflow.log_params({\"input_dim\": input_dim, \"output_dim\": output_dim, \"input_length\": input_length})\n",
    "    mlflow.keras.log_model(model, artifact_path=model_name)\n",
    "    print(f\"Model logged in MLflow as {model_name}\")\n",
    "\n",
    "    # Evaluate the model\n",
    "    loss, accuracy = model.evaluate(X_test, y_test, verbose=0)\n",
    "    print(f\"Model evaluation - Accuracy: {accuracy:.2f}, Loss: {loss:.2f}\")\n",
    "\n",
    "# End the MLflow run\n",
    "mlflow.end_run()\n"
   ]
  }
 ],
 "metadata": {
  "kernelspec": {
   "display_name": "base",
   "language": "python",
   "name": "python3"
  },
  "language_info": {
   "codemirror_mode": {
    "name": "ipython",
    "version": 3
   },
   "file_extension": ".py",
   "mimetype": "text/x-python",
   "name": "python",
   "nbconvert_exporter": "python",
   "pygments_lexer": "ipython3",
   "version": "3.11.9"
  },
  "orig_nbformat": 4
 },
 "nbformat": 4,
 "nbformat_minor": 2
}
