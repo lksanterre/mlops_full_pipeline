{
 "cells": [
  {
   "cell_type": "code",
   "execution_count": 1,
   "metadata": {},
   "outputs": [],
   "source": [
    "import gzip\n",
    "import pickle\n",
    "\n",
    "import mlflow\n",
    "import mlflow.keras\n",
    "import numpy as np\n",
    "import pandas as pd\n",
    "import sklearn\n",
    "from sklearn.model_selection import train_test_split\n",
    "\n",
    "import tensorflow as tf\n",
    "from tensorflow.keras.layers import (Conv1D, Embedding, GlobalMaxPooling1D,\n",
    "                                    LSTM, Dense, Dropout, Bidirectional)\n",
    "from tensorflow.keras.models import Sequential\n",
    "from tensorflow.keras.preprocessing.sequence import pad_sequences\n",
    "from tensorflow.keras.preprocessing.text import Tokenizer\n",
    "\n"
   ]
  },
  {
   "cell_type": "code",
   "execution_count": 2,
   "metadata": {},
   "outputs": [
    {
     "name": "stderr",
     "output_type": "stream",
     "text": [
      "2024/09/22 14:03:48 INFO mlflow.store.db.utils: Creating initial MLflow database tables...\n",
      "2024/09/22 14:03:48 INFO mlflow.store.db.utils: Updating database tables\n",
      "INFO  [alembic.runtime.migration] Context impl SQLiteImpl.\n",
      "INFO  [alembic.runtime.migration] Will assume non-transactional DDL.\n",
      "INFO  [alembic.runtime.migration] Running upgrade  -> 451aebb31d03, add metric step\n",
      "INFO  [alembic.runtime.migration] Running upgrade 451aebb31d03 -> 90e64c465722, migrate user column to tags\n",
      "INFO  [alembic.runtime.migration] Running upgrade 90e64c465722 -> 181f10493468, allow nulls for metric values\n",
      "INFO  [alembic.runtime.migration] Running upgrade 181f10493468 -> df50e92ffc5e, Add Experiment Tags Table\n",
      "INFO  [alembic.runtime.migration] Running upgrade df50e92ffc5e -> 7ac759974ad8, Update run tags with larger limit\n",
      "INFO  [alembic.runtime.migration] Running upgrade 7ac759974ad8 -> 89d4b8295536, create latest metrics table\n",
      "INFO  [89d4b8295536_create_latest_metrics_table_py] Migration complete!\n",
      "INFO  [alembic.runtime.migration] Running upgrade 89d4b8295536 -> 2b4d017a5e9b, add model registry tables to db\n",
      "INFO  [2b4d017a5e9b_add_model_registry_tables_to_db_py] Adding registered_models and model_versions tables to database.\n",
      "INFO  [2b4d017a5e9b_add_model_registry_tables_to_db_py] Migration complete!\n",
      "INFO  [alembic.runtime.migration] Running upgrade 2b4d017a5e9b -> cfd24bdc0731, Update run status constraint with killed\n",
      "INFO  [alembic.runtime.migration] Running upgrade cfd24bdc0731 -> 0a8213491aaa, drop_duplicate_killed_constraint\n",
      "INFO  [alembic.runtime.migration] Running upgrade 0a8213491aaa -> 728d730b5ebd, add registered model tags table\n",
      "INFO  [alembic.runtime.migration] Running upgrade 728d730b5ebd -> 27a6a02d2cf1, add model version tags table\n",
      "INFO  [alembic.runtime.migration] Running upgrade 27a6a02d2cf1 -> 84291f40a231, add run_link to model_version\n",
      "INFO  [alembic.runtime.migration] Running upgrade 84291f40a231 -> a8c4a736bde6, allow nulls for run_id\n",
      "INFO  [alembic.runtime.migration] Running upgrade a8c4a736bde6 -> 39d1c3be5f05, add_is_nan_constraint_for_metrics_tables_if_necessary\n",
      "INFO  [alembic.runtime.migration] Running upgrade 39d1c3be5f05 -> c48cb773bb87, reset_default_value_for_is_nan_in_metrics_table_for_mysql\n",
      "INFO  [alembic.runtime.migration] Running upgrade c48cb773bb87 -> bd07f7e963c5, create index on run_uuid\n",
      "INFO  [alembic.runtime.migration] Running upgrade bd07f7e963c5 -> 0c779009ac13, add deleted_time field to runs table\n",
      "INFO  [alembic.runtime.migration] Running upgrade 0c779009ac13 -> cc1f77228345, change param value length to 500\n",
      "INFO  [alembic.runtime.migration] Running upgrade cc1f77228345 -> 97727af70f4d, Add creation_time and last_update_time to experiments table\n",
      "INFO  [alembic.runtime.migration] Running upgrade 97727af70f4d -> 3500859a5d39, Add Model Aliases table\n",
      "INFO  [alembic.runtime.migration] Running upgrade 3500859a5d39 -> 7f2a7d5fae7d, add datasets inputs input_tags tables\n",
      "INFO  [alembic.runtime.migration] Running upgrade 7f2a7d5fae7d -> 2d6e25af4d3e, increase max param val length from 500 to 8000\n",
      "INFO  [alembic.runtime.migration] Running upgrade 2d6e25af4d3e -> acf3f17fdcc7, add storage location field to model versions\n",
      "INFO  [alembic.runtime.migration] Running upgrade acf3f17fdcc7 -> 867495a8f9d4, add trace tables\n",
      "INFO  [alembic.runtime.migration] Running upgrade 867495a8f9d4 -> 5b0e9adcef9c, add cascade deletion to trace tables foreign keys\n",
      "INFO  [alembic.runtime.migration] Running upgrade 5b0e9adcef9c -> 4465047574b1, increase max dataset schema size\n",
      "INFO  [alembic.runtime.migration] Context impl SQLiteImpl.\n",
      "INFO  [alembic.runtime.migration] Will assume non-transactional DDL.\n",
      "2024/09/22 14:03:48 INFO mlflow.tracking.fluent: Experiment with name 'intern-question/vector_lance/test_2' does not exist. Creating a new experiment.\n"
     ]
    },
    {
     "data": {
      "text/plain": [
       "<Experiment: artifact_location='/Users/lancesanterre/pipeline_edu/notebooks/mlruns/1', creation_time=1727039028353, experiment_id='1', last_update_time=1727039028353, lifecycle_stage='active', name='intern-question/vector_lance/test_2', tags={}>"
      ]
     },
     "execution_count": 2,
     "metadata": {},
     "output_type": "execute_result"
    }
   ],
   "source": [
    "mlflow.set_tracking_uri('sqlite:///mlflow.db')\n",
    "mlflow.set_experiment('intern-question/vector_lance/test_2')"
   ]
  },
  {
   "cell_type": "code",
   "execution_count": 13,
   "metadata": {},
   "outputs": [
    {
     "name": "stdout",
     "output_type": "stream",
     "text": [
      "                                            question           labels\n",
      "0  Which NFL team represented the AFC at Super Bo...  [1.0, 0.0, 0.0]\n",
      "1  Which NFL team represented the NFC at Super Bo...  [1.0, 0.0, 0.0]\n",
      "2                Where did Super Bowl 50 take place?  [1.0, 0.0, 0.0]\n",
      "3                  Which NFL team won Super Bowl 50?  [1.0, 0.0, 0.0]\n",
      "4  What color was used to emphasize the 50th anni...  [1.0, 0.0, 0.0]\n"
     ]
    },
    {
     "data": {
      "text/plain": [
       "0         Which NFL team represented the AFC at Super Bo...\n",
       "1         Which NFL team represented the NFC at Super Bo...\n",
       "2                       Where did Super Bowl 50 take place?\n",
       "3                         Which NFL team won Super Bowl 50?\n",
       "4         What color was used to emphasize the 50th anni...\n",
       "                                ...                        \n",
       "414915    How many keywords are there in the Racket prog...\n",
       "414916            Do you believe there is life after death?\n",
       "414917                                    What is one coin?\n",
       "414918    What is the approx annual cost of living while...\n",
       "414919                What is like to have sex with cousin?\n",
       "Name: question, Length: 414920, dtype: object"
      ]
     },
     "execution_count": 13,
     "metadata": {},
     "output_type": "execute_result"
    }
   ],
   "source": [
    "with open('/Users/lancesanterre/pipeline_edu/data/processed/pipeline_and_data.pkl', 'rb') as f:\n",
    "    df = pd.read_pickle(f)\n",
    "print(df.head())\n",
    "# Assuming the DataFrame `df` has at least one column and you want to access the first column\n",
    "questions = df['question']  # or df[0] if it's a Series or DataFrame\n",
    "questions "
   ]
  },
  {
   "cell_type": "code",
   "execution_count": 14,
   "metadata": {},
   "outputs": [],
   "source": [
    "filtered_labels = df['labels']\n",
    "filtered_questions = questions "
   ]
  },
  {
   "attachments": {},
   "cell_type": "markdown",
   "metadata": {},
   "source": [
    "# Simple LSTM"
   ]
  },
  {
   "cell_type": "code",
   "execution_count": 29,
   "metadata": {},
   "outputs": [
    {
     "name": "stdout",
     "output_type": "stream",
     "text": [
      "Epoch 1/10\n"
     ]
    },
    {
     "name": "stderr",
     "output_type": "stream",
     "text": [
      "/opt/homebrew/anaconda3/envs/intern/lib/python3.11/site-packages/keras/src/layers/core/embedding.py:90: UserWarning: Argument `input_length` is deprecated. Just remove it.\n",
      "  warnings.warn(\n"
     ]
    },
    {
     "name": "stdout",
     "output_type": "stream",
     "text": [
      "\u001b[1m10373/10373\u001b[0m \u001b[32m━━━━━━━━━━━━━━━━━━━━\u001b[0m\u001b[37m\u001b[0m \u001b[1m12s\u001b[0m 1ms/step - accuracy: 0.8777 - loss: 0.3160 - val_accuracy: 0.9281 - val_loss: 0.1764\n",
      "Epoch 2/10\n",
      "\u001b[1m10373/10373\u001b[0m \u001b[32m━━━━━━━━━━━━━━━━━━━━\u001b[0m\u001b[37m\u001b[0m \u001b[1m11s\u001b[0m 1ms/step - accuracy: 0.9254 - loss: 0.1881 - val_accuracy: 0.9322 - val_loss: 0.1674\n",
      "Epoch 3/10\n",
      "\u001b[1m10373/10373\u001b[0m \u001b[32m━━━━━━━━━━━━━━━━━━━━\u001b[0m\u001b[37m\u001b[0m \u001b[1m11s\u001b[0m 1ms/step - accuracy: 0.9325 - loss: 0.1725 - val_accuracy: 0.9356 - val_loss: 0.1621\n",
      "Epoch 4/10\n",
      "\u001b[1m10373/10373\u001b[0m \u001b[32m━━━━━━━━━━━━━━━━━━━━\u001b[0m\u001b[37m\u001b[0m \u001b[1m11s\u001b[0m 1ms/step - accuracy: 0.9355 - loss: 0.1638 - val_accuracy: 0.9379 - val_loss: 0.1600\n",
      "Epoch 5/10\n",
      "\u001b[1m10373/10373\u001b[0m \u001b[32m━━━━━━━━━━━━━━━━━━━━\u001b[0m\u001b[37m\u001b[0m \u001b[1m64s\u001b[0m 6ms/step - accuracy: 0.9387 - loss: 0.1557 - val_accuracy: 0.9379 - val_loss: 0.1582\n",
      "Epoch 6/10\n",
      "\u001b[1m10373/10373\u001b[0m \u001b[32m━━━━━━━━━━━━━━━━━━━━\u001b[0m\u001b[37m\u001b[0m \u001b[1m11s\u001b[0m 1ms/step - accuracy: 0.9402 - loss: 0.1527 - val_accuracy: 0.9395 - val_loss: 0.1542\n",
      "Epoch 7/10\n",
      "\u001b[1m10373/10373\u001b[0m \u001b[32m━━━━━━━━━━━━━━━━━━━━\u001b[0m\u001b[37m\u001b[0m \u001b[1m58s\u001b[0m 6ms/step - accuracy: 0.9427 - loss: 0.1476 - val_accuracy: 0.9404 - val_loss: 0.1568\n",
      "Epoch 8/10\n",
      "\u001b[1m10373/10373\u001b[0m \u001b[32m━━━━━━━━━━━━━━━━━━━━\u001b[0m\u001b[37m\u001b[0m \u001b[1m58s\u001b[0m 6ms/step - accuracy: 0.9432 - loss: 0.1466 - val_accuracy: 0.9405 - val_loss: 0.1547\n",
      "Epoch 9/10\n",
      "\u001b[1m10373/10373\u001b[0m \u001b[32m━━━━━━━━━━━━━━━━━━━━\u001b[0m\u001b[37m\u001b[0m \u001b[1m10s\u001b[0m 984us/step - accuracy: 0.9444 - loss: 0.1428 - val_accuracy: 0.9407 - val_loss: 0.1557\n",
      "Epoch 10/10\n",
      "\u001b[1m10373/10373\u001b[0m \u001b[32m━━━━━━━━━━━━━━━━━━━━\u001b[0m\u001b[37m\u001b[0m \u001b[1m135s\u001b[0m 13ms/step - accuracy: 0.9455 - loss: 0.1403 - val_accuracy: 0.9398 - val_loss: 0.1575\n",
      "\u001b[1m2594/2594\u001b[0m \u001b[32m━━━━━━━━━━━━━━━━━━━━\u001b[0m\u001b[37m\u001b[0m \u001b[1m1s\u001b[0m 345us/step - accuracy: 0.9392 - loss: 0.1596\n"
     ]
    },
    {
     "name": "stderr",
     "output_type": "stream",
     "text": [
      "2024/09/19 11:57:02 WARNING mlflow.keras.save: You are saving a Keras model without specifying model signature.\n",
      "/opt/homebrew/anaconda3/envs/intern/lib/python3.11/site-packages/_distutils_hack/__init__.py:32: UserWarning: Setuptools is replacing distutils. Support for replacing an already imported distutils is deprecated. In the future, this condition will fail. Register concerns at https://github.com/pypa/setuptools/issues/new?template=distutils-deprecation.yml\n",
      "  warnings.warn(\n",
      "2024/09/19 11:57:06 WARNING mlflow.models.model: Input example should be provided to infer model signature if the model signature is not provided when logging the model.\n"
     ]
    },
    {
     "name": "stdout",
     "output_type": "stream",
     "text": [
      "Model saved as Simple_LSTM_1000_16 with accuracy: 0.94\n",
      "Epoch 1/10\n",
      "\u001b[1m10373/10373\u001b[0m \u001b[32m━━━━━━━━━━━━━━━━━━━━\u001b[0m\u001b[37m\u001b[0m \u001b[1m14s\u001b[0m 1ms/step - accuracy: 0.8891 - loss: 0.2788 - val_accuracy: 0.9311 - val_loss: 0.1717\n",
      "Epoch 2/10\n",
      "\u001b[1m10373/10373\u001b[0m \u001b[32m━━━━━━━━━━━━━━━━━━━━\u001b[0m\u001b[37m\u001b[0m \u001b[1m55s\u001b[0m 5ms/step - accuracy: 0.9309 - loss: 0.1723 - val_accuracy: 0.9372 - val_loss: 0.1582\n",
      "Epoch 3/10\n",
      "\u001b[1m10373/10373\u001b[0m \u001b[32m━━━━━━━━━━━━━━━━━━━━\u001b[0m\u001b[37m\u001b[0m \u001b[1m60s\u001b[0m 6ms/step - accuracy: 0.9382 - loss: 0.1557 - val_accuracy: 0.9405 - val_loss: 0.1511\n",
      "Epoch 4/10\n",
      "\u001b[1m10373/10373\u001b[0m \u001b[32m━━━━━━━━━━━━━━━━━━━━\u001b[0m\u001b[37m\u001b[0m \u001b[1m64s\u001b[0m 6ms/step - accuracy: 0.9417 - loss: 0.1481 - val_accuracy: 0.9416 - val_loss: 0.1481\n",
      "Epoch 5/10\n",
      "\u001b[1m10373/10373\u001b[0m \u001b[32m━━━━━━━━━━━━━━━━━━━━\u001b[0m\u001b[37m\u001b[0m \u001b[1m13s\u001b[0m 1ms/step - accuracy: 0.9453 - loss: 0.1411 - val_accuracy: 0.9427 - val_loss: 0.1501\n",
      "Epoch 6/10\n",
      "\u001b[1m10373/10373\u001b[0m \u001b[32m━━━━━━━━━━━━━━━━━━━━\u001b[0m\u001b[37m\u001b[0m \u001b[1m469s\u001b[0m 45ms/step - accuracy: 0.9473 - loss: 0.1341 - val_accuracy: 0.9439 - val_loss: 0.1452\n",
      "Epoch 7/10\n",
      "\u001b[1m10373/10373\u001b[0m \u001b[32m━━━━━━━━━━━━━━━━━━━━\u001b[0m\u001b[37m\u001b[0m \u001b[1m14s\u001b[0m 1ms/step - accuracy: 0.9498 - loss: 0.1291 - val_accuracy: 0.9445 - val_loss: 0.1426\n",
      "Epoch 8/10\n",
      "\u001b[1m10373/10373\u001b[0m \u001b[32m━━━━━━━━━━━━━━━━━━━━\u001b[0m\u001b[37m\u001b[0m \u001b[1m14s\u001b[0m 1ms/step - accuracy: 0.9512 - loss: 0.1257 - val_accuracy: 0.9448 - val_loss: 0.1445\n",
      "Epoch 9/10\n",
      "\u001b[1m10373/10373\u001b[0m \u001b[32m━━━━━━━━━━━━━━━━━━━━\u001b[0m\u001b[37m\u001b[0m \u001b[1m15s\u001b[0m 1ms/step - accuracy: 0.9533 - loss: 0.1209 - val_accuracy: 0.9455 - val_loss: 0.1447\n",
      "Epoch 10/10\n",
      "\u001b[1m10373/10373\u001b[0m \u001b[32m━━━━━━━━━━━━━━━━━━━━\u001b[0m\u001b[37m\u001b[0m \u001b[1m14s\u001b[0m 1ms/step - accuracy: 0.9553 - loss: 0.1174 - val_accuracy: 0.9459 - val_loss: 0.1425\n",
      "\u001b[1m2594/2594\u001b[0m \u001b[32m━━━━━━━━━━━━━━━━━━━━\u001b[0m\u001b[37m\u001b[0m \u001b[1m1s\u001b[0m 456us/step - accuracy: 0.9456 - loss: 0.1443\n"
     ]
    },
    {
     "name": "stderr",
     "output_type": "stream",
     "text": [
      "2024/09/19 12:10:11 WARNING mlflow.keras.save: You are saving a Keras model without specifying model signature.\n",
      "2024/09/19 12:10:14 WARNING mlflow.models.model: Input example should be provided to infer model signature if the model signature is not provided when logging the model.\n"
     ]
    },
    {
     "name": "stdout",
     "output_type": "stream",
     "text": [
      "Model saved as Simple_LSTM_1000_32 with accuracy: 0.95\n",
      "Epoch 1/10\n",
      "\u001b[1m10373/10373\u001b[0m \u001b[32m━━━━━━━━━━━━━━━━━━━━\u001b[0m\u001b[37m\u001b[0m \u001b[1m27s\u001b[0m 3ms/step - accuracy: 0.8970 - loss: 0.2591 - val_accuracy: 0.9341 - val_loss: 0.1627\n",
      "Epoch 2/10\n",
      "\u001b[1m10373/10373\u001b[0m \u001b[32m━━━━━━━━━━━━━━━━━━━━\u001b[0m\u001b[37m\u001b[0m \u001b[1m27s\u001b[0m 3ms/step - accuracy: 0.9363 - loss: 0.1619 - val_accuracy: 0.9383 - val_loss: 0.1539\n",
      "Epoch 3/10\n",
      "\u001b[1m10373/10373\u001b[0m \u001b[32m━━━━━━━━━━━━━━━━━━━━\u001b[0m\u001b[37m\u001b[0m \u001b[1m25s\u001b[0m 2ms/step - accuracy: 0.9427 - loss: 0.1449 - val_accuracy: 0.9411 - val_loss: 0.1467\n",
      "Epoch 4/10\n",
      "\u001b[1m10373/10373\u001b[0m \u001b[32m━━━━━━━━━━━━━━━━━━━━\u001b[0m\u001b[37m\u001b[0m \u001b[1m24s\u001b[0m 2ms/step - accuracy: 0.9471 - loss: 0.1351 - val_accuracy: 0.9452 - val_loss: 0.1394\n",
      "Epoch 5/10\n",
      "\u001b[1m10373/10373\u001b[0m \u001b[32m━━━━━━━━━━━━━━━━━━━━\u001b[0m\u001b[37m\u001b[0m \u001b[1m25s\u001b[0m 2ms/step - accuracy: 0.9502 - loss: 0.1271 - val_accuracy: 0.9460 - val_loss: 0.1384\n",
      "Epoch 6/10\n",
      "\u001b[1m10373/10373\u001b[0m \u001b[32m━━━━━━━━━━━━━━━━━━━━\u001b[0m\u001b[37m\u001b[0m \u001b[1m24s\u001b[0m 2ms/step - accuracy: 0.9544 - loss: 0.1184 - val_accuracy: 0.9456 - val_loss: 0.1400\n",
      "Epoch 7/10\n",
      "\u001b[1m10373/10373\u001b[0m \u001b[32m━━━━━━━━━━━━━━━━━━━━\u001b[0m\u001b[37m\u001b[0m \u001b[1m24s\u001b[0m 2ms/step - accuracy: 0.9564 - loss: 0.1136 - val_accuracy: 0.9462 - val_loss: 0.1370\n",
      "Epoch 8/10\n",
      "\u001b[1m10373/10373\u001b[0m \u001b[32m━━━━━━━━━━━━━━━━━━━━\u001b[0m\u001b[37m\u001b[0m \u001b[1m24s\u001b[0m 2ms/step - accuracy: 0.9591 - loss: 0.1060 - val_accuracy: 0.9464 - val_loss: 0.1409\n",
      "Epoch 9/10\n",
      "\u001b[1m10373/10373\u001b[0m \u001b[32m━━━━━━━━━━━━━━━━━━━━\u001b[0m\u001b[37m\u001b[0m \u001b[1m24s\u001b[0m 2ms/step - accuracy: 0.9614 - loss: 0.1012 - val_accuracy: 0.9486 - val_loss: 0.1399\n",
      "Epoch 10/10\n",
      "\u001b[1m10373/10373\u001b[0m \u001b[32m━━━━━━━━━━━━━━━━━━━━\u001b[0m\u001b[37m\u001b[0m \u001b[1m24s\u001b[0m 2ms/step - accuracy: 0.9630 - loss: 0.0964 - val_accuracy: 0.9485 - val_loss: 0.1397\n",
      "\u001b[1m2594/2594\u001b[0m \u001b[32m━━━━━━━━━━━━━━━━━━━━\u001b[0m\u001b[37m\u001b[0m \u001b[1m2s\u001b[0m 659us/step - accuracy: 0.9477 - loss: 0.1416\n"
     ]
    },
    {
     "name": "stderr",
     "output_type": "stream",
     "text": [
      "2024/09/19 12:14:30 WARNING mlflow.keras.save: You are saving a Keras model without specifying model signature.\n",
      "2024/09/19 12:14:32 WARNING mlflow.models.model: Input example should be provided to infer model signature if the model signature is not provided when logging the model.\n"
     ]
    },
    {
     "name": "stdout",
     "output_type": "stream",
     "text": [
      "Model saved as Simple_LSTM_1000_64 with accuracy: 0.95\n",
      "Epoch 1/10\n",
      "\u001b[1m10373/10373\u001b[0m \u001b[32m━━━━━━━━━━━━━━━━━━━━\u001b[0m\u001b[37m\u001b[0m \u001b[1m66s\u001b[0m 6ms/step - accuracy: 0.9018 - loss: 0.2453 - val_accuracy: 0.9351 - val_loss: 0.1612\n",
      "Epoch 2/10\n",
      "\u001b[1m10373/10373\u001b[0m \u001b[32m━━━━━━━━━━━━━━━━━━━━\u001b[0m\u001b[37m\u001b[0m \u001b[1m66s\u001b[0m 6ms/step - accuracy: 0.9382 - loss: 0.1558 - val_accuracy: 0.9415 - val_loss: 0.1456\n",
      "Epoch 3/10\n",
      "\u001b[1m10373/10373\u001b[0m \u001b[32m━━━━━━━━━━━━━━━━━━━━\u001b[0m\u001b[37m\u001b[0m \u001b[1m63s\u001b[0m 6ms/step - accuracy: 0.9461 - loss: 0.1369 - val_accuracy: 0.9449 - val_loss: 0.1395\n",
      "Epoch 4/10\n",
      "\u001b[1m10373/10373\u001b[0m \u001b[32m━━━━━━━━━━━━━━━━━━━━\u001b[0m\u001b[37m\u001b[0m \u001b[1m63s\u001b[0m 6ms/step - accuracy: 0.9507 - loss: 0.1255 - val_accuracy: 0.9472 - val_loss: 0.1362\n",
      "Epoch 5/10\n",
      "\u001b[1m10373/10373\u001b[0m \u001b[32m━━━━━━━━━━━━━━━━━━━━\u001b[0m\u001b[37m\u001b[0m \u001b[1m67s\u001b[0m 6ms/step - accuracy: 0.9556 - loss: 0.1140 - val_accuracy: 0.9486 - val_loss: 0.1332\n",
      "Epoch 6/10\n",
      "\u001b[1m10373/10373\u001b[0m \u001b[32m━━━━━━━━━━━━━━━━━━━━\u001b[0m\u001b[37m\u001b[0m \u001b[1m67s\u001b[0m 6ms/step - accuracy: 0.9593 - loss: 0.1057 - val_accuracy: 0.9490 - val_loss: 0.1362\n",
      "Epoch 7/10\n",
      "\u001b[1m10373/10373\u001b[0m \u001b[32m━━━━━━━━━━━━━━━━━━━━\u001b[0m\u001b[37m\u001b[0m \u001b[1m68s\u001b[0m 7ms/step - accuracy: 0.9635 - loss: 0.0964 - val_accuracy: 0.9499 - val_loss: 0.1364\n",
      "Epoch 8/10\n",
      "\u001b[1m10373/10373\u001b[0m \u001b[32m━━━━━━━━━━━━━━━━━━━━\u001b[0m\u001b[37m\u001b[0m \u001b[1m67s\u001b[0m 6ms/step - accuracy: 0.9662 - loss: 0.0889 - val_accuracy: 0.9494 - val_loss: 0.1363\n",
      "Epoch 9/10\n",
      "\u001b[1m10373/10373\u001b[0m \u001b[32m━━━━━━━━━━━━━━━━━━━━\u001b[0m\u001b[37m\u001b[0m \u001b[1m65s\u001b[0m 6ms/step - accuracy: 0.9689 - loss: 0.0818 - val_accuracy: 0.9505 - val_loss: 0.1377\n",
      "Epoch 10/10\n",
      "\u001b[1m10373/10373\u001b[0m \u001b[32m━━━━━━━━━━━━━━━━━━━━\u001b[0m\u001b[37m\u001b[0m \u001b[1m67s\u001b[0m 6ms/step - accuracy: 0.9711 - loss: 0.0768 - val_accuracy: 0.9504 - val_loss: 0.1459\n",
      "\u001b[1m2594/2594\u001b[0m \u001b[32m━━━━━━━━━━━━━━━━━━━━\u001b[0m\u001b[37m\u001b[0m \u001b[1m4s\u001b[0m 2ms/step - accuracy: 0.9501 - loss: 0.1460\n"
     ]
    },
    {
     "name": "stderr",
     "output_type": "stream",
     "text": [
      "2024/09/19 12:25:39 WARNING mlflow.keras.save: You are saving a Keras model without specifying model signature.\n",
      "2024/09/19 12:25:42 WARNING mlflow.models.model: Input example should be provided to infer model signature if the model signature is not provided when logging the model.\n"
     ]
    },
    {
     "name": "stdout",
     "output_type": "stream",
     "text": [
      "Model saved as Simple_LSTM_1000_128 with accuracy: 0.95\n",
      "Epoch 1/10\n",
      "\u001b[1m10373/10373\u001b[0m \u001b[32m━━━━━━━━━━━━━━━━━━━━\u001b[0m\u001b[37m\u001b[0m \u001b[1m12s\u001b[0m 1ms/step - accuracy: 0.8552 - loss: 0.3640 - val_accuracy: 0.9152 - val_loss: 0.2105\n",
      "Epoch 2/10\n",
      "\u001b[1m10373/10373\u001b[0m \u001b[32m━━━━━━━━━━━━━━━━━━━━\u001b[0m\u001b[37m\u001b[0m \u001b[1m11s\u001b[0m 1ms/step - accuracy: 0.9159 - loss: 0.2124 - val_accuracy: 0.9223 - val_loss: 0.2045\n",
      "Epoch 3/10\n",
      "\u001b[1m10373/10373\u001b[0m \u001b[32m━━━━━━━━━━━━━━━━━━━━\u001b[0m\u001b[37m\u001b[0m \u001b[1m11s\u001b[0m 1ms/step - accuracy: 0.9230 - loss: 0.1937 - val_accuracy: 0.9235 - val_loss: 0.1925\n",
      "Epoch 4/10\n",
      "\u001b[1m10373/10373\u001b[0m \u001b[32m━━━━━━━━━━━━━━━━━━━━\u001b[0m\u001b[37m\u001b[0m \u001b[1m11s\u001b[0m 1ms/step - accuracy: 0.9282 - loss: 0.1818 - val_accuracy: 0.9265 - val_loss: 0.1884\n",
      "Epoch 5/10\n",
      "\u001b[1m10373/10373\u001b[0m \u001b[32m━━━━━━━━━━━━━━━━━━━━\u001b[0m\u001b[37m\u001b[0m \u001b[1m11s\u001b[0m 1ms/step - accuracy: 0.9319 - loss: 0.1727 - val_accuracy: 0.9269 - val_loss: 0.1905\n",
      "Epoch 6/10\n",
      "\u001b[1m10373/10373\u001b[0m \u001b[32m━━━━━━━━━━━━━━━━━━━━\u001b[0m\u001b[37m\u001b[0m \u001b[1m11s\u001b[0m 1ms/step - accuracy: 0.9337 - loss: 0.1683 - val_accuracy: 0.9271 - val_loss: 0.1978\n",
      "Epoch 7/10\n",
      "\u001b[1m10373/10373\u001b[0m \u001b[32m━━━━━━━━━━━━━━━━━━━━\u001b[0m\u001b[37m\u001b[0m \u001b[1m11s\u001b[0m 1ms/step - accuracy: 0.9379 - loss: 0.1612 - val_accuracy: 0.9304 - val_loss: 0.1852\n",
      "Epoch 8/10\n",
      "\u001b[1m10373/10373\u001b[0m \u001b[32m━━━━━━━━━━━━━━━━━━━━\u001b[0m\u001b[37m\u001b[0m \u001b[1m11s\u001b[0m 1ms/step - accuracy: 0.9385 - loss: 0.1583 - val_accuracy: 0.9307 - val_loss: 0.1907\n",
      "Epoch 9/10\n",
      "\u001b[1m10373/10373\u001b[0m \u001b[32m━━━━━━━━━━━━━━━━━━━━\u001b[0m\u001b[37m\u001b[0m \u001b[1m11s\u001b[0m 1ms/step - accuracy: 0.9397 - loss: 0.1540 - val_accuracy: 0.9309 - val_loss: 0.1862\n",
      "Epoch 10/10\n",
      "\u001b[1m10373/10373\u001b[0m \u001b[32m━━━━━━━━━━━━━━━━━━━━\u001b[0m\u001b[37m\u001b[0m \u001b[1m11s\u001b[0m 1ms/step - accuracy: 0.9424 - loss: 0.1503 - val_accuracy: 0.9309 - val_loss: 0.1933\n",
      "\u001b[1m2594/2594\u001b[0m \u001b[32m━━━━━━━━━━━━━━━━━━━━\u001b[0m\u001b[37m\u001b[0m \u001b[1m1s\u001b[0m 360us/step - accuracy: 0.9301 - loss: 0.1951\n"
     ]
    },
    {
     "name": "stderr",
     "output_type": "stream",
     "text": [
      "2024/09/19 12:27:36 WARNING mlflow.keras.save: You are saving a Keras model without specifying model signature.\n",
      "2024/09/19 12:27:38 WARNING mlflow.models.model: Input example should be provided to infer model signature if the model signature is not provided when logging the model.\n"
     ]
    },
    {
     "name": "stdout",
     "output_type": "stream",
     "text": [
      "Model saved as Simple_LSTM_2000_16 with accuracy: 0.93\n",
      "Epoch 1/10\n",
      "\u001b[1m10373/10373\u001b[0m \u001b[32m━━━━━━━━━━━━━━━━━━━━\u001b[0m\u001b[37m\u001b[0m \u001b[1m17s\u001b[0m 2ms/step - accuracy: 0.8743 - loss: 0.3179 - val_accuracy: 0.9196 - val_loss: 0.2001\n",
      "Epoch 2/10\n",
      "\u001b[1m10373/10373\u001b[0m \u001b[32m━━━━━━━━━━━━━━━━━━━━\u001b[0m\u001b[37m\u001b[0m \u001b[1m16s\u001b[0m 2ms/step - accuracy: 0.9213 - loss: 0.1961 - val_accuracy: 0.9238 - val_loss: 0.1857\n",
      "Epoch 3/10\n",
      "\u001b[1m10373/10373\u001b[0m \u001b[32m━━━━━━━━━━━━━━━━━━━━\u001b[0m\u001b[37m\u001b[0m \u001b[1m16s\u001b[0m 2ms/step - accuracy: 0.9290 - loss: 0.1771 - val_accuracy: 0.9300 - val_loss: 0.1771\n",
      "Epoch 4/10\n",
      "\u001b[1m10373/10373\u001b[0m \u001b[32m━━━━━━━━━━━━━━━━━━━━\u001b[0m\u001b[37m\u001b[0m \u001b[1m16s\u001b[0m 2ms/step - accuracy: 0.9348 - loss: 0.1650 - val_accuracy: 0.9310 - val_loss: 0.1740\n",
      "Epoch 5/10\n",
      "\u001b[1m10373/10373\u001b[0m \u001b[32m━━━━━━━━━━━━━━━━━━━━\u001b[0m\u001b[37m\u001b[0m \u001b[1m16s\u001b[0m 2ms/step - accuracy: 0.9396 - loss: 0.1548 - val_accuracy: 0.9305 - val_loss: 0.1725\n",
      "Epoch 6/10\n",
      "\u001b[1m10373/10373\u001b[0m \u001b[32m━━━━━━━━━━━━━━━━━━━━\u001b[0m\u001b[37m\u001b[0m \u001b[1m16s\u001b[0m 2ms/step - accuracy: 0.9429 - loss: 0.1460 - val_accuracy: 0.9332 - val_loss: 0.1704\n",
      "Epoch 7/10\n",
      "\u001b[1m10373/10373\u001b[0m \u001b[32m━━━━━━━━━━━━━━━━━━━━\u001b[0m\u001b[37m\u001b[0m \u001b[1m16s\u001b[0m 2ms/step - accuracy: 0.9454 - loss: 0.1410 - val_accuracy: 0.9335 - val_loss: 0.1719\n",
      "Epoch 8/10\n",
      "\u001b[1m10373/10373\u001b[0m \u001b[32m━━━━━━━━━━━━━━━━━━━━\u001b[0m\u001b[37m\u001b[0m \u001b[1m16s\u001b[0m 2ms/step - accuracy: 0.9489 - loss: 0.1328 - val_accuracy: 0.9343 - val_loss: 0.1735\n",
      "Epoch 9/10\n",
      "\u001b[1m10373/10373\u001b[0m \u001b[32m━━━━━━━━━━━━━━━━━━━━\u001b[0m\u001b[37m\u001b[0m \u001b[1m16s\u001b[0m 2ms/step - accuracy: 0.9506 - loss: 0.1287 - val_accuracy: 0.9340 - val_loss: 0.1751\n",
      "Epoch 10/10\n",
      "\u001b[1m10373/10373\u001b[0m \u001b[32m━━━━━━━━━━━━━━━━━━━━\u001b[0m\u001b[37m\u001b[0m \u001b[1m16s\u001b[0m 2ms/step - accuracy: 0.9531 - loss: 0.1229 - val_accuracy: 0.9348 - val_loss: 0.1747\n",
      "\u001b[1m2594/2594\u001b[0m \u001b[32m━━━━━━━━━━━━━━━━━━━━\u001b[0m\u001b[37m\u001b[0m \u001b[1m1s\u001b[0m 443us/step - accuracy: 0.9349 - loss: 0.1745\n"
     ]
    },
    {
     "name": "stderr",
     "output_type": "stream",
     "text": [
      "2024/09/19 12:30:25 WARNING mlflow.keras.save: You are saving a Keras model without specifying model signature.\n",
      "2024/09/19 12:30:28 WARNING mlflow.models.model: Input example should be provided to infer model signature if the model signature is not provided when logging the model.\n"
     ]
    },
    {
     "name": "stdout",
     "output_type": "stream",
     "text": [
      "Model saved as Simple_LSTM_2000_32 with accuracy: 0.93\n",
      "Epoch 1/10\n",
      "\u001b[1m10373/10373\u001b[0m \u001b[32m━━━━━━━━━━━━━━━━━━━━\u001b[0m\u001b[37m\u001b[0m \u001b[1m31s\u001b[0m 3ms/step - accuracy: 0.8834 - loss: 0.2908 - val_accuracy: 0.9234 - val_loss: 0.1883\n",
      "Epoch 2/10\n",
      "\u001b[1m10373/10373\u001b[0m \u001b[32m━━━━━━━━━━━━━━━━━━━━\u001b[0m\u001b[37m\u001b[0m \u001b[1m30s\u001b[0m 3ms/step - accuracy: 0.9250 - loss: 0.1844 - val_accuracy: 0.9291 - val_loss: 0.1751\n",
      "Epoch 3/10\n",
      "\u001b[1m10373/10373\u001b[0m \u001b[32m━━━━━━━━━━━━━━━━━━━━\u001b[0m\u001b[37m\u001b[0m \u001b[1m32s\u001b[0m 3ms/step - accuracy: 0.9341 - loss: 0.1655 - val_accuracy: 0.9312 - val_loss: 0.1713\n",
      "Epoch 4/10\n",
      "\u001b[1m 4347/10373\u001b[0m \u001b[32m━━━━━━━━\u001b[0m\u001b[37m━━━━━━━━━━━━\u001b[0m \u001b[1m18s\u001b[0m 3ms/step - accuracy: 0.9411 - loss: 0.1486"
     ]
    },
    {
     "ename": "KeyboardInterrupt",
     "evalue": "",
     "output_type": "error",
     "traceback": [
      "\u001b[0;31m---------------------------------------------------------------------------\u001b[0m",
      "\u001b[0;31mKeyboardInterrupt\u001b[0m                         Traceback (most recent call last)",
      "Cell \u001b[0;32mIn[29], line 30\u001b[0m\n\u001b[1;32m     28\u001b[0m model\u001b[39m.\u001b[39mcompile(optimizer\u001b[39m=\u001b[39m\u001b[39m'\u001b[39m\u001b[39madam\u001b[39m\u001b[39m'\u001b[39m, loss\u001b[39m=\u001b[39m\u001b[39m'\u001b[39m\u001b[39mcategorical_crossentropy\u001b[39m\u001b[39m'\u001b[39m, metrics\u001b[39m=\u001b[39m[\u001b[39m'\u001b[39m\u001b[39maccuracy\u001b[39m\u001b[39m'\u001b[39m])\n\u001b[1;32m     29\u001b[0m X_train, X_test, y_train, y_test \u001b[39m=\u001b[39m train_test_split(X, y, test_size\u001b[39m=\u001b[39m\u001b[39m0.2\u001b[39m, random_state\u001b[39m=\u001b[39m\u001b[39m42\u001b[39m)\n\u001b[0;32m---> 30\u001b[0m model\u001b[39m.\u001b[39;49mfit(X_train, y_train, epochs\u001b[39m=\u001b[39;49m\u001b[39m10\u001b[39;49m, validation_data\u001b[39m=\u001b[39;49m(X_test, y_test))\n\u001b[1;32m     32\u001b[0m \u001b[39m# Evaluate and log\u001b[39;00m\n\u001b[1;32m     33\u001b[0m loss, accuracy \u001b[39m=\u001b[39m model\u001b[39m.\u001b[39mevaluate(X_test, y_test)\n",
      "File \u001b[0;32m/opt/homebrew/anaconda3/envs/intern/lib/python3.11/site-packages/keras/src/utils/traceback_utils.py:117\u001b[0m, in \u001b[0;36mfilter_traceback.<locals>.error_handler\u001b[0;34m(*args, **kwargs)\u001b[0m\n\u001b[1;32m    115\u001b[0m filtered_tb \u001b[39m=\u001b[39m \u001b[39mNone\u001b[39;00m\n\u001b[1;32m    116\u001b[0m \u001b[39mtry\u001b[39;00m:\n\u001b[0;32m--> 117\u001b[0m     \u001b[39mreturn\u001b[39;00m fn(\u001b[39m*\u001b[39;49margs, \u001b[39m*\u001b[39;49m\u001b[39m*\u001b[39;49mkwargs)\n\u001b[1;32m    118\u001b[0m \u001b[39mexcept\u001b[39;00m \u001b[39mException\u001b[39;00m \u001b[39mas\u001b[39;00m e:\n\u001b[1;32m    119\u001b[0m     filtered_tb \u001b[39m=\u001b[39m _process_traceback_frames(e\u001b[39m.\u001b[39m__traceback__)\n",
      "File \u001b[0;32m/opt/homebrew/anaconda3/envs/intern/lib/python3.11/site-packages/keras/src/backend/tensorflow/trainer.py:322\u001b[0m, in \u001b[0;36mTensorFlowTrainer.fit\u001b[0;34m(self, x, y, batch_size, epochs, verbose, callbacks, validation_split, validation_data, shuffle, class_weight, sample_weight, initial_epoch, steps_per_epoch, validation_steps, validation_batch_size, validation_freq)\u001b[0m\n\u001b[1;32m    320\u001b[0m logs \u001b[39m=\u001b[39m \u001b[39mself\u001b[39m\u001b[39m.\u001b[39mtrain_function(iterator)\n\u001b[1;32m    321\u001b[0m logs \u001b[39m=\u001b[39m \u001b[39mself\u001b[39m\u001b[39m.\u001b[39m_pythonify_logs(logs)\n\u001b[0;32m--> 322\u001b[0m callbacks\u001b[39m.\u001b[39;49mon_train_batch_end(step, logs)\n\u001b[1;32m    323\u001b[0m \u001b[39mif\u001b[39;00m \u001b[39mself\u001b[39m\u001b[39m.\u001b[39mstop_training:\n\u001b[1;32m    324\u001b[0m     \u001b[39mbreak\u001b[39;00m\n",
      "File \u001b[0;32m/opt/homebrew/anaconda3/envs/intern/lib/python3.11/site-packages/keras/src/callbacks/callback_list.py:106\u001b[0m, in \u001b[0;36mCallbackList.on_train_batch_end\u001b[0;34m(self, batch, logs)\u001b[0m\n\u001b[1;32m    104\u001b[0m logs \u001b[39m=\u001b[39m logs \u001b[39mor\u001b[39;00m {}\n\u001b[1;32m    105\u001b[0m \u001b[39mfor\u001b[39;00m callback \u001b[39min\u001b[39;00m \u001b[39mself\u001b[39m\u001b[39m.\u001b[39mcallbacks:\n\u001b[0;32m--> 106\u001b[0m     callback\u001b[39m.\u001b[39;49mon_train_batch_end(batch, logs\u001b[39m=\u001b[39;49mlogs)\n",
      "File \u001b[0;32m/opt/homebrew/anaconda3/envs/intern/lib/python3.11/site-packages/keras/src/callbacks/progbar_logger.py:58\u001b[0m, in \u001b[0;36mProgbarLogger.on_train_batch_end\u001b[0;34m(self, batch, logs)\u001b[0m\n\u001b[1;32m     57\u001b[0m \u001b[39mdef\u001b[39;00m \u001b[39mon_train_batch_end\u001b[39m(\u001b[39mself\u001b[39m, batch, logs\u001b[39m=\u001b[39m\u001b[39mNone\u001b[39;00m):\n\u001b[0;32m---> 58\u001b[0m     \u001b[39mself\u001b[39;49m\u001b[39m.\u001b[39;49m_update_progbar(batch, logs)\n",
      "File \u001b[0;32m/opt/homebrew/anaconda3/envs/intern/lib/python3.11/site-packages/keras/src/callbacks/progbar_logger.py:95\u001b[0m, in \u001b[0;36mProgbarLogger._update_progbar\u001b[0;34m(self, batch, logs)\u001b[0m\n\u001b[1;32m     92\u001b[0m \u001b[39mself\u001b[39m\u001b[39m.\u001b[39mseen \u001b[39m=\u001b[39m batch \u001b[39m+\u001b[39m \u001b[39m1\u001b[39m  \u001b[39m# One-indexed.\u001b[39;00m\n\u001b[1;32m     94\u001b[0m \u001b[39mif\u001b[39;00m \u001b[39mself\u001b[39m\u001b[39m.\u001b[39mverbose \u001b[39m==\u001b[39m \u001b[39m1\u001b[39m:\n\u001b[0;32m---> 95\u001b[0m     \u001b[39mself\u001b[39;49m\u001b[39m.\u001b[39;49mprogbar\u001b[39m.\u001b[39;49mupdate(\u001b[39mself\u001b[39;49m\u001b[39m.\u001b[39;49mseen, \u001b[39mlist\u001b[39;49m(logs\u001b[39m.\u001b[39;49mitems()), finalize\u001b[39m=\u001b[39;49m\u001b[39mFalse\u001b[39;49;00m)\n",
      "File \u001b[0;32m/opt/homebrew/anaconda3/envs/intern/lib/python3.11/site-packages/keras/src/utils/progbar.py:163\u001b[0m, in \u001b[0;36mProgbar.update\u001b[0;34m(self, current, values, finalize)\u001b[0m\n\u001b[1;32m    160\u001b[0m info \u001b[39m+\u001b[39m\u001b[39m=\u001b[39m \u001b[39mf\u001b[39m\u001b[39m\"\u001b[39m\u001b[39m - \u001b[39m\u001b[39m{\u001b[39;00mk\u001b[39m}\u001b[39;00m\u001b[39m:\u001b[39m\u001b[39m\"\u001b[39m\n\u001b[1;32m    161\u001b[0m \u001b[39mif\u001b[39;00m \u001b[39misinstance\u001b[39m(\u001b[39mself\u001b[39m\u001b[39m.\u001b[39m_values[k], \u001b[39mlist\u001b[39m):\n\u001b[1;32m    162\u001b[0m     avg \u001b[39m=\u001b[39m backend\u001b[39m.\u001b[39mconvert_to_numpy(\n\u001b[0;32m--> 163\u001b[0m         backend\u001b[39m.\u001b[39;49mnumpy\u001b[39m.\u001b[39;49mmean(\n\u001b[1;32m    164\u001b[0m             \u001b[39mself\u001b[39;49m\u001b[39m.\u001b[39;49m_values[k][\u001b[39m0\u001b[39;49m] \u001b[39m/\u001b[39;49m \u001b[39mmax\u001b[39;49m(\u001b[39m1\u001b[39;49m, \u001b[39mself\u001b[39;49m\u001b[39m.\u001b[39;49m_values[k][\u001b[39m1\u001b[39;49m])\n\u001b[1;32m    165\u001b[0m         )\n\u001b[1;32m    166\u001b[0m     )\n\u001b[1;32m    167\u001b[0m     avg \u001b[39m=\u001b[39m \u001b[39mfloat\u001b[39m(avg)\n\u001b[1;32m    168\u001b[0m     \u001b[39mif\u001b[39;00m \u001b[39mabs\u001b[39m(avg) \u001b[39m>\u001b[39m \u001b[39m1e-3\u001b[39m:\n",
      "File \u001b[0;32m/opt/homebrew/anaconda3/envs/intern/lib/python3.11/site-packages/keras/src/backend/tensorflow/numpy.py:565\u001b[0m, in \u001b[0;36mmean\u001b[0;34m(x, axis, keepdims)\u001b[0m\n\u001b[1;32m    559\u001b[0m         \u001b[39mreturn\u001b[39;00m tf\u001b[39m.\u001b[39mIndexedSlices(\n\u001b[1;32m    560\u001b[0m             tf\u001b[39m.\u001b[39mreduce_mean(x\u001b[39m.\u001b[39mvalues, axis\u001b[39m=\u001b[39maxis),\n\u001b[1;32m    561\u001b[0m             x\u001b[39m.\u001b[39mindices,\n\u001b[1;32m    562\u001b[0m             tf\u001b[39m.\u001b[39mgather(x\u001b[39m.\u001b[39mdense_shape, gather_indices, axis\u001b[39m=\u001b[39m\u001b[39m0\u001b[39m),\n\u001b[1;32m    563\u001b[0m         )\n\u001b[1;32m    564\u001b[0m x \u001b[39m=\u001b[39m convert_to_tensor(x)\n\u001b[0;32m--> 565\u001b[0m ori_dtype \u001b[39m=\u001b[39m standardize_dtype(x\u001b[39m.\u001b[39;49mdtype)\n\u001b[1;32m    566\u001b[0m compute_dtype \u001b[39m=\u001b[39m dtypes\u001b[39m.\u001b[39mresult_type(x\u001b[39m.\u001b[39mdtype, \u001b[39m\"\u001b[39m\u001b[39mfloat32\u001b[39m\u001b[39m\"\u001b[39m)\n\u001b[1;32m    567\u001b[0m \u001b[39m# `tf.reduce_mean` does not handle low precision (e.g., float16) overflow\u001b[39;00m\n\u001b[1;32m    568\u001b[0m \u001b[39m# correctly, so we compute with float32 and cast back to the original type.\u001b[39;00m\n",
      "File \u001b[0;32m/opt/homebrew/anaconda3/envs/intern/lib/python3.11/site-packages/keras/src/backend/common/variables.py:495\u001b[0m, in \u001b[0;36mstandardize_dtype\u001b[0;34m(dtype)\u001b[0m\n\u001b[1;32m    493\u001b[0m \u001b[39mif\u001b[39;00m dtype \u001b[39mis\u001b[39;00m \u001b[39mNone\u001b[39;00m:\n\u001b[1;32m    494\u001b[0m     \u001b[39mreturn\u001b[39;00m config\u001b[39m.\u001b[39mfloatx()\n\u001b[0;32m--> 495\u001b[0m dtype \u001b[39m=\u001b[39m dtypes\u001b[39m.\u001b[39mPYTHON_DTYPES_MAP\u001b[39m.\u001b[39mget(dtype, dtype)\n\u001b[1;32m    496\u001b[0m \u001b[39mif\u001b[39;00m \u001b[39mhasattr\u001b[39m(dtype, \u001b[39m\"\u001b[39m\u001b[39mname\u001b[39m\u001b[39m\"\u001b[39m):\n\u001b[1;32m    497\u001b[0m     dtype \u001b[39m=\u001b[39m dtype\u001b[39m.\u001b[39mname\n",
      "\u001b[0;31mKeyboardInterrupt\u001b[0m: "
     ]
    }
   ],
   "source": [
    "best_accuracy = 0\n",
    "best_model_info = None\n",
    "\n",
    "for input_dim in [1000, 2000, 4000, 5000]:\n",
    "    for output_dim in [16, 32, 64, 128]:\n",
    "        input_length = 10\n",
    "        with mlflow.start_run():\n",
    "            # Tokenization and Padding\n",
    "            tokenizer = Tokenizer(num_words=input_dim)  # Adjust vocabulary size\n",
    "            tokenizer.fit_on_texts(filtered_questions)\n",
    "            sequences = tokenizer.texts_to_sequences(filtered_questions)\n",
    "            X = pad_sequences(sequences, maxlen=input_length)\n",
    "\n",
    "            # Convert labels to numpy array\n",
    "            y = np.array(filtered_labels.tolist())\n",
    "\n",
    "            # Model: Simple LSTM\n",
    "            model_name = f\"Simple_LSTM_{input_dim}_{output_dim}\"\n",
    "            model = Sequential([\n",
    "                Embedding(input_dim=input_dim, output_dim=output_dim, input_length=input_length),\n",
    "                LSTM(output_dim),\n",
    "                Dropout(0.5),\n",
    "                Dense(32, activation='relu'),\n",
    "                Dense(3, activation='softmax')\n",
    "            ])\n",
    "\n",
    "            # Compile and train\n",
    "            model.compile(optimizer='adam', loss='categorical_crossentropy', metrics=['accuracy'])\n",
    "            X_train, X_test, y_train, y_test = train_test_split(X, y, test_size=0.2, random_state=42)\n",
    "            model.fit(X_train, y_train, epochs=10, validation_data=(X_test, y_test))\n",
    "\n",
    "            # Evaluate and log\n",
    "            loss, accuracy = model.evaluate(X_test, y_test)\n",
    "            mlflow.log_params({\"input_dim\": input_dim, \"output_dim\": output_dim, \"input_length\": input_length})\n",
    "            mlflow.log_metrics({\"loss\": loss, \"accuracy\": accuracy})\n",
    "\n",
    "            # Save the model with a unique name\n",
    "            mlflow.keras.log_model(model, artifact_path=model_name)\n",
    "            print(f\"Model saved as {model_name} with accuracy: {accuracy:.2f}\")\n",
    "\n",
    "            # Check if this is the best model\n",
    "            if accuracy > best_accuracy:\n",
    "                best_accuracy = accuracy\n",
    "                best_model_info = {\n",
    "                    \"model_name\": model_name,\n",
    "                    \"run_id\": mlflow.active_run().info.run_id,\n",
    "                }\n",
    "\n",
    "            # End the current MLflow run to prepare for the next iteration\n",
    "            mlflow.end_run()\n",
    "\n",
    "# Register the best model\n",
    "if best_model_info:\n",
    "    print(f\"Registering the best model: {best_model_info['model_name']} with accuracy: {best_accuracy:.2f}\")\n",
    "    mlflow.register_model(\n",
    "        model_uri=f\"runs:/{best_model_info['run_id']}/{best_model_info['model_name']}\",\n",
    "        name=\"Best_Simple_LSTM_Model\"\n",
    "    )\n"
   ]
  },
  {
   "attachments": {},
   "cell_type": "markdown",
   "metadata": {},
   "source": [
    "#  Bi-directional LSTM"
   ]
  },
  {
   "cell_type": "code",
   "execution_count": null,
   "metadata": {},
   "outputs": [
    {
     "name": "stdout",
     "output_type": "stream",
     "text": [
      "Epoch 1/10\n",
      "\u001b[1m8677/8677\u001b[0m \u001b[32m━━━━━━━━━━━━━━━━━━━━\u001b[0m\u001b[37m\u001b[0m \u001b[1m20s\u001b[0m 2ms/step - accuracy: 0.9210 - loss: 0.2251 - val_accuracy: 0.9563 - val_loss: 0.1395\n",
      "Epoch 2/10\n",
      "\u001b[1m8677/8677\u001b[0m \u001b[32m━━━━━━━━━━━━━━━━━━━━\u001b[0m\u001b[37m\u001b[0m \u001b[1m18s\u001b[0m 2ms/step - accuracy: 0.9563 - loss: 0.1416 - val_accuracy: 0.9610 - val_loss: 0.1325\n",
      "Epoch 3/10\n",
      "\u001b[1m8677/8677\u001b[0m \u001b[32m━━━━━━━━━━━━━━━━━━━━\u001b[0m\u001b[37m\u001b[0m \u001b[1m18s\u001b[0m 2ms/step - accuracy: 0.9603 - loss: 0.1336 - val_accuracy: 0.9625 - val_loss: 0.1305\n",
      "Epoch 4/10\n",
      "\u001b[1m8677/8677\u001b[0m \u001b[32m━━━━━━━━━━━━━━━━━━━━\u001b[0m\u001b[37m\u001b[0m \u001b[1m18s\u001b[0m 2ms/step - accuracy: 0.9622 - loss: 0.1297 - val_accuracy: 0.9627 - val_loss: 0.1309\n",
      "Epoch 5/10\n",
      "\u001b[1m8677/8677\u001b[0m \u001b[32m━━━━━━━━━━━━━━━━━━━━\u001b[0m\u001b[37m\u001b[0m \u001b[1m18s\u001b[0m 2ms/step - accuracy: 0.9639 - loss: 0.1270 - val_accuracy: 0.9634 - val_loss: 0.1292\n",
      "Epoch 6/10\n",
      "\u001b[1m8677/8677\u001b[0m \u001b[32m━━━━━━━━━━━━━━━━━━━━\u001b[0m\u001b[37m\u001b[0m \u001b[1m18s\u001b[0m 2ms/step - accuracy: 0.9653 - loss: 0.1230 - val_accuracy: 0.9629 - val_loss: 0.1289\n",
      "Epoch 7/10\n",
      "\u001b[1m8677/8677\u001b[0m \u001b[32m━━━━━━━━━━━━━━━━━━━━\u001b[0m\u001b[37m\u001b[0m \u001b[1m18s\u001b[0m 2ms/step - accuracy: 0.9668 - loss: 0.1188 - val_accuracy: 0.9652 - val_loss: 0.1272\n",
      "Epoch 8/10\n",
      "\u001b[1m8677/8677\u001b[0m \u001b[32m━━━━━━━━━━━━━━━━━━━━\u001b[0m\u001b[37m\u001b[0m \u001b[1m18s\u001b[0m 2ms/step - accuracy: 0.9672 - loss: 0.1168 - val_accuracy: 0.9644 - val_loss: 0.1267\n",
      "Epoch 9/10\n",
      "\u001b[1m8677/8677\u001b[0m \u001b[32m━━━━━━━━━━━━━━━━━━━━\u001b[0m\u001b[37m\u001b[0m \u001b[1m18s\u001b[0m 2ms/step - accuracy: 0.9683 - loss: 0.1154 - val_accuracy: 0.9645 - val_loss: 0.1280\n",
      "Epoch 10/10\n",
      "\u001b[1m8677/8677\u001b[0m \u001b[32m━━━━━━━━━━━━━━━━━━━━\u001b[0m\u001b[37m\u001b[0m \u001b[1m18s\u001b[0m 2ms/step - accuracy: 0.9688 - loss: 0.1133 - val_accuracy: 0.9647 - val_loss: 0.1268\n",
      "\u001b[1m2170/2170\u001b[0m \u001b[32m━━━━━━━━━━━━━━━━━━━━\u001b[0m\u001b[37m\u001b[0m \u001b[1m1s\u001b[0m 492us/step - accuracy: 0.9630 - loss: 0.1300\n"
     ]
    },
    {
     "name": "stderr",
     "output_type": "stream",
     "text": [
      "2024/08/29 00:18:31 WARNING mlflow.keras.save: You are saving a Keras model without specifying model signature.\n",
      "2024/08/29 00:18:34 WARNING mlflow.models.model: Input example should be provided to infer model signature if the model signature is not provided when logging the model.\n"
     ]
    },
    {
     "name": "stdout",
     "output_type": "stream",
     "text": [
      "Model saved as Bidirectional_LSTM_1000_16 with accuracy: 0.96\n",
      "Epoch 1/10\n",
      "\u001b[1m8677/8677\u001b[0m \u001b[32m━━━━━━━━━━━━━━━━━━━━\u001b[0m\u001b[37m\u001b[0m \u001b[1m26s\u001b[0m 3ms/step - accuracy: 0.9286 - loss: 0.2089 - val_accuracy: 0.9594 - val_loss: 0.1382\n",
      "Epoch 2/10\n",
      "\u001b[1m8677/8677\u001b[0m \u001b[32m━━━━━━━━━━━━━━━━━━━━\u001b[0m\u001b[37m\u001b[0m \u001b[1m25s\u001b[0m 3ms/step - accuracy: 0.9595 - loss: 0.1377 - val_accuracy: 0.9612 - val_loss: 0.1328\n",
      "Epoch 3/10\n",
      "\u001b[1m8677/8677\u001b[0m \u001b[32m━━━━━━━━━━━━━━━━━━━━\u001b[0m\u001b[37m\u001b[0m \u001b[1m25s\u001b[0m 3ms/step - accuracy: 0.9634 - loss: 0.1281 - val_accuracy: 0.9643 - val_loss: 0.1270\n",
      "Epoch 4/10\n",
      "\u001b[1m8677/8677\u001b[0m \u001b[32m━━━━━━━━━━━━━━━━━━━━\u001b[0m\u001b[37m\u001b[0m \u001b[1m25s\u001b[0m 3ms/step - accuracy: 0.9652 - loss: 0.1240 - val_accuracy: 0.9660 - val_loss: 0.1254\n",
      "Epoch 5/10\n",
      "\u001b[1m8677/8677\u001b[0m \u001b[32m━━━━━━━━━━━━━━━━━━━━\u001b[0m\u001b[37m\u001b[0m \u001b[1m25s\u001b[0m 3ms/step - accuracy: 0.9684 - loss: 0.1189 - val_accuracy: 0.9656 - val_loss: 0.1253\n",
      "Epoch 6/10\n",
      "\u001b[1m8677/8677\u001b[0m \u001b[32m━━━━━━━━━━━━━━━━━━━━\u001b[0m\u001b[37m\u001b[0m \u001b[1m25s\u001b[0m 3ms/step - accuracy: 0.9703 - loss: 0.1139 - val_accuracy: 0.9666 - val_loss: 0.1235\n",
      "Epoch 7/10\n",
      "\u001b[1m8677/8677\u001b[0m \u001b[32m━━━━━━━━━━━━━━━━━━━━\u001b[0m\u001b[37m\u001b[0m \u001b[1m25s\u001b[0m 3ms/step - accuracy: 0.9718 - loss: 0.1106 - val_accuracy: 0.9670 - val_loss: 0.1233\n",
      "Epoch 8/10\n",
      "\u001b[1m8677/8677\u001b[0m \u001b[32m━━━━━━━━━━━━━━━━━━━━\u001b[0m\u001b[37m\u001b[0m \u001b[1m25s\u001b[0m 3ms/step - accuracy: 0.9730 - loss: 0.1085 - val_accuracy: 0.9672 - val_loss: 0.1249\n",
      "Epoch 9/10\n",
      "\u001b[1m8677/8677\u001b[0m \u001b[32m━━━━━━━━━━━━━━━━━━━━\u001b[0m\u001b[37m\u001b[0m \u001b[1m24s\u001b[0m 3ms/step - accuracy: 0.9744 - loss: 0.1054 - val_accuracy: 0.9666 - val_loss: 0.1255\n",
      "Epoch 10/10\n",
      "\u001b[1m8677/8677\u001b[0m \u001b[32m━━━━━━━━━━━━━━━━━━━━\u001b[0m\u001b[37m\u001b[0m \u001b[1m25s\u001b[0m 3ms/step - accuracy: 0.9751 - loss: 0.1022 - val_accuracy: 0.9663 - val_loss: 0.1268\n",
      "\u001b[1m2170/2170\u001b[0m \u001b[32m━━━━━━━━━━━━━━━━━━━━\u001b[0m\u001b[37m\u001b[0m \u001b[1m2s\u001b[0m 778us/step - accuracy: 0.9653 - loss: 0.1288\n"
     ]
    },
    {
     "name": "stderr",
     "output_type": "stream",
     "text": [
      "2024/08/29 00:22:50 WARNING mlflow.keras.save: You are saving a Keras model without specifying model signature.\n",
      "2024/08/29 00:22:52 WARNING mlflow.models.model: Input example should be provided to infer model signature if the model signature is not provided when logging the model.\n"
     ]
    },
    {
     "name": "stdout",
     "output_type": "stream",
     "text": [
      "Model saved as Bidirectional_LSTM_1000_32 with accuracy: 0.97\n",
      "Epoch 1/10\n",
      "\u001b[1m8677/8677\u001b[0m \u001b[32m━━━━━━━━━━━━━━━━━━━━\u001b[0m\u001b[37m\u001b[0m \u001b[1m45s\u001b[0m 5ms/step - accuracy: 0.9338 - loss: 0.1931 - val_accuracy: 0.9612 - val_loss: 0.1347\n",
      "Epoch 2/10\n",
      "\u001b[1m8677/8677\u001b[0m \u001b[32m━━━━━━━━━━━━━━━━━━━━\u001b[0m\u001b[37m\u001b[0m \u001b[1m44s\u001b[0m 5ms/step - accuracy: 0.9623 - loss: 0.1327 - val_accuracy: 0.9636 - val_loss: 0.1284\n",
      "Epoch 3/10\n",
      "\u001b[1m8677/8677\u001b[0m \u001b[32m━━━━━━━━━━━━━━━━━━━━\u001b[0m\u001b[37m\u001b[0m \u001b[1m44s\u001b[0m 5ms/step - accuracy: 0.9662 - loss: 0.1242 - val_accuracy: 0.9652 - val_loss: 0.1251\n",
      "Epoch 4/10\n",
      "\u001b[1m8677/8677\u001b[0m \u001b[32m━━━━━━━━━━━━━━━━━━━━\u001b[0m\u001b[37m\u001b[0m \u001b[1m45s\u001b[0m 5ms/step - accuracy: 0.9689 - loss: 0.1177 - val_accuracy: 0.9652 - val_loss: 0.1271\n",
      "Epoch 5/10\n",
      "\u001b[1m8677/8677\u001b[0m \u001b[32m━━━━━━━━━━━━━━━━━━━━\u001b[0m\u001b[37m\u001b[0m \u001b[1m44s\u001b[0m 5ms/step - accuracy: 0.9714 - loss: 0.1118 - val_accuracy: 0.9669 - val_loss: 0.1222\n",
      "Epoch 6/10\n",
      "\u001b[1m8677/8677\u001b[0m \u001b[32m━━━━━━━━━━━━━━━━━━━━\u001b[0m\u001b[37m\u001b[0m \u001b[1m44s\u001b[0m 5ms/step - accuracy: 0.9732 - loss: 0.1065 - val_accuracy: 0.9681 - val_loss: 0.1228\n",
      "Epoch 7/10\n",
      "\u001b[1m8677/8677\u001b[0m \u001b[32m━━━━━━━━━━━━━━━━━━━━\u001b[0m\u001b[37m\u001b[0m \u001b[1m44s\u001b[0m 5ms/step - accuracy: 0.9756 - loss: 0.1017 - val_accuracy: 0.9684 - val_loss: 0.1219\n",
      "Epoch 8/10\n",
      "\u001b[1m8677/8677\u001b[0m \u001b[32m━━━━━━━━━━━━━━━━━━━━\u001b[0m\u001b[37m\u001b[0m \u001b[1m44s\u001b[0m 5ms/step - accuracy: 0.9773 - loss: 0.0968 - val_accuracy: 0.9687 - val_loss: 0.1273\n",
      "Epoch 9/10\n",
      "\u001b[1m8677/8677\u001b[0m \u001b[32m━━━━━━━━━━━━━━━━━━━━\u001b[0m\u001b[37m\u001b[0m \u001b[1m44s\u001b[0m 5ms/step - accuracy: 0.9795 - loss: 0.0921 - val_accuracy: 0.9692 - val_loss: 0.1232\n",
      "Epoch 10/10\n",
      "\u001b[1m8677/8677\u001b[0m \u001b[32m━━━━━━━━━━━━━━━━━━━━\u001b[0m\u001b[37m\u001b[0m \u001b[1m44s\u001b[0m 5ms/step - accuracy: 0.9803 - loss: 0.0898 - val_accuracy: 0.9696 - val_loss: 0.1276\n",
      "\u001b[1m2170/2170\u001b[0m \u001b[32m━━━━━━━━━━━━━━━━━━━━\u001b[0m\u001b[37m\u001b[0m \u001b[1m3s\u001b[0m 1ms/step - accuracy: 0.9679 - loss: 0.1326\n"
     ]
    },
    {
     "name": "stderr",
     "output_type": "stream",
     "text": [
      "2024/08/29 00:30:21 WARNING mlflow.keras.save: You are saving a Keras model without specifying model signature.\n",
      "2024/08/29 00:30:23 WARNING mlflow.models.model: Input example should be provided to infer model signature if the model signature is not provided when logging the model.\n"
     ]
    },
    {
     "name": "stdout",
     "output_type": "stream",
     "text": [
      "Model saved as Bidirectional_LSTM_1000_64 with accuracy: 0.97\n",
      "Epoch 1/10\n",
      "\u001b[1m8677/8677\u001b[0m \u001b[32m━━━━━━━━━━━━━━━━━━━━\u001b[0m\u001b[37m\u001b[0m \u001b[1m137s\u001b[0m 16ms/step - accuracy: 0.9400 - loss: 0.1818 - val_accuracy: 0.9618 - val_loss: 0.1330\n",
      "Epoch 2/10\n",
      "\u001b[1m8677/8677\u001b[0m \u001b[32m━━━━━━━━━━━━━━━━━━━━\u001b[0m\u001b[37m\u001b[0m \u001b[1m145s\u001b[0m 17ms/step - accuracy: 0.9638 - loss: 0.1298 - val_accuracy: 0.9651 - val_loss: 0.1257\n",
      "Epoch 3/10\n",
      "\u001b[1m8677/8677\u001b[0m \u001b[32m━━━━━━━━━━━━━━━━━━━━\u001b[0m\u001b[37m\u001b[0m \u001b[1m140s\u001b[0m 16ms/step - accuracy: 0.9680 - loss: 0.1192 - val_accuracy: 0.9670 - val_loss: 0.1230\n",
      "Epoch 4/10\n",
      "\u001b[1m8677/8677\u001b[0m \u001b[32m━━━━━━━━━━━━━━━━━━━━\u001b[0m\u001b[37m\u001b[0m \u001b[1m139s\u001b[0m 16ms/step - accuracy: 0.9707 - loss: 0.1124 - val_accuracy: 0.9673 - val_loss: 0.1212\n",
      "Epoch 5/10\n",
      "\u001b[1m8677/8677\u001b[0m \u001b[32m━━━━━━━━━━━━━━━━━━━━\u001b[0m\u001b[37m\u001b[0m \u001b[1m115s\u001b[0m 13ms/step - accuracy: 0.9737 - loss: 0.1056 - val_accuracy: 0.9684 - val_loss: 0.1209\n",
      "Epoch 6/10\n",
      "\u001b[1m8677/8677\u001b[0m \u001b[32m━━━━━━━━━━━━━━━━━━━━\u001b[0m\u001b[37m\u001b[0m \u001b[1m138s\u001b[0m 16ms/step - accuracy: 0.9772 - loss: 0.0960 - val_accuracy: 0.9701 - val_loss: 0.1222\n",
      "Epoch 7/10\n",
      "\u001b[1m8677/8677\u001b[0m \u001b[32m━━━━━━━━━━━━━━━━━━━━\u001b[0m\u001b[37m\u001b[0m \u001b[1m116s\u001b[0m 13ms/step - accuracy: 0.9798 - loss: 0.0912 - val_accuracy: 0.9696 - val_loss: 0.1213\n",
      "Epoch 8/10\n",
      "\u001b[1m8677/8677\u001b[0m \u001b[32m━━━━━━━━━━━━━━━━━━━━\u001b[0m\u001b[37m\u001b[0m \u001b[1m142s\u001b[0m 16ms/step - accuracy: 0.9816 - loss: 0.0839 - val_accuracy: 0.9692 - val_loss: 0.1234\n",
      "Epoch 9/10\n",
      "\u001b[1m8677/8677\u001b[0m \u001b[32m━━━━━━━━━━━━━━━━━━━━\u001b[0m\u001b[37m\u001b[0m \u001b[1m143s\u001b[0m 16ms/step - accuracy: 0.9837 - loss: 0.0799 - val_accuracy: 0.9698 - val_loss: 0.1293\n",
      "Epoch 10/10\n",
      "\u001b[1m8677/8677\u001b[0m \u001b[32m━━━━━━━━━━━━━━━━━━━━\u001b[0m\u001b[37m\u001b[0m \u001b[1m138s\u001b[0m 16ms/step - accuracy: 0.9850 - loss: 0.0769 - val_accuracy: 0.9697 - val_loss: 0.1325\n",
      "\u001b[1m2170/2170\u001b[0m \u001b[32m━━━━━━━━━━━━━━━━━━━━\u001b[0m\u001b[37m\u001b[0m \u001b[1m7s\u001b[0m 3ms/step - accuracy: 0.9678 - loss: 0.1365\n"
     ]
    },
    {
     "name": "stderr",
     "output_type": "stream",
     "text": [
      "2024/08/29 00:53:05 WARNING mlflow.keras.save: You are saving a Keras model without specifying model signature.\n",
      "2024/08/29 00:53:08 WARNING mlflow.models.model: Input example should be provided to infer model signature if the model signature is not provided when logging the model.\n"
     ]
    },
    {
     "name": "stdout",
     "output_type": "stream",
     "text": [
      "Model saved as Bidirectional_LSTM_1000_128 with accuracy: 0.97\n",
      "Epoch 1/10\n",
      "\u001b[1m8677/8677\u001b[0m \u001b[32m━━━━━━━━━━━━━━━━━━━━\u001b[0m\u001b[37m\u001b[0m \u001b[1m19s\u001b[0m 2ms/step - accuracy: 0.9117 - loss: 0.2521 - val_accuracy: 0.9482 - val_loss: 0.1593\n",
      "Epoch 2/10\n",
      "\u001b[1m8677/8677\u001b[0m \u001b[32m━━━━━━━━━━━━━━━━━━━━\u001b[0m\u001b[37m\u001b[0m \u001b[1m18s\u001b[0m 2ms/step - accuracy: 0.9509 - loss: 0.1597 - val_accuracy: 0.9536 - val_loss: 0.1524\n",
      "Epoch 3/10\n",
      "\u001b[1m8677/8677\u001b[0m \u001b[32m━━━━━━━━━━━━━━━━━━━━\u001b[0m\u001b[37m\u001b[0m \u001b[1m18s\u001b[0m 2ms/step - accuracy: 0.9552 - loss: 0.1495 - val_accuracy: 0.9557 - val_loss: 0.1495\n",
      "Epoch 4/10\n",
      "\u001b[1m8677/8677\u001b[0m \u001b[32m━━━━━━━━━━━━━━━━━━━━\u001b[0m\u001b[37m\u001b[0m \u001b[1m18s\u001b[0m 2ms/step - accuracy: 0.9590 - loss: 0.1416 - val_accuracy: 0.9559 - val_loss: 0.1478\n",
      "Epoch 5/10\n",
      "\u001b[1m8677/8677\u001b[0m \u001b[32m━━━━━━━━━━━━━━━━━━━━\u001b[0m\u001b[37m\u001b[0m \u001b[1m18s\u001b[0m 2ms/step - accuracy: 0.9598 - loss: 0.1389 - val_accuracy: 0.9573 - val_loss: 0.1468\n",
      "Epoch 6/10\n",
      "\u001b[1m8677/8677\u001b[0m \u001b[32m━━━━━━━━━━━━━━━━━━━━\u001b[0m\u001b[37m\u001b[0m \u001b[1m18s\u001b[0m 2ms/step - accuracy: 0.9615 - loss: 0.1335 - val_accuracy: 0.9585 - val_loss: 0.1456\n",
      "Epoch 7/10\n",
      "\u001b[1m8677/8677\u001b[0m \u001b[32m━━━━━━━━━━━━━━━━━━━━\u001b[0m\u001b[37m\u001b[0m \u001b[1m19s\u001b[0m 2ms/step - accuracy: 0.9632 - loss: 0.1301 - val_accuracy: 0.9588 - val_loss: 0.1461\n",
      "Epoch 8/10\n",
      "\u001b[1m8677/8677\u001b[0m \u001b[32m━━━━━━━━━━━━━━━━━━━━\u001b[0m\u001b[37m\u001b[0m \u001b[1m19s\u001b[0m 2ms/step - accuracy: 0.9648 - loss: 0.1267 - val_accuracy: 0.9577 - val_loss: 0.1459\n",
      "Epoch 9/10\n",
      "\u001b[1m8677/8677\u001b[0m \u001b[32m━━━━━━━━━━━━━━━━━━━━\u001b[0m\u001b[37m\u001b[0m \u001b[1m19s\u001b[0m 2ms/step - accuracy: 0.9659 - loss: 0.1233 - val_accuracy: 0.9583 - val_loss: 0.1482\n",
      "Epoch 10/10\n",
      "\u001b[1m8677/8677\u001b[0m \u001b[32m━━━━━━━━━━━━━━━━━━━━\u001b[0m\u001b[37m\u001b[0m \u001b[1m19s\u001b[0m 2ms/step - accuracy: 0.9678 - loss: 0.1194 - val_accuracy: 0.9591 - val_loss: 0.1458\n",
      "\u001b[1m2170/2170\u001b[0m \u001b[32m━━━━━━━━━━━━━━━━━━━━\u001b[0m\u001b[37m\u001b[0m \u001b[1m1s\u001b[0m 511us/step - accuracy: 0.9575 - loss: 0.1487\n"
     ]
    },
    {
     "name": "stderr",
     "output_type": "stream",
     "text": [
      "2024/08/29 00:56:16 WARNING mlflow.keras.save: You are saving a Keras model without specifying model signature.\n",
      "2024/08/29 00:56:19 WARNING mlflow.models.model: Input example should be provided to infer model signature if the model signature is not provided when logging the model.\n"
     ]
    },
    {
     "name": "stdout",
     "output_type": "stream",
     "text": [
      "Model saved as Bidirectional_LSTM_2000_16 with accuracy: 0.96\n",
      "Epoch 1/10\n",
      "\u001b[1m8677/8677\u001b[0m \u001b[32m━━━━━━━━━━━━━━━━━━━━\u001b[0m\u001b[37m\u001b[0m \u001b[1m27s\u001b[0m 3ms/step - accuracy: 0.9198 - loss: 0.2320 - val_accuracy: 0.9531 - val_loss: 0.1549\n",
      "Epoch 2/10\n",
      "\u001b[1m8677/8677\u001b[0m \u001b[32m━━━━━━━━━━━━━━━━━━━━\u001b[0m\u001b[37m\u001b[0m \u001b[1m26s\u001b[0m 3ms/step - accuracy: 0.9548 - loss: 0.1512 - val_accuracy: 0.9556 - val_loss: 0.1501\n",
      "Epoch 3/10\n",
      "\u001b[1m8677/8677\u001b[0m \u001b[32m━━━━━━━━━━━━━━━━━━━━\u001b[0m\u001b[37m\u001b[0m \u001b[1m26s\u001b[0m 3ms/step - accuracy: 0.9599 - loss: 0.1404 - val_accuracy: 0.9561 - val_loss: 0.1464\n",
      "Epoch 4/10\n",
      "\u001b[1m8677/8677\u001b[0m \u001b[32m━━━━━━━━━━━━━━━━━━━━\u001b[0m\u001b[37m\u001b[0m \u001b[1m26s\u001b[0m 3ms/step - accuracy: 0.9627 - loss: 0.1332 - val_accuracy: 0.9585 - val_loss: 0.1445\n",
      "Epoch 5/10\n",
      "\u001b[1m8677/8677\u001b[0m \u001b[32m━━━━━━━━━━━━━━━━━━━━\u001b[0m\u001b[37m\u001b[0m \u001b[1m26s\u001b[0m 3ms/step - accuracy: 0.9664 - loss: 0.1251 - val_accuracy: 0.9595 - val_loss: 0.1445\n",
      "Epoch 6/10\n",
      "\u001b[1m8677/8677\u001b[0m \u001b[32m━━━━━━━━━━━━━━━━━━━━\u001b[0m\u001b[37m\u001b[0m \u001b[1m26s\u001b[0m 3ms/step - accuracy: 0.9681 - loss: 0.1210 - val_accuracy: 0.9593 - val_loss: 0.1473\n",
      "Epoch 7/10\n",
      "\u001b[1m8677/8677\u001b[0m \u001b[32m━━━━━━━━━━━━━━━━━━━━\u001b[0m\u001b[37m\u001b[0m \u001b[1m25s\u001b[0m 3ms/step - accuracy: 0.9703 - loss: 0.1142 - val_accuracy: 0.9600 - val_loss: 0.1448\n",
      "Epoch 8/10\n",
      "\u001b[1m8677/8677\u001b[0m \u001b[32m━━━━━━━━━━━━━━━━━━━━\u001b[0m\u001b[37m\u001b[0m \u001b[1m25s\u001b[0m 3ms/step - accuracy: 0.9723 - loss: 0.1097 - val_accuracy: 0.9604 - val_loss: 0.1470\n",
      "Epoch 9/10\n",
      "\u001b[1m8677/8677\u001b[0m \u001b[32m━━━━━━━━━━━━━━━━━━━━\u001b[0m\u001b[37m\u001b[0m \u001b[1m25s\u001b[0m 3ms/step - accuracy: 0.9747 - loss: 0.1055 - val_accuracy: 0.9606 - val_loss: 0.1508\n",
      "Epoch 10/10\n",
      "\u001b[1m8677/8677\u001b[0m \u001b[32m━━━━━━━━━━━━━━━━━━━━\u001b[0m\u001b[37m\u001b[0m \u001b[1m26s\u001b[0m 3ms/step - accuracy: 0.9764 - loss: 0.1019 - val_accuracy: 0.9618 - val_loss: 0.1530\n",
      "\u001b[1m2170/2170\u001b[0m \u001b[32m━━━━━━━━━━━━━━━━━━━━\u001b[0m\u001b[37m\u001b[0m \u001b[1m2s\u001b[0m 831us/step - accuracy: 0.9603 - loss: 0.1552\n"
     ]
    },
    {
     "name": "stderr",
     "output_type": "stream",
     "text": [
      "2024/08/29 01:00:42 WARNING mlflow.keras.save: You are saving a Keras model without specifying model signature.\n",
      "2024/08/29 01:00:44 WARNING mlflow.models.model: Input example should be provided to infer model signature if the model signature is not provided when logging the model.\n"
     ]
    },
    {
     "name": "stdout",
     "output_type": "stream",
     "text": [
      "Model saved as Bidirectional_LSTM_2000_32 with accuracy: 0.96\n",
      "Epoch 1/10\n",
      "\u001b[1m8677/8677\u001b[0m \u001b[32m━━━━━━━━━━━━━━━━━━━━\u001b[0m\u001b[37m\u001b[0m \u001b[1m48s\u001b[0m 5ms/step - accuracy: 0.9265 - loss: 0.2145 - val_accuracy: 0.9525 - val_loss: 0.1533\n",
      "Epoch 2/10\n",
      "\u001b[1m8677/8677\u001b[0m \u001b[32m━━━━━━━━━━━━━━━━━━━━\u001b[0m\u001b[37m\u001b[0m \u001b[1m49s\u001b[0m 6ms/step - accuracy: 0.9556 - loss: 0.1489 - val_accuracy: 0.9562 - val_loss: 0.1465\n",
      "Epoch 3/10\n",
      "\u001b[1m8677/8677\u001b[0m \u001b[32m━━━━━━━━━━━━━━━━━━━━\u001b[0m\u001b[37m\u001b[0m \u001b[1m50s\u001b[0m 6ms/step - accuracy: 0.9608 - loss: 0.1356 - val_accuracy: 0.9590 - val_loss: 0.1427\n",
      "Epoch 4/10\n",
      "\u001b[1m8677/8677\u001b[0m \u001b[32m━━━━━━━━━━━━━━━━━━━━\u001b[0m\u001b[37m\u001b[0m \u001b[1m49s\u001b[0m 6ms/step - accuracy: 0.9649 - loss: 0.1266 - val_accuracy: 0.9586 - val_loss: 0.1438\n",
      "Epoch 5/10\n",
      "\u001b[1m8677/8677\u001b[0m \u001b[32m━━━━━━━━━━━━━━━━━━━━\u001b[0m\u001b[37m\u001b[0m \u001b[1m50s\u001b[0m 6ms/step - accuracy: 0.9691 - loss: 0.1173 - val_accuracy: 0.9600 - val_loss: 0.1423\n",
      "Epoch 6/10\n",
      "\u001b[1m8677/8677\u001b[0m \u001b[32m━━━━━━━━━━━━━━━━━━━━\u001b[0m\u001b[37m\u001b[0m \u001b[1m50s\u001b[0m 6ms/step - accuracy: 0.9727 - loss: 0.1101 - val_accuracy: 0.9606 - val_loss: 0.1438\n",
      "Epoch 7/10\n",
      "\u001b[1m8677/8677\u001b[0m \u001b[32m━━━━━━━━━━━━━━━━━━━━\u001b[0m\u001b[37m\u001b[0m \u001b[1m47s\u001b[0m 5ms/step - accuracy: 0.9743 - loss: 0.1034 - val_accuracy: 0.9619 - val_loss: 0.1463\n",
      "Epoch 8/10\n",
      "\u001b[1m8677/8677\u001b[0m \u001b[32m━━━━━━━━━━━━━━━━━━━━\u001b[0m\u001b[37m\u001b[0m \u001b[1m47s\u001b[0m 5ms/step - accuracy: 0.9776 - loss: 0.0975 - val_accuracy: 0.9612 - val_loss: 0.1558\n",
      "Epoch 9/10\n",
      "\u001b[1m8677/8677\u001b[0m \u001b[32m━━━━━━━━━━━━━━━━━━━━\u001b[0m\u001b[37m\u001b[0m \u001b[1m47s\u001b[0m 5ms/step - accuracy: 0.9799 - loss: 0.0920 - val_accuracy: 0.9614 - val_loss: 0.1565\n",
      "Epoch 10/10\n",
      "\u001b[1m8677/8677\u001b[0m \u001b[32m━━━━━━━━━━━━━━━━━━━━\u001b[0m\u001b[37m\u001b[0m \u001b[1m47s\u001b[0m 5ms/step - accuracy: 0.9819 - loss: 0.0858 - val_accuracy: 0.9621 - val_loss: 0.1634\n",
      "\u001b[1m2170/2170\u001b[0m \u001b[32m━━━━━━━━━━━━━━━━━━━━\u001b[0m\u001b[37m\u001b[0m \u001b[1m3s\u001b[0m 1ms/step - accuracy: 0.9612 - loss: 0.1667\n"
     ]
    },
    {
     "name": "stderr",
     "output_type": "stream",
     "text": [
      "2024/08/29 01:08:55 WARNING mlflow.keras.save: You are saving a Keras model without specifying model signature.\n",
      "2024/08/29 01:08:57 WARNING mlflow.models.model: Input example should be provided to infer model signature if the model signature is not provided when logging the model.\n"
     ]
    },
    {
     "name": "stdout",
     "output_type": "stream",
     "text": [
      "Model saved as Bidirectional_LSTM_2000_64 with accuracy: 0.96\n",
      "Epoch 1/10\n",
      "\u001b[1m8677/8677\u001b[0m \u001b[32m━━━━━━━━━━━━━━━━━━━━\u001b[0m\u001b[37m\u001b[0m \u001b[1m129s\u001b[0m 15ms/step - accuracy: 0.9315 - loss: 0.2048 - val_accuracy: 0.9550 - val_loss: 0.1500\n",
      "Epoch 2/10\n",
      "\u001b[1m8677/8677\u001b[0m \u001b[32m━━━━━━━━━━━━━━━━━━━━\u001b[0m\u001b[37m\u001b[0m \u001b[1m134s\u001b[0m 15ms/step - accuracy: 0.9585 - loss: 0.1424 - val_accuracy: 0.9572 - val_loss: 0.1414\n",
      "Epoch 3/10\n",
      "\u001b[1m8677/8677\u001b[0m \u001b[32m━━━━━━━━━━━━━━━━━━━━\u001b[0m\u001b[37m\u001b[0m \u001b[1m132s\u001b[0m 15ms/step - accuracy: 0.9637 - loss: 0.1285 - val_accuracy: 0.9608 - val_loss: 0.1382\n",
      "Epoch 4/10\n",
      "\u001b[1m8677/8677\u001b[0m \u001b[32m━━━━━━━━━━━━━━━━━━━━\u001b[0m\u001b[37m\u001b[0m \u001b[1m137s\u001b[0m 16ms/step - accuracy: 0.9690 - loss: 0.1171 - val_accuracy: 0.9610 - val_loss: 0.1388\n",
      "Epoch 5/10\n",
      "\u001b[1m8677/8677\u001b[0m \u001b[32m━━━━━━━━━━━━━━━━━━━━\u001b[0m\u001b[37m\u001b[0m \u001b[1m131s\u001b[0m 15ms/step - accuracy: 0.9724 - loss: 0.1083 - val_accuracy: 0.9612 - val_loss: 0.1441\n",
      "Epoch 6/10\n",
      "\u001b[1m8677/8677\u001b[0m \u001b[32m━━━━━━━━━━━━━━━━━━━━\u001b[0m\u001b[37m\u001b[0m \u001b[1m121s\u001b[0m 14ms/step - accuracy: 0.9766 - loss: 0.0975 - val_accuracy: 0.9607 - val_loss: 0.1448\n",
      "Epoch 7/10\n",
      "\u001b[1m8677/8677\u001b[0m \u001b[32m━━━━━━━━━━━━━━━━━━━━\u001b[0m\u001b[37m\u001b[0m \u001b[1m130s\u001b[0m 15ms/step - accuracy: 0.9792 - loss: 0.0902 - val_accuracy: 0.9619 - val_loss: 0.1492\n",
      "Epoch 8/10\n",
      "\u001b[1m8677/8677\u001b[0m \u001b[32m━━━━━━━━━━━━━━━━━━━━\u001b[0m\u001b[37m\u001b[0m \u001b[1m129s\u001b[0m 15ms/step - accuracy: 0.9820 - loss: 0.0835 - val_accuracy: 0.9619 - val_loss: 0.1575\n",
      "Epoch 9/10\n",
      "\u001b[1m8677/8677\u001b[0m \u001b[32m━━━━━━━━━━━━━━━━━━━━\u001b[0m\u001b[37m\u001b[0m \u001b[1m133s\u001b[0m 15ms/step - accuracy: 0.9840 - loss: 0.0793 - val_accuracy: 0.9620 - val_loss: 0.1618\n",
      "Epoch 10/10\n",
      "\u001b[1m8677/8677\u001b[0m \u001b[32m━━━━━━━━━━━━━━━━━━━━\u001b[0m\u001b[37m\u001b[0m \u001b[1m125s\u001b[0m 14ms/step - accuracy: 0.9852 - loss: 0.0752 - val_accuracy: 0.9611 - val_loss: 0.1687\n",
      "\u001b[1m2170/2170\u001b[0m \u001b[32m━━━━━━━━━━━━━━━━━━━━\u001b[0m\u001b[37m\u001b[0m \u001b[1m10s\u001b[0m 5ms/step - accuracy: 0.9602 - loss: 0.1724\n"
     ]
    },
    {
     "name": "stderr",
     "output_type": "stream",
     "text": [
      "2024/08/29 01:30:51 WARNING mlflow.keras.save: You are saving a Keras model without specifying model signature.\n",
      "2024/08/29 01:30:54 WARNING mlflow.models.model: Input example should be provided to infer model signature if the model signature is not provided when logging the model.\n"
     ]
    },
    {
     "name": "stdout",
     "output_type": "stream",
     "text": [
      "Model saved as Bidirectional_LSTM_2000_128 with accuracy: 0.96\n",
      "Epoch 1/10\n",
      "\u001b[1m8677/8677\u001b[0m \u001b[32m━━━━━━━━━━━━━━━━━━━━\u001b[0m\u001b[37m\u001b[0m \u001b[1m24s\u001b[0m 3ms/step - accuracy: 0.9027 - loss: 0.2723 - val_accuracy: 0.9424 - val_loss: 0.1764\n",
      "Epoch 2/10\n",
      "\u001b[1m8677/8677\u001b[0m \u001b[32m━━━━━━━━━━━━━━━━━━━━\u001b[0m\u001b[37m\u001b[0m \u001b[1m22s\u001b[0m 3ms/step - accuracy: 0.9443 - loss: 0.1735 - val_accuracy: 0.9441 - val_loss: 0.1733\n",
      "Epoch 3/10\n",
      "\u001b[1m8677/8677\u001b[0m \u001b[32m━━━━━━━━━━━━━━━━━━━━\u001b[0m\u001b[37m\u001b[0m \u001b[1m23s\u001b[0m 3ms/step - accuracy: 0.9496 - loss: 0.1598 - val_accuracy: 0.9475 - val_loss: 0.1672\n",
      "Epoch 4/10\n",
      "\u001b[1m8677/8677\u001b[0m \u001b[32m━━━━━━━━━━━━━━━━━━━━\u001b[0m\u001b[37m\u001b[0m \u001b[1m23s\u001b[0m 3ms/step - accuracy: 0.9537 - loss: 0.1504 - val_accuracy: 0.9486 - val_loss: 0.1690\n",
      "Epoch 5/10\n",
      "\u001b[1m8677/8677\u001b[0m \u001b[32m━━━━━━━━━━━━━━━━━━━━\u001b[0m\u001b[37m\u001b[0m \u001b[1m23s\u001b[0m 3ms/step - accuracy: 0.9569 - loss: 0.1445 - val_accuracy: 0.9486 - val_loss: 0.1719\n",
      "Epoch 6/10\n",
      "\u001b[1m8677/8677\u001b[0m \u001b[32m━━━━━━━━━━━━━━━━━━━━\u001b[0m\u001b[37m\u001b[0m \u001b[1m21s\u001b[0m 2ms/step - accuracy: 0.9597 - loss: 0.1383 - val_accuracy: 0.9503 - val_loss: 0.1675\n",
      "Epoch 7/10\n",
      "\u001b[1m8677/8677\u001b[0m \u001b[32m━━━━━━━━━━━━━━━━━━━━\u001b[0m\u001b[37m\u001b[0m \u001b[1m23s\u001b[0m 3ms/step - accuracy: 0.9627 - loss: 0.1296 - val_accuracy: 0.9501 - val_loss: 0.1692\n",
      "Epoch 8/10\n",
      "\u001b[1m8677/8677\u001b[0m \u001b[32m━━━━━━━━━━━━━━━━━━━━\u001b[0m\u001b[37m\u001b[0m \u001b[1m23s\u001b[0m 3ms/step - accuracy: 0.9648 - loss: 0.1253 - val_accuracy: 0.9500 - val_loss: 0.1793\n",
      "Epoch 9/10\n",
      "\u001b[1m8677/8677\u001b[0m \u001b[32m━━━━━━━━━━━━━━━━━━━━\u001b[0m\u001b[37m\u001b[0m \u001b[1m22s\u001b[0m 3ms/step - accuracy: 0.9672 - loss: 0.1209 - val_accuracy: 0.9488 - val_loss: 0.1764\n",
      "Epoch 10/10\n",
      "\u001b[1m8677/8677\u001b[0m \u001b[32m━━━━━━━━━━━━━━━━━━━━\u001b[0m\u001b[37m\u001b[0m \u001b[1m21s\u001b[0m 2ms/step - accuracy: 0.9678 - loss: 0.1182 - val_accuracy: 0.9495 - val_loss: 0.1777\n",
      "\u001b[1m2170/2170\u001b[0m \u001b[32m━━━━━━━━━━━━━━━━━━━━\u001b[0m\u001b[37m\u001b[0m \u001b[1m1s\u001b[0m 498us/step - accuracy: 0.9482 - loss: 0.1794\n"
     ]
    },
    {
     "name": "stderr",
     "output_type": "stream",
     "text": [
      "2024/08/29 01:34:43 WARNING mlflow.keras.save: You are saving a Keras model without specifying model signature.\n",
      "2024/08/29 01:34:45 WARNING mlflow.models.model: Input example should be provided to infer model signature if the model signature is not provided when logging the model.\n"
     ]
    },
    {
     "name": "stdout",
     "output_type": "stream",
     "text": [
      "Model saved as Bidirectional_LSTM_4000_16 with accuracy: 0.95\n",
      "Epoch 1/10\n",
      "\u001b[1m8677/8677\u001b[0m \u001b[32m━━━━━━━━━━━━━━━━━━━━\u001b[0m\u001b[37m\u001b[0m \u001b[1m30s\u001b[0m 3ms/step - accuracy: 0.9122 - loss: 0.2502 - val_accuracy: 0.9427 - val_loss: 0.1749\n",
      "Epoch 2/10\n",
      "\u001b[1m8677/8677\u001b[0m \u001b[32m━━━━━━━━━━━━━━━━━━━━\u001b[0m\u001b[37m\u001b[0m \u001b[1m28s\u001b[0m 3ms/step - accuracy: 0.9491 - loss: 0.1648 - val_accuracy: 0.9485 - val_loss: 0.1645\n",
      "Epoch 3/10\n",
      "\u001b[1m8677/8677\u001b[0m \u001b[32m━━━━━━━━━━━━━━━━━━━━\u001b[0m\u001b[37m\u001b[0m \u001b[1m28s\u001b[0m 3ms/step - accuracy: 0.9561 - loss: 0.1493 - val_accuracy: 0.9516 - val_loss: 0.1640\n",
      "Epoch 4/10\n",
      "\u001b[1m8677/8677\u001b[0m \u001b[32m━━━━━━━━━━━━━━━━━━━━\u001b[0m\u001b[37m\u001b[0m \u001b[1m28s\u001b[0m 3ms/step - accuracy: 0.9599 - loss: 0.1376 - val_accuracy: 0.9517 - val_loss: 0.1630\n",
      "Epoch 5/10\n",
      "\u001b[1m8677/8677\u001b[0m \u001b[32m━━━━━━━━━━━━━━━━━━━━\u001b[0m\u001b[37m\u001b[0m \u001b[1m28s\u001b[0m 3ms/step - accuracy: 0.9641 - loss: 0.1299 - val_accuracy: 0.9507 - val_loss: 0.1692\n",
      "Epoch 6/10\n",
      "\u001b[1m8677/8677\u001b[0m \u001b[32m━━━━━━━━━━━━━━━━━━━━\u001b[0m\u001b[37m\u001b[0m \u001b[1m28s\u001b[0m 3ms/step - accuracy: 0.9678 - loss: 0.1209 - val_accuracy: 0.9516 - val_loss: 0.1685\n",
      "Epoch 7/10\n",
      "\u001b[1m8677/8677\u001b[0m \u001b[32m━━━━━━━━━━━━━━━━━━━━\u001b[0m\u001b[37m\u001b[0m \u001b[1m28s\u001b[0m 3ms/step - accuracy: 0.9706 - loss: 0.1132 - val_accuracy: 0.9530 - val_loss: 0.1711\n",
      "Epoch 8/10\n",
      "\u001b[1m8677/8677\u001b[0m \u001b[32m━━━━━━━━━━━━━━━━━━━━\u001b[0m\u001b[37m\u001b[0m \u001b[1m29s\u001b[0m 3ms/step - accuracy: 0.9734 - loss: 0.1061 - val_accuracy: 0.9527 - val_loss: 0.1793\n",
      "Epoch 9/10\n",
      "\u001b[1m8677/8677\u001b[0m \u001b[32m━━━━━━━━━━━━━━━━━━━━\u001b[0m\u001b[37m\u001b[0m \u001b[1m28s\u001b[0m 3ms/step - accuracy: 0.9753 - loss: 0.1019 - val_accuracy: 0.9519 - val_loss: 0.1892\n",
      "Epoch 10/10\n",
      "\u001b[1m8677/8677\u001b[0m \u001b[32m━━━━━━━━━━━━━━━━━━━━\u001b[0m\u001b[37m\u001b[0m \u001b[1m28s\u001b[0m 3ms/step - accuracy: 0.9773 - loss: 0.0968 - val_accuracy: 0.9531 - val_loss: 0.1961\n",
      "\u001b[1m2170/2170\u001b[0m \u001b[32m━━━━━━━━━━━━━━━━━━━━\u001b[0m\u001b[37m\u001b[0m \u001b[1m2s\u001b[0m 734us/step - accuracy: 0.9523 - loss: 0.1965\n"
     ]
    },
    {
     "name": "stderr",
     "output_type": "stream",
     "text": [
      "2024/08/29 01:39:34 WARNING mlflow.keras.save: You are saving a Keras model without specifying model signature.\n",
      "2024/08/29 01:39:36 WARNING mlflow.models.model: Input example should be provided to infer model signature if the model signature is not provided when logging the model.\n"
     ]
    },
    {
     "name": "stdout",
     "output_type": "stream",
     "text": [
      "Model saved as Bidirectional_LSTM_4000_32 with accuracy: 0.95\n",
      "Epoch 1/10\n",
      "\u001b[1m8677/8677\u001b[0m \u001b[32m━━━━━━━━━━━━━━━━━━━━\u001b[0m\u001b[37m\u001b[0m \u001b[1m53s\u001b[0m 6ms/step - accuracy: 0.9170 - loss: 0.2390 - val_accuracy: 0.9461 - val_loss: 0.1706\n",
      "Epoch 2/10\n",
      "\u001b[1m8677/8677\u001b[0m \u001b[32m━━━━━━━━━━━━━━━━━━━━\u001b[0m\u001b[37m\u001b[0m \u001b[1m52s\u001b[0m 6ms/step - accuracy: 0.9506 - loss: 0.1593 - val_accuracy: 0.9492 - val_loss: 0.1627\n",
      "Epoch 3/10\n",
      "\u001b[1m8677/8677\u001b[0m \u001b[32m━━━━━━━━━━━━━━━━━━━━\u001b[0m\u001b[37m\u001b[0m \u001b[1m52s\u001b[0m 6ms/step - accuracy: 0.9585 - loss: 0.1417 - val_accuracy: 0.9508 - val_loss: 0.1635\n",
      "Epoch 4/10\n",
      "\u001b[1m8677/8677\u001b[0m \u001b[32m━━━━━━━━━━━━━━━━━━━━\u001b[0m\u001b[37m\u001b[0m \u001b[1m52s\u001b[0m 6ms/step - accuracy: 0.9644 - loss: 0.1281 - val_accuracy: 0.9515 - val_loss: 0.1631\n",
      "Epoch 5/10\n",
      "\u001b[1m8677/8677\u001b[0m \u001b[32m━━━━━━━━━━━━━━━━━━━━\u001b[0m\u001b[37m\u001b[0m \u001b[1m51s\u001b[0m 6ms/step - accuracy: 0.9693 - loss: 0.1168 - val_accuracy: 0.9528 - val_loss: 0.1676\n",
      "Epoch 6/10\n",
      "\u001b[1m8677/8677\u001b[0m \u001b[32m━━━━━━━━━━━━━━━━━━━━\u001b[0m\u001b[37m\u001b[0m \u001b[1m51s\u001b[0m 6ms/step - accuracy: 0.9735 - loss: 0.1067 - val_accuracy: 0.9530 - val_loss: 0.1729\n",
      "Epoch 7/10\n",
      "\u001b[1m8677/8677\u001b[0m \u001b[32m━━━━━━━━━━━━━━━━━━━━\u001b[0m\u001b[37m\u001b[0m \u001b[1m51s\u001b[0m 6ms/step - accuracy: 0.9763 - loss: 0.0993 - val_accuracy: 0.9535 - val_loss: 0.1777\n",
      "Epoch 8/10\n",
      "\u001b[1m8677/8677\u001b[0m \u001b[32m━━━━━━━━━━━━━━━━━━━━\u001b[0m\u001b[37m\u001b[0m \u001b[1m50s\u001b[0m 6ms/step - accuracy: 0.9797 - loss: 0.0913 - val_accuracy: 0.9536 - val_loss: 0.1838\n",
      "Epoch 9/10\n",
      "\u001b[1m8677/8677\u001b[0m \u001b[32m━━━━━━━━━━━━━━━━━━━━\u001b[0m\u001b[37m\u001b[0m \u001b[1m51s\u001b[0m 6ms/step - accuracy: 0.9811 - loss: 0.0852 - val_accuracy: 0.9525 - val_loss: 0.1963\n",
      "Epoch 10/10\n",
      "\u001b[1m8677/8677\u001b[0m \u001b[32m━━━━━━━━━━━━━━━━━━━━\u001b[0m\u001b[37m\u001b[0m \u001b[1m51s\u001b[0m 6ms/step - accuracy: 0.9833 - loss: 0.0808 - val_accuracy: 0.9526 - val_loss: 0.2124\n",
      "\u001b[1m2170/2170\u001b[0m \u001b[32m━━━━━━━━━━━━━━━━━━━━\u001b[0m\u001b[37m\u001b[0m \u001b[1m3s\u001b[0m 1ms/step - accuracy: 0.9510 - loss: 0.2165\n"
     ]
    },
    {
     "name": "stderr",
     "output_type": "stream",
     "text": [
      "2024/08/29 01:48:17 WARNING mlflow.keras.save: You are saving a Keras model without specifying model signature.\n",
      "2024/08/29 01:48:19 WARNING mlflow.models.model: Input example should be provided to infer model signature if the model signature is not provided when logging the model.\n"
     ]
    },
    {
     "name": "stdout",
     "output_type": "stream",
     "text": [
      "Model saved as Bidirectional_LSTM_4000_64 with accuracy: 0.95\n",
      "Epoch 1/10\n",
      "\u001b[1m8677/8677\u001b[0m \u001b[32m━━━━━━━━━━━━━━━━━━━━\u001b[0m\u001b[37m\u001b[0m \u001b[1m130s\u001b[0m 15ms/step - accuracy: 0.9208 - loss: 0.2286 - val_accuracy: 0.9474 - val_loss: 0.1668\n",
      "Epoch 2/10\n",
      "\u001b[1m8677/8677\u001b[0m \u001b[32m━━━━━━━━━━━━━━━━━━━━\u001b[0m\u001b[37m\u001b[0m \u001b[1m127s\u001b[0m 15ms/step - accuracy: 0.9531 - loss: 0.1556 - val_accuracy: 0.9511 - val_loss: 0.1587\n",
      "Epoch 3/10\n",
      "\u001b[1m8677/8677\u001b[0m \u001b[32m━━━━━━━━━━━━━━━━━━━━\u001b[0m\u001b[37m\u001b[0m \u001b[1m129s\u001b[0m 15ms/step - accuracy: 0.9614 - loss: 0.1345 - val_accuracy: 0.9523 - val_loss: 0.1590\n",
      "Epoch 4/10\n",
      "\u001b[1m8677/8677\u001b[0m \u001b[32m━━━━━━━━━━━━━━━━━━━━\u001b[0m\u001b[37m\u001b[0m \u001b[1m131s\u001b[0m 15ms/step - accuracy: 0.9680 - loss: 0.1189 - val_accuracy: 0.9541 - val_loss: 0.1602\n",
      "Epoch 5/10\n",
      "\u001b[1m8677/8677\u001b[0m \u001b[32m━━━━━━━━━━━━━━━━━━━━\u001b[0m\u001b[37m\u001b[0m \u001b[1m127s\u001b[0m 15ms/step - accuracy: 0.9730 - loss: 0.1068 - val_accuracy: 0.9528 - val_loss: 0.1676\n",
      "Epoch 6/10\n",
      "\u001b[1m8677/8677\u001b[0m \u001b[32m━━━━━━━━━━━━━━━━━━━━\u001b[0m\u001b[37m\u001b[0m \u001b[1m135s\u001b[0m 16ms/step - accuracy: 0.9778 - loss: 0.0950 - val_accuracy: 0.9548 - val_loss: 0.1776\n",
      "Epoch 7/10\n",
      "\u001b[1m8677/8677\u001b[0m \u001b[32m━━━━━━━━━━━━━━━━━━━━\u001b[0m\u001b[37m\u001b[0m \u001b[1m133s\u001b[0m 15ms/step - accuracy: 0.9808 - loss: 0.0872 - val_accuracy: 0.9548 - val_loss: 0.1865\n",
      "Epoch 8/10\n",
      "\u001b[1m8677/8677\u001b[0m \u001b[32m━━━━━━━━━━━━━━━━━━━━\u001b[0m\u001b[37m\u001b[0m \u001b[1m138s\u001b[0m 16ms/step - accuracy: 0.9837 - loss: 0.0792 - val_accuracy: 0.9533 - val_loss: 0.1998\n",
      "Epoch 9/10\n",
      "\u001b[1m8677/8677\u001b[0m \u001b[32m━━━━━━━━━━━━━━━━━━━━\u001b[0m\u001b[37m\u001b[0m \u001b[1m138s\u001b[0m 16ms/step - accuracy: 0.9846 - loss: 0.0761 - val_accuracy: 0.9553 - val_loss: 0.2141\n",
      "Epoch 10/10\n",
      "\u001b[1m8677/8677\u001b[0m \u001b[32m━━━━━━━━━━━━━━━━━━━━\u001b[0m\u001b[37m\u001b[0m \u001b[1m135s\u001b[0m 15ms/step - accuracy: 0.9867 - loss: 0.0697 - val_accuracy: 0.9558 - val_loss: 0.2170\n",
      "\u001b[1m2170/2170\u001b[0m \u001b[32m━━━━━━━━━━━━━━━━━━━━\u001b[0m\u001b[37m\u001b[0m \u001b[1m8s\u001b[0m 4ms/step - accuracy: 0.9544 - loss: 0.2226\n"
     ]
    },
    {
     "name": "stderr",
     "output_type": "stream",
     "text": [
      "2024/08/29 02:10:34 WARNING mlflow.keras.save: You are saving a Keras model without specifying model signature.\n",
      "2024/08/29 02:10:36 WARNING mlflow.models.model: Input example should be provided to infer model signature if the model signature is not provided when logging the model.\n"
     ]
    },
    {
     "name": "stdout",
     "output_type": "stream",
     "text": [
      "Model saved as Bidirectional_LSTM_4000_128 with accuracy: 0.96\n",
      "Epoch 1/10\n",
      "\u001b[1m8677/8677\u001b[0m \u001b[32m━━━━━━━━━━━━━━━━━━━━\u001b[0m\u001b[37m\u001b[0m \u001b[1m23s\u001b[0m 2ms/step - accuracy: 0.9027 - loss: 0.2732 - val_accuracy: 0.9394 - val_loss: 0.1835\n",
      "Epoch 2/10\n",
      "\u001b[1m8677/8677\u001b[0m \u001b[32m━━━━━━━━━━━━━━━━━━━━\u001b[0m\u001b[37m\u001b[0m \u001b[1m22s\u001b[0m 3ms/step - accuracy: 0.9445 - loss: 0.1779 - val_accuracy: 0.9442 - val_loss: 0.1779\n",
      "Epoch 3/10\n",
      "\u001b[1m8677/8677\u001b[0m \u001b[32m━━━━━━━━━━━━━━━━━━━━\u001b[0m\u001b[37m\u001b[0m \u001b[1m22s\u001b[0m 3ms/step - accuracy: 0.9509 - loss: 0.1616 - val_accuracy: 0.9453 - val_loss: 0.1758\n",
      "Epoch 4/10\n",
      "\u001b[1m8677/8677\u001b[0m \u001b[32m━━━━━━━━━━━━━━━━━━━━\u001b[0m\u001b[37m\u001b[0m \u001b[1m22s\u001b[0m 2ms/step - accuracy: 0.9542 - loss: 0.1531 - val_accuracy: 0.9459 - val_loss: 0.1735\n",
      "Epoch 5/10\n",
      "\u001b[1m8677/8677\u001b[0m \u001b[32m━━━━━━━━━━━━━━━━━━━━\u001b[0m\u001b[37m\u001b[0m \u001b[1m21s\u001b[0m 2ms/step - accuracy: 0.9575 - loss: 0.1456 - val_accuracy: 0.9458 - val_loss: 0.1765\n",
      "Epoch 6/10\n",
      "\u001b[1m8677/8677\u001b[0m \u001b[32m━━━━━━━━━━━━━━━━━━━━\u001b[0m\u001b[37m\u001b[0m \u001b[1m22s\u001b[0m 3ms/step - accuracy: 0.9610 - loss: 0.1371 - val_accuracy: 0.9471 - val_loss: 0.1798\n",
      "Epoch 7/10\n",
      "\u001b[1m8677/8677\u001b[0m \u001b[32m━━━━━━━━━━━━━━━━━━━━\u001b[0m\u001b[37m\u001b[0m \u001b[1m22s\u001b[0m 3ms/step - accuracy: 0.9642 - loss: 0.1292 - val_accuracy: 0.9461 - val_loss: 0.1769\n",
      "Epoch 8/10\n",
      "\u001b[1m8677/8677\u001b[0m \u001b[32m━━━━━━━━━━━━━━━━━━━━\u001b[0m\u001b[37m\u001b[0m \u001b[1m22s\u001b[0m 3ms/step - accuracy: 0.9667 - loss: 0.1230 - val_accuracy: 0.9490 - val_loss: 0.1809\n",
      "Epoch 9/10\n",
      "\u001b[1m8677/8677\u001b[0m \u001b[32m━━━━━━━━━━━━━━━━━━━━\u001b[0m\u001b[37m\u001b[0m \u001b[1m22s\u001b[0m 3ms/step - accuracy: 0.9692 - loss: 0.1175 - val_accuracy: 0.9467 - val_loss: 0.1884\n",
      "Epoch 10/10\n",
      "\u001b[1m8677/8677\u001b[0m \u001b[32m━━━━━━━━━━━━━━━━━━━━\u001b[0m\u001b[37m\u001b[0m \u001b[1m22s\u001b[0m 2ms/step - accuracy: 0.9711 - loss: 0.1123 - val_accuracy: 0.9489 - val_loss: 0.2027\n",
      "\u001b[1m2170/2170\u001b[0m \u001b[32m━━━━━━━━━━━━━━━━━━━━\u001b[0m\u001b[37m\u001b[0m \u001b[1m1s\u001b[0m 491us/step - accuracy: 0.9472 - loss: 0.2052\n"
     ]
    },
    {
     "name": "stderr",
     "output_type": "stream",
     "text": [
      "2024/08/29 02:14:19 WARNING mlflow.keras.save: You are saving a Keras model without specifying model signature.\n",
      "2024/08/29 02:14:21 WARNING mlflow.models.model: Input example should be provided to infer model signature if the model signature is not provided when logging the model.\n"
     ]
    },
    {
     "name": "stdout",
     "output_type": "stream",
     "text": [
      "Model saved as Bidirectional_LSTM_5000_16 with accuracy: 0.95\n",
      "Epoch 1/10\n",
      "\u001b[1m8677/8677\u001b[0m \u001b[32m━━━━━━━━━━━━━━━━━━━━\u001b[0m\u001b[37m\u001b[0m \u001b[1m34s\u001b[0m 4ms/step - accuracy: 0.9092 - loss: 0.2578 - val_accuracy: 0.9416 - val_loss: 0.1794\n",
      "Epoch 2/10\n",
      "\u001b[1m8677/8677\u001b[0m \u001b[32m━━━━━━━━━━━━━━━━━━━━\u001b[0m\u001b[37m\u001b[0m \u001b[1m31s\u001b[0m 4ms/step - accuracy: 0.9473 - loss: 0.1705 - val_accuracy: 0.9457 - val_loss: 0.1725\n",
      "Epoch 3/10\n",
      "\u001b[1m8677/8677\u001b[0m \u001b[32m━━━━━━━━━━━━━━━━━━━━\u001b[0m\u001b[37m\u001b[0m \u001b[1m31s\u001b[0m 4ms/step - accuracy: 0.9530 - loss: 0.1548 - val_accuracy: 0.9444 - val_loss: 0.1757\n",
      "Epoch 4/10\n",
      "\u001b[1m8677/8677\u001b[0m \u001b[32m━━━━━━━━━━━━━━━━━━━━\u001b[0m\u001b[37m\u001b[0m \u001b[1m32s\u001b[0m 4ms/step - accuracy: 0.9585 - loss: 0.1431 - val_accuracy: 0.9486 - val_loss: 0.1701\n",
      "Epoch 5/10\n",
      "\u001b[1m8677/8677\u001b[0m \u001b[32m━━━━━━━━━━━━━━━━━━━━\u001b[0m\u001b[37m\u001b[0m \u001b[1m32s\u001b[0m 4ms/step - accuracy: 0.9642 - loss: 0.1290 - val_accuracy: 0.9492 - val_loss: 0.1764\n",
      "Epoch 6/10\n",
      "\u001b[1m8677/8677\u001b[0m \u001b[32m━━━━━━━━━━━━━━━━━━━━\u001b[0m\u001b[37m\u001b[0m \u001b[1m33s\u001b[0m 4ms/step - accuracy: 0.9677 - loss: 0.1201 - val_accuracy: 0.9493 - val_loss: 0.1817\n",
      "Epoch 7/10\n",
      "\u001b[1m8677/8677\u001b[0m \u001b[32m━━━━━━━━━━━━━━━━━━━━\u001b[0m\u001b[37m\u001b[0m \u001b[1m32s\u001b[0m 4ms/step - accuracy: 0.9708 - loss: 0.1113 - val_accuracy: 0.9489 - val_loss: 0.1866\n",
      "Epoch 8/10\n",
      "\u001b[1m8677/8677\u001b[0m \u001b[32m━━━━━━━━━━━━━━━━━━━━\u001b[0m\u001b[37m\u001b[0m \u001b[1m32s\u001b[0m 4ms/step - accuracy: 0.9739 - loss: 0.1044 - val_accuracy: 0.9479 - val_loss: 0.1883\n",
      "Epoch 9/10\n",
      "\u001b[1m8677/8677\u001b[0m \u001b[32m━━━━━━━━━━━━━━━━━━━━\u001b[0m\u001b[37m\u001b[0m \u001b[1m32s\u001b[0m 4ms/step - accuracy: 0.9750 - loss: 0.0997 - val_accuracy: 0.9478 - val_loss: 0.2064\n",
      "Epoch 10/10\n",
      "\u001b[1m8677/8677\u001b[0m \u001b[32m━━━━━━━━━━━━━━━━━━━━\u001b[0m\u001b[37m\u001b[0m \u001b[1m33s\u001b[0m 4ms/step - accuracy: 0.9774 - loss: 0.0945 - val_accuracy: 0.9510 - val_loss: 0.2120\n",
      "\u001b[1m2170/2170\u001b[0m \u001b[32m━━━━━━━━━━━━━━━━━━━━\u001b[0m\u001b[37m\u001b[0m \u001b[1m2s\u001b[0m 857us/step - accuracy: 0.9497 - loss: 0.2143\n"
     ]
    },
    {
     "name": "stderr",
     "output_type": "stream",
     "text": [
      "2024/08/29 02:19:48 WARNING mlflow.keras.save: You are saving a Keras model without specifying model signature.\n",
      "2024/08/29 02:19:50 WARNING mlflow.models.model: Input example should be provided to infer model signature if the model signature is not provided when logging the model.\n"
     ]
    },
    {
     "name": "stdout",
     "output_type": "stream",
     "text": [
      "Model saved as Bidirectional_LSTM_5000_32 with accuracy: 0.95\n",
      "Epoch 1/10\n",
      "\u001b[1m8677/8677\u001b[0m \u001b[32m━━━━━━━━━━━━━━━━━━━━\u001b[0m\u001b[37m\u001b[0m \u001b[1m56s\u001b[0m 6ms/step - accuracy: 0.9142 - loss: 0.2432 - val_accuracy: 0.9437 - val_loss: 0.1772\n",
      "Epoch 2/10\n",
      "\u001b[1m8677/8677\u001b[0m \u001b[32m━━━━━━━━━━━━━━━━━━━━\u001b[0m\u001b[37m\u001b[0m \u001b[1m54s\u001b[0m 6ms/step - accuracy: 0.9496 - loss: 0.1655 - val_accuracy: 0.9451 - val_loss: 0.1692\n",
      "Epoch 3/10\n",
      "\u001b[1m8677/8677\u001b[0m \u001b[32m━━━━━━━━━━━━━━━━━━━━\u001b[0m\u001b[37m\u001b[0m \u001b[1m54s\u001b[0m 6ms/step - accuracy: 0.9580 - loss: 0.1444 - val_accuracy: 0.9487 - val_loss: 0.1646\n",
      "Epoch 4/10\n",
      "\u001b[1m8677/8677\u001b[0m \u001b[32m━━━━━━━━━━━━━━━━━━━━\u001b[0m\u001b[37m\u001b[0m \u001b[1m50s\u001b[0m 6ms/step - accuracy: 0.9638 - loss: 0.1295 - val_accuracy: 0.9497 - val_loss: 0.1698\n",
      "Epoch 5/10\n",
      "\u001b[1m8677/8677\u001b[0m \u001b[32m━━━━━━━━━━━━━━━━━━━━\u001b[0m\u001b[37m\u001b[0m \u001b[1m54s\u001b[0m 6ms/step - accuracy: 0.9688 - loss: 0.1178 - val_accuracy: 0.9493 - val_loss: 0.1738\n",
      "Epoch 6/10\n",
      "\u001b[1m8677/8677\u001b[0m \u001b[32m━━━━━━━━━━━━━━━━━━━━\u001b[0m\u001b[37m\u001b[0m \u001b[1m54s\u001b[0m 6ms/step - accuracy: 0.9729 - loss: 0.1069 - val_accuracy: 0.9495 - val_loss: 0.1815\n",
      "Epoch 7/10\n",
      "\u001b[1m8677/8677\u001b[0m \u001b[32m━━━━━━━━━━━━━━━━━━━━\u001b[0m\u001b[37m\u001b[0m \u001b[1m55s\u001b[0m 6ms/step - accuracy: 0.9766 - loss: 0.0967 - val_accuracy: 0.9523 - val_loss: 0.1853\n",
      "Epoch 8/10\n",
      "\u001b[1m8677/8677\u001b[0m \u001b[32m━━━━━━━━━━━━━━━━━━━━\u001b[0m\u001b[37m\u001b[0m \u001b[1m51s\u001b[0m 6ms/step - accuracy: 0.9793 - loss: 0.0900 - val_accuracy: 0.9509 - val_loss: 0.2081\n",
      "Epoch 9/10\n",
      "\u001b[1m8677/8677\u001b[0m \u001b[32m━━━━━━━━━━━━━━━━━━━━\u001b[0m\u001b[37m\u001b[0m \u001b[1m50s\u001b[0m 6ms/step - accuracy: 0.9816 - loss: 0.0830 - val_accuracy: 0.9500 - val_loss: 0.2106\n",
      "Epoch 10/10\n",
      "\u001b[1m8677/8677\u001b[0m \u001b[32m━━━━━━━━━━━━━━━━━━━━\u001b[0m\u001b[37m\u001b[0m \u001b[1m57s\u001b[0m 7ms/step - accuracy: 0.9836 - loss: 0.0783 - val_accuracy: 0.9500 - val_loss: 0.2213\n",
      "\u001b[1m2170/2170\u001b[0m \u001b[32m━━━━━━━━━━━━━━━━━━━━\u001b[0m\u001b[37m\u001b[0m \u001b[1m3s\u001b[0m 1ms/step - accuracy: 0.9486 - loss: 0.2214\n"
     ]
    },
    {
     "name": "stderr",
     "output_type": "stream",
     "text": [
      "2024/08/29 02:28:52 WARNING mlflow.keras.save: You are saving a Keras model without specifying model signature.\n",
      "2024/08/29 02:28:54 WARNING mlflow.models.model: Input example should be provided to infer model signature if the model signature is not provided when logging the model.\n"
     ]
    },
    {
     "name": "stdout",
     "output_type": "stream",
     "text": [
      "Model saved as Bidirectional_LSTM_5000_64 with accuracy: 0.95\n",
      "Epoch 1/10\n",
      "\u001b[1m8677/8677\u001b[0m \u001b[32m━━━━━━━━━━━━━━━━━━━━\u001b[0m\u001b[37m\u001b[0m \u001b[1m139s\u001b[0m 16ms/step - accuracy: 0.9181 - loss: 0.2347 - val_accuracy: 0.9440 - val_loss: 0.1735\n",
      "Epoch 2/10\n",
      "\u001b[1m8677/8677\u001b[0m \u001b[32m━━━━━━━━━━━━━━━━━━━━\u001b[0m\u001b[37m\u001b[0m \u001b[1m138s\u001b[0m 16ms/step - accuracy: 0.9514 - loss: 0.1581 - val_accuracy: 0.9493 - val_loss: 0.1630\n",
      "Epoch 3/10\n",
      "\u001b[1m8677/8677\u001b[0m \u001b[32m━━━━━━━━━━━━━━━━━━━━\u001b[0m\u001b[37m\u001b[0m \u001b[1m138s\u001b[0m 16ms/step - accuracy: 0.9615 - loss: 0.1357 - val_accuracy: 0.9494 - val_loss: 0.1620\n",
      "Epoch 4/10\n",
      "\u001b[1m8677/8677\u001b[0m \u001b[32m━━━━━━━━━━━━━━━━━━━━\u001b[0m\u001b[37m\u001b[0m \u001b[1m137s\u001b[0m 16ms/step - accuracy: 0.9683 - loss: 0.1181 - val_accuracy: 0.9527 - val_loss: 0.1674\n",
      "Epoch 5/10\n",
      "\u001b[1m8677/8677\u001b[0m \u001b[32m━━━━━━━━━━━━━━━━━━━━\u001b[0m\u001b[37m\u001b[0m \u001b[1m139s\u001b[0m 16ms/step - accuracy: 0.9744 - loss: 0.1027 - val_accuracy: 0.9526 - val_loss: 0.1767\n",
      "Epoch 6/10\n",
      "\u001b[1m8677/8677\u001b[0m \u001b[32m━━━━━━━━━━━━━━━━━━━━\u001b[0m\u001b[37m\u001b[0m \u001b[1m134s\u001b[0m 15ms/step - accuracy: 0.9785 - loss: 0.0913 - val_accuracy: 0.9525 - val_loss: 0.1905\n",
      "Epoch 7/10\n",
      "\u001b[1m8677/8677\u001b[0m \u001b[32m━━━━━━━━━━━━━━━━━━━━\u001b[0m\u001b[37m\u001b[0m \u001b[1m144s\u001b[0m 17ms/step - accuracy: 0.9816 - loss: 0.0828 - val_accuracy: 0.9521 - val_loss: 0.2012\n",
      "Epoch 8/10\n",
      "\u001b[1m8677/8677\u001b[0m \u001b[32m━━━━━━━━━━━━━━━━━━━━\u001b[0m\u001b[37m\u001b[0m \u001b[1m138s\u001b[0m 16ms/step - accuracy: 0.9844 - loss: 0.0753 - val_accuracy: 0.9520 - val_loss: 0.2123\n",
      "Epoch 9/10\n",
      "\u001b[1m8677/8677\u001b[0m \u001b[32m━━━━━━━━━━━━━━━━━━━━\u001b[0m\u001b[37m\u001b[0m \u001b[1m144s\u001b[0m 17ms/step - accuracy: 0.9861 - loss: 0.0706 - val_accuracy: 0.9530 - val_loss: 0.2240\n",
      "Epoch 10/10\n",
      "\u001b[1m8677/8677\u001b[0m \u001b[32m━━━━━━━━━━━━━━━━━━━━\u001b[0m\u001b[37m\u001b[0m \u001b[1m137s\u001b[0m 16ms/step - accuracy: 0.9875 - loss: 0.0674 - val_accuracy: 0.9518 - val_loss: 0.2333\n",
      "\u001b[1m2170/2170\u001b[0m \u001b[32m━━━━━━━━━━━━━━━━━━━━\u001b[0m\u001b[37m\u001b[0m \u001b[1m8s\u001b[0m 3ms/step - accuracy: 0.9510 - loss: 0.2340\n"
     ]
    },
    {
     "name": "stderr",
     "output_type": "stream",
     "text": [
      "2024/08/29 02:52:12 WARNING mlflow.keras.save: You are saving a Keras model without specifying model signature.\n",
      "2024/08/29 02:52:14 WARNING mlflow.models.model: Input example should be provided to infer model signature if the model signature is not provided when logging the model.\n"
     ]
    },
    {
     "name": "stdout",
     "output_type": "stream",
     "text": [
      "Model saved as Bidirectional_LSTM_5000_128 with accuracy: 0.95\n"
     ]
    }
   ],
   "source": [
    "for input_dim in [1000, 2000, 4000, 5000]:\n",
    "    for output_dim in [16, 32, 64, 128]:\n",
    "        input_length = 10\n",
    "        with mlflow.start_run():\n",
    "            # Tokenization and Padding\n",
    "            tokenizer = Tokenizer(num_words=input_dim)\n",
    "            tokenizer.fit_on_texts(filtered_questions)\n",
    "            sequences = tokenizer.texts_to_sequences(filtered_questions)\n",
    "            X = pad_sequences(sequences, maxlen=input_length)\n",
    "            y = np.array(filtered_labels.tolist())\n",
    "\n",
    "            # Model 2: Bi-directional LSTM\n",
    "            model_name = f\"Bidirectional_LSTM_{input_dim}_{output_dim}\"\n",
    "            model = Sequential([\n",
    "                Embedding(input_dim=input_dim, output_dim=output_dim, input_length=input_length),\n",
    "                Bidirectional(LSTM(output_dim)),\n",
    "                Dropout(0.5),\n",
    "                Dense(32, activation='relu'),\n",
    "                Dense(3, activation='softmax')\n",
    "            ])\n",
    "\n",
    "            # Compile and train\n",
    "            model.compile(optimizer='adam', loss='categorical_crossentropy', metrics=['accuracy'])\n",
    "            X_train, X_test, y_train, y_test = train_test_split(X, y, test_size=0.2, random_state=42)\n",
    "            model.fit(X_train, y_train, epochs=10, validation_data=(X_test, y_test))\n",
    "\n",
    "            # Evaluate and log\n",
    "            loss, accuracy = model.evaluate(X_test, y_test)\n",
    "            mlflow.log_params({\"input_dim\": input_dim, \"output_dim\": output_dim, \"input_length\": input_length})\n",
    "            mlflow.log_metric(\"loss\", loss)\n",
    "            mlflow.log_metric(\"accuracy\", accuracy)\n",
    "\n",
    "            # Save the model with a unique name\n",
    "            mlflow.keras.log_model(model, artifact_path=model_name)\n",
    "            print(f\"Model saved as {model_name} with accuracy: {accuracy:.2f}\")\n",
    "        mlflow.end_run()\n"
   ]
  },
  {
   "attachments": {},
   "cell_type": "markdown",
   "metadata": {},
   "source": [
    "# CNN with Global Max pooling"
   ]
  },
  {
   "cell_type": "code",
   "execution_count": null,
   "metadata": {},
   "outputs": [
    {
     "name": "stdout",
     "output_type": "stream",
     "text": [
      "Epoch 1/10\n",
      "\u001b[1m8677/8677\u001b[0m \u001b[32m━━━━━━━━━━━━━━━━━━━━\u001b[0m\u001b[37m\u001b[0m \u001b[1m4s\u001b[0m 433us/step - accuracy: 0.8776 - loss: 0.3417 - val_accuracy: 0.9215 - val_loss: 0.3118\n",
      "Epoch 2/10\n",
      "\u001b[1m8677/8677\u001b[0m \u001b[32m━━━━━━━━━━━━━━━━━━━━\u001b[0m\u001b[37m\u001b[0m \u001b[1m4s\u001b[0m 434us/step - accuracy: 0.9247 - loss: 0.2335 - val_accuracy: 0.9265 - val_loss: 0.3474\n",
      "Epoch 3/10\n",
      "\u001b[1m8677/8677\u001b[0m \u001b[32m━━━━━━━━━━━━━━━━━━━━\u001b[0m\u001b[37m\u001b[0m \u001b[1m4s\u001b[0m 431us/step - accuracy: 0.9275 - loss: 0.2238 - val_accuracy: 0.9243 - val_loss: 0.2915\n",
      "Epoch 4/10\n",
      "\u001b[1m8677/8677\u001b[0m \u001b[32m━━━━━━━━━━━━━━━━━━━━\u001b[0m\u001b[37m\u001b[0m \u001b[1m4s\u001b[0m 428us/step - accuracy: 0.9302 - loss: 0.2186 - val_accuracy: 0.9242 - val_loss: 0.3137\n",
      "Epoch 5/10\n",
      "\u001b[1m8677/8677\u001b[0m \u001b[32m━━━━━━━━━━━━━━━━━━━━\u001b[0m\u001b[37m\u001b[0m \u001b[1m4s\u001b[0m 430us/step - accuracy: 0.9317 - loss: 0.2139 - val_accuracy: 0.9279 - val_loss: 0.2877\n",
      "Epoch 6/10\n",
      "\u001b[1m8677/8677\u001b[0m \u001b[32m━━━━━━━━━━━━━━━━━━━━\u001b[0m\u001b[37m\u001b[0m \u001b[1m4s\u001b[0m 430us/step - accuracy: 0.9333 - loss: 0.2118 - val_accuracy: 0.9324 - val_loss: 0.2828\n",
      "Epoch 7/10\n",
      "\u001b[1m8677/8677\u001b[0m \u001b[32m━━━━━━━━━━━━━━━━━━━━\u001b[0m\u001b[37m\u001b[0m \u001b[1m4s\u001b[0m 432us/step - accuracy: 0.9339 - loss: 0.2097 - val_accuracy: 0.9263 - val_loss: 0.2703\n",
      "Epoch 8/10\n",
      "\u001b[1m8677/8677\u001b[0m \u001b[32m━━━━━━━━━━━━━━━━━━━━\u001b[0m\u001b[37m\u001b[0m \u001b[1m4s\u001b[0m 429us/step - accuracy: 0.9335 - loss: 0.2086 - val_accuracy: 0.9276 - val_loss: 0.2737\n",
      "Epoch 9/10\n",
      "\u001b[1m8677/8677\u001b[0m \u001b[32m━━━━━━━━━━━━━━━━━━━━\u001b[0m\u001b[37m\u001b[0m \u001b[1m4s\u001b[0m 429us/step - accuracy: 0.9361 - loss: 0.2035 - val_accuracy: 0.9311 - val_loss: 0.2684\n",
      "Epoch 10/10\n",
      "\u001b[1m8677/8677\u001b[0m \u001b[32m━━━━━━━━━━━━━━━━━━━━\u001b[0m\u001b[37m\u001b[0m \u001b[1m4s\u001b[0m 431us/step - accuracy: 0.9362 - loss: 0.2048 - val_accuracy: 0.9324 - val_loss: 0.2476\n",
      "\u001b[1m2170/2170\u001b[0m \u001b[32m━━━━━━━━━━━━━━━━━━━━\u001b[0m\u001b[37m\u001b[0m \u001b[1m0s\u001b[0m 220us/step - accuracy: 0.9314 - loss: 0.2501\n"
     ]
    },
    {
     "name": "stderr",
     "output_type": "stream",
     "text": [
      "2024/08/29 10:21:37 WARNING mlflow.keras.save: You are saving a Keras model without specifying model signature.\n",
      "/opt/homebrew/anaconda3/envs/intern/lib/python3.11/site-packages/_distutils_hack/__init__.py:32: UserWarning: Setuptools is replacing distutils. Support for replacing an already imported distutils is deprecated. In the future, this condition will fail. Register concerns at https://github.com/pypa/setuptools/issues/new?template=distutils-deprecation.yml\n",
      "  warnings.warn(\n",
      "2024/08/29 10:21:39 WARNING mlflow.models.model: Input example should be provided to infer model signature if the model signature is not provided when logging the model.\n"
     ]
    },
    {
     "name": "stdout",
     "output_type": "stream",
     "text": [
      "Model saved as CNN_GlobalMaxPooling_1000_16 with accuracy: 0.93\n",
      "Epoch 1/10\n",
      "\u001b[1m8677/8677\u001b[0m \u001b[32m━━━━━━━━━━━━━━━━━━━━\u001b[0m\u001b[37m\u001b[0m \u001b[1m7s\u001b[0m 744us/step - accuracy: 0.9177 - loss: 0.2393 - val_accuracy: 0.9517 - val_loss: 0.1515\n",
      "Epoch 2/10\n",
      "\u001b[1m8677/8677\u001b[0m \u001b[32m━━━━━━━━━━━━━━━━━━━━\u001b[0m\u001b[37m\u001b[0m \u001b[1m7s\u001b[0m 756us/step - accuracy: 0.9504 - loss: 0.1538 - val_accuracy: 0.9546 - val_loss: 0.1502\n",
      "Epoch 3/10\n",
      "\u001b[1m8677/8677\u001b[0m \u001b[32m━━━━━━━━━━━━━━━━━━━━\u001b[0m\u001b[37m\u001b[0m \u001b[1m6s\u001b[0m 712us/step - accuracy: 0.9544 - loss: 0.1484 - val_accuracy: 0.9597 - val_loss: 0.1458\n",
      "Epoch 4/10\n",
      "\u001b[1m8677/8677\u001b[0m \u001b[32m━━━━━━━━━━━━━━━━━━━━\u001b[0m\u001b[37m\u001b[0m \u001b[1m6s\u001b[0m 720us/step - accuracy: 0.9564 - loss: 0.1440 - val_accuracy: 0.9602 - val_loss: 0.1485\n",
      "Epoch 5/10\n",
      "\u001b[1m8677/8677\u001b[0m \u001b[32m━━━━━━━━━━━━━━━━━━━━\u001b[0m\u001b[37m\u001b[0m \u001b[1m6s\u001b[0m 709us/step - accuracy: 0.9580 - loss: 0.1396 - val_accuracy: 0.9619 - val_loss: 0.1458\n",
      "Epoch 6/10\n",
      "\u001b[1m8677/8677\u001b[0m \u001b[32m━━━━━━━━━━━━━━━━━━━━\u001b[0m\u001b[37m\u001b[0m \u001b[1m6s\u001b[0m 692us/step - accuracy: 0.9591 - loss: 0.1381 - val_accuracy: 0.9630 - val_loss: 0.1455\n",
      "Epoch 7/10\n",
      "\u001b[1m8677/8677\u001b[0m \u001b[32m━━━━━━━━━━━━━━━━━━━━\u001b[0m\u001b[37m\u001b[0m \u001b[1m6s\u001b[0m 705us/step - accuracy: 0.9593 - loss: 0.1344 - val_accuracy: 0.9617 - val_loss: 0.1397\n",
      "Epoch 8/10\n",
      "\u001b[1m8677/8677\u001b[0m \u001b[32m━━━━━━━━━━━━━━━━━━━━\u001b[0m\u001b[37m\u001b[0m \u001b[1m6s\u001b[0m 694us/step - accuracy: 0.9597 - loss: 0.1346 - val_accuracy: 0.9634 - val_loss: 0.1403\n",
      "Epoch 9/10\n",
      "\u001b[1m8677/8677\u001b[0m \u001b[32m━━━━━━━━━━━━━━━━━━━━\u001b[0m\u001b[37m\u001b[0m \u001b[1m6s\u001b[0m 700us/step - accuracy: 0.9606 - loss: 0.1337 - val_accuracy: 0.9633 - val_loss: 0.1439\n",
      "Epoch 10/10\n",
      "\u001b[1m8677/8677\u001b[0m \u001b[32m━━━━━━━━━━━━━━━━━━━━\u001b[0m\u001b[37m\u001b[0m \u001b[1m6s\u001b[0m 693us/step - accuracy: 0.9617 - loss: 0.1301 - val_accuracy: 0.9642 - val_loss: 0.1438\n",
      "\u001b[1m2170/2170\u001b[0m \u001b[32m━━━━━━━━━━━━━━━━━━━━\u001b[0m\u001b[37m\u001b[0m \u001b[1m1s\u001b[0m 270us/step - accuracy: 0.9634 - loss: 0.1452\n"
     ]
    },
    {
     "name": "stderr",
     "output_type": "stream",
     "text": [
      "2024/08/29 10:22:46 WARNING mlflow.keras.save: You are saving a Keras model without specifying model signature.\n",
      "2024/08/29 10:22:48 WARNING mlflow.models.model: Input example should be provided to infer model signature if the model signature is not provided when logging the model.\n"
     ]
    },
    {
     "name": "stdout",
     "output_type": "stream",
     "text": [
      "Model saved as CNN_GlobalMaxPooling_1000_32 with accuracy: 0.96\n",
      "Epoch 1/10\n",
      "\u001b[1m8677/8677\u001b[0m \u001b[32m━━━━━━━━━━━━━━━━━━━━\u001b[0m\u001b[37m\u001b[0m \u001b[1m10s\u001b[0m 1ms/step - accuracy: 0.9303 - loss: 0.2125 - val_accuracy: 0.9608 - val_loss: 0.1399\n",
      "Epoch 2/10\n",
      "\u001b[1m8677/8677\u001b[0m \u001b[32m━━━━━━━━━━━━━━━━━━━━\u001b[0m\u001b[37m\u001b[0m \u001b[1m9s\u001b[0m 1ms/step - accuracy: 0.9579 - loss: 0.1434 - val_accuracy: 0.9625 - val_loss: 0.1358\n",
      "Epoch 3/10\n",
      "\u001b[1m8677/8677\u001b[0m \u001b[32m━━━━━━━━━━━━━━━━━━━━\u001b[0m\u001b[37m\u001b[0m \u001b[1m9s\u001b[0m 1ms/step - accuracy: 0.9622 - loss: 0.1355 - val_accuracy: 0.9644 - val_loss: 0.1329\n",
      "Epoch 4/10\n",
      "\u001b[1m8677/8677\u001b[0m \u001b[32m━━━━━━━━━━━━━━━━━━━━\u001b[0m\u001b[37m\u001b[0m \u001b[1m10s\u001b[0m 1ms/step - accuracy: 0.9633 - loss: 0.1320 - val_accuracy: 0.9658 - val_loss: 0.1331\n",
      "Epoch 5/10\n",
      "\u001b[1m8677/8677\u001b[0m \u001b[32m━━━━━━━━━━━━━━━━━━━━\u001b[0m\u001b[37m\u001b[0m \u001b[1m10s\u001b[0m 1ms/step - accuracy: 0.9658 - loss: 0.1267 - val_accuracy: 0.9657 - val_loss: 0.1313\n",
      "Epoch 6/10\n",
      "\u001b[1m8677/8677\u001b[0m \u001b[32m━━━━━━━━━━━━━━━━━━━━\u001b[0m\u001b[37m\u001b[0m \u001b[1m10s\u001b[0m 1ms/step - accuracy: 0.9670 - loss: 0.1248 - val_accuracy: 0.9662 - val_loss: 0.1296\n",
      "Epoch 7/10\n",
      "\u001b[1m8677/8677\u001b[0m \u001b[32m━━━━━━━━━━━━━━━━━━━━\u001b[0m\u001b[37m\u001b[0m \u001b[1m10s\u001b[0m 1ms/step - accuracy: 0.9674 - loss: 0.1242 - val_accuracy: 0.9661 - val_loss: 0.1319\n",
      "Epoch 8/10\n",
      "\u001b[1m8677/8677\u001b[0m \u001b[32m━━━━━━━━━━━━━━━━━━━━\u001b[0m\u001b[37m\u001b[0m \u001b[1m10s\u001b[0m 1ms/step - accuracy: 0.9680 - loss: 0.1210 - val_accuracy: 0.9652 - val_loss: 0.1311\n",
      "Epoch 9/10\n",
      "\u001b[1m8677/8677\u001b[0m \u001b[32m━━━━━━━━━━━━━━━━━━━━\u001b[0m\u001b[37m\u001b[0m \u001b[1m10s\u001b[0m 1ms/step - accuracy: 0.9690 - loss: 0.1191 - val_accuracy: 0.9665 - val_loss: 0.1293\n",
      "Epoch 10/10\n",
      "\u001b[1m8677/8677\u001b[0m \u001b[32m━━━━━━━━━━━━━━━━━━━━\u001b[0m\u001b[37m\u001b[0m \u001b[1m10s\u001b[0m 1ms/step - accuracy: 0.9699 - loss: 0.1179 - val_accuracy: 0.9673 - val_loss: 0.1295\n",
      "\u001b[1m2170/2170\u001b[0m \u001b[32m━━━━━━━━━━━━━━━━━━━━\u001b[0m\u001b[37m\u001b[0m \u001b[1m1s\u001b[0m 350us/step - accuracy: 0.9655 - loss: 0.1323\n"
     ]
    },
    {
     "name": "stderr",
     "output_type": "stream",
     "text": [
      "2024/08/29 10:24:31 WARNING mlflow.keras.save: You are saving a Keras model without specifying model signature.\n",
      "2024/08/29 10:24:33 WARNING mlflow.models.model: Input example should be provided to infer model signature if the model signature is not provided when logging the model.\n"
     ]
    },
    {
     "name": "stdout",
     "output_type": "stream",
     "text": [
      "Model saved as CNN_GlobalMaxPooling_1000_64 with accuracy: 0.97\n",
      "Epoch 1/10\n",
      "\u001b[1m8677/8677\u001b[0m \u001b[32m━━━━━━━━━━━━━━━━━━━━\u001b[0m\u001b[37m\u001b[0m \u001b[1m18s\u001b[0m 2ms/step - accuracy: 0.9362 - loss: 0.1939 - val_accuracy: 0.9623 - val_loss: 0.1345\n",
      "Epoch 2/10\n",
      "\u001b[1m8677/8677\u001b[0m \u001b[32m━━━━━━━━━━━━━━━━━━━━\u001b[0m\u001b[37m\u001b[0m \u001b[1m17s\u001b[0m 2ms/step - accuracy: 0.9595 - loss: 0.1386 - val_accuracy: 0.9637 - val_loss: 0.1303\n",
      "Epoch 3/10\n",
      "\u001b[1m8677/8677\u001b[0m \u001b[32m━━━━━━━━━━━━━━━━━━━━\u001b[0m\u001b[37m\u001b[0m \u001b[1m18s\u001b[0m 2ms/step - accuracy: 0.9639 - loss: 0.1296 - val_accuracy: 0.9653 - val_loss: 0.1267\n",
      "Epoch 4/10\n",
      "\u001b[1m8677/8677\u001b[0m \u001b[32m━━━━━━━━━━━━━━━━━━━━\u001b[0m\u001b[37m\u001b[0m \u001b[1m17s\u001b[0m 2ms/step - accuracy: 0.9659 - loss: 0.1257 - val_accuracy: 0.9654 - val_loss: 0.1252\n",
      "Epoch 5/10\n",
      "\u001b[1m8677/8677\u001b[0m \u001b[32m━━━━━━━━━━━━━━━━━━━━\u001b[0m\u001b[37m\u001b[0m \u001b[1m18s\u001b[0m 2ms/step - accuracy: 0.9683 - loss: 0.1210 - val_accuracy: 0.9664 - val_loss: 0.1254\n",
      "Epoch 6/10\n",
      "\u001b[1m8677/8677\u001b[0m \u001b[32m━━━━━━━━━━━━━━━━━━━━\u001b[0m\u001b[37m\u001b[0m \u001b[1m18s\u001b[0m 2ms/step - accuracy: 0.9694 - loss: 0.1160 - val_accuracy: 0.9644 - val_loss: 0.1257\n",
      "Epoch 7/10\n",
      "\u001b[1m8677/8677\u001b[0m \u001b[32m━━━━━━━━━━━━━━━━━━━━\u001b[0m\u001b[37m\u001b[0m \u001b[1m17s\u001b[0m 2ms/step - accuracy: 0.9704 - loss: 0.1145 - val_accuracy: 0.9678 - val_loss: 0.1232\n",
      "Epoch 8/10\n",
      "\u001b[1m8677/8677\u001b[0m \u001b[32m━━━━━━━━━━━━━━━━━━━━\u001b[0m\u001b[37m\u001b[0m \u001b[1m17s\u001b[0m 2ms/step - accuracy: 0.9716 - loss: 0.1122 - val_accuracy: 0.9678 - val_loss: 0.1234\n",
      "Epoch 9/10\n",
      "\u001b[1m8677/8677\u001b[0m \u001b[32m━━━━━━━━━━━━━━━━━━━━\u001b[0m\u001b[37m\u001b[0m \u001b[1m17s\u001b[0m 2ms/step - accuracy: 0.9726 - loss: 0.1092 - val_accuracy: 0.9677 - val_loss: 0.1237\n",
      "Epoch 10/10\n",
      "\u001b[1m8677/8677\u001b[0m \u001b[32m━━━━━━━━━━━━━━━━━━━━\u001b[0m\u001b[37m\u001b[0m \u001b[1m17s\u001b[0m 2ms/step - accuracy: 0.9730 - loss: 0.1074 - val_accuracy: 0.9643 - val_loss: 0.1245\n",
      "\u001b[1m2170/2170\u001b[0m \u001b[32m━━━━━━━━━━━━━━━━━━━━\u001b[0m\u001b[37m\u001b[0m \u001b[1m1s\u001b[0m 437us/step - accuracy: 0.9631 - loss: 0.1271\n"
     ]
    },
    {
     "name": "stderr",
     "output_type": "stream",
     "text": [
      "2024/08/29 10:27:32 WARNING mlflow.keras.save: You are saving a Keras model without specifying model signature.\n",
      "2024/08/29 10:27:35 WARNING mlflow.models.model: Input example should be provided to infer model signature if the model signature is not provided when logging the model.\n"
     ]
    },
    {
     "name": "stdout",
     "output_type": "stream",
     "text": [
      "Model saved as CNN_GlobalMaxPooling_1000_128 with accuracy: 0.96\n",
      "Epoch 1/10\n",
      "\u001b[1m8677/8677\u001b[0m \u001b[32m━━━━━━━━━━━━━━━━━━━━\u001b[0m\u001b[37m\u001b[0m \u001b[1m5s\u001b[0m 491us/step - accuracy: 0.8730 - loss: 0.3534 - val_accuracy: 0.9351 - val_loss: 0.2721\n",
      "Epoch 2/10\n",
      "\u001b[1m8677/8677\u001b[0m \u001b[32m━━━━━━━━━━━━━━━━━━━━\u001b[0m\u001b[37m\u001b[0m \u001b[1m4s\u001b[0m 473us/step - accuracy: 0.9197 - loss: 0.2375 - val_accuracy: 0.9349 - val_loss: 0.2703\n",
      "Epoch 3/10\n",
      "\u001b[1m8677/8677\u001b[0m \u001b[32m━━━━━━━━━━━━━━━━━━━━\u001b[0m\u001b[37m\u001b[0m \u001b[1m4s\u001b[0m 476us/step - accuracy: 0.9246 - loss: 0.2274 - val_accuracy: 0.9371 - val_loss: 0.2594\n",
      "Epoch 4/10\n",
      "\u001b[1m8677/8677\u001b[0m \u001b[32m━━━━━━━━━━━━━━━━━━━━\u001b[0m\u001b[37m\u001b[0m \u001b[1m4s\u001b[0m 476us/step - accuracy: 0.9274 - loss: 0.2214 - val_accuracy: 0.9374 - val_loss: 0.2406\n",
      "Epoch 5/10\n",
      "\u001b[1m8677/8677\u001b[0m \u001b[32m━━━━━━━━━━━━━━━━━━━━\u001b[0m\u001b[37m\u001b[0m \u001b[1m4s\u001b[0m 476us/step - accuracy: 0.9293 - loss: 0.2167 - val_accuracy: 0.9370 - val_loss: 0.2610\n",
      "Epoch 6/10\n",
      "\u001b[1m8677/8677\u001b[0m \u001b[32m━━━━━━━━━━━━━━━━━━━━\u001b[0m\u001b[37m\u001b[0m \u001b[1m4s\u001b[0m 481us/step - accuracy: 0.9304 - loss: 0.2144 - val_accuracy: 0.9408 - val_loss: 0.2422\n",
      "Epoch 7/10\n",
      "\u001b[1m8677/8677\u001b[0m \u001b[32m━━━━━━━━━━━━━━━━━━━━\u001b[0m\u001b[37m\u001b[0m \u001b[1m4s\u001b[0m 470us/step - accuracy: 0.9331 - loss: 0.2112 - val_accuracy: 0.9388 - val_loss: 0.2571\n",
      "Epoch 8/10\n",
      "\u001b[1m8677/8677\u001b[0m \u001b[32m━━━━━━━━━━━━━━━━━━━━\u001b[0m\u001b[37m\u001b[0m \u001b[1m4s\u001b[0m 479us/step - accuracy: 0.9334 - loss: 0.2083 - val_accuracy: 0.9389 - val_loss: 0.2587\n",
      "Epoch 9/10\n",
      "\u001b[1m8677/8677\u001b[0m \u001b[32m━━━━━━━━━━━━━━━━━━━━\u001b[0m\u001b[37m\u001b[0m \u001b[1m4s\u001b[0m 473us/step - accuracy: 0.9348 - loss: 0.2055 - val_accuracy: 0.9406 - val_loss: 0.2500\n",
      "Epoch 10/10\n",
      "\u001b[1m8677/8677\u001b[0m \u001b[32m━━━━━━━━━━━━━━━━━━━━\u001b[0m\u001b[37m\u001b[0m \u001b[1m4s\u001b[0m 477us/step - accuracy: 0.9350 - loss: 0.2048 - val_accuracy: 0.9407 - val_loss: 0.2599\n",
      "\u001b[1m2170/2170\u001b[0m \u001b[32m━━━━━━━━━━━━━━━━━━━━\u001b[0m\u001b[37m\u001b[0m \u001b[1m0s\u001b[0m 220us/step - accuracy: 0.9392 - loss: 0.2612\n"
     ]
    },
    {
     "name": "stderr",
     "output_type": "stream",
     "text": [
      "2024/08/29 10:28:21 WARNING mlflow.keras.save: You are saving a Keras model without specifying model signature.\n",
      "2024/08/29 10:28:23 WARNING mlflow.models.model: Input example should be provided to infer model signature if the model signature is not provided when logging the model.\n"
     ]
    },
    {
     "name": "stdout",
     "output_type": "stream",
     "text": [
      "Model saved as CNN_GlobalMaxPooling_2000_16 with accuracy: 0.94\n",
      "Epoch 1/10\n",
      "\u001b[1m8677/8677\u001b[0m \u001b[32m━━━━━━━━━━━━━━━━━━━━\u001b[0m\u001b[37m\u001b[0m \u001b[1m9s\u001b[0m 982us/step - accuracy: 0.9090 - loss: 0.2646 - val_accuracy: 0.9471 - val_loss: 0.1720\n",
      "Epoch 2/10\n",
      "\u001b[1m8677/8677\u001b[0m \u001b[32m━━━━━━━━━━━━━━━━━━━━\u001b[0m\u001b[37m\u001b[0m \u001b[1m8s\u001b[0m 950us/step - accuracy: 0.9453 - loss: 0.1699 - val_accuracy: 0.9484 - val_loss: 0.1676\n",
      "Epoch 3/10\n",
      "\u001b[1m8677/8677\u001b[0m \u001b[32m━━━━━━━━━━━━━━━━━━━━\u001b[0m\u001b[37m\u001b[0m \u001b[1m8s\u001b[0m 966us/step - accuracy: 0.9490 - loss: 0.1622 - val_accuracy: 0.9520 - val_loss: 0.1716\n",
      "Epoch 4/10\n",
      "\u001b[1m8677/8677\u001b[0m \u001b[32m━━━━━━━━━━━━━━━━━━━━\u001b[0m\u001b[37m\u001b[0m \u001b[1m9s\u001b[0m 1ms/step - accuracy: 0.9510 - loss: 0.1576 - val_accuracy: 0.9504 - val_loss: 0.1692\n",
      "Epoch 5/10\n",
      "\u001b[1m8677/8677\u001b[0m \u001b[32m━━━━━━━━━━━━━━━━━━━━\u001b[0m\u001b[37m\u001b[0m \u001b[1m9s\u001b[0m 996us/step - accuracy: 0.9525 - loss: 0.1534 - val_accuracy: 0.9539 - val_loss: 0.1638\n",
      "Epoch 6/10\n",
      "\u001b[1m8677/8677\u001b[0m \u001b[32m━━━━━━━━━━━━━━━━━━━━\u001b[0m\u001b[37m\u001b[0m \u001b[1m9s\u001b[0m 993us/step - accuracy: 0.9553 - loss: 0.1488 - val_accuracy: 0.9535 - val_loss: 0.1673\n",
      "Epoch 7/10\n",
      "\u001b[1m8677/8677\u001b[0m \u001b[32m━━━━━━━━━━━━━━━━━━━━\u001b[0m\u001b[37m\u001b[0m \u001b[1m9s\u001b[0m 998us/step - accuracy: 0.9557 - loss: 0.1460 - val_accuracy: 0.9534 - val_loss: 0.1615\n",
      "Epoch 8/10\n",
      "\u001b[1m8677/8677\u001b[0m \u001b[32m━━━━━━━━━━━━━━━━━━━━\u001b[0m\u001b[37m\u001b[0m \u001b[1m8s\u001b[0m 978us/step - accuracy: 0.9563 - loss: 0.1449 - val_accuracy: 0.9546 - val_loss: 0.1612\n",
      "Epoch 9/10\n",
      "\u001b[1m8677/8677\u001b[0m \u001b[32m━━━━━━━━━━━━━━━━━━━━\u001b[0m\u001b[37m\u001b[0m \u001b[1m8s\u001b[0m 977us/step - accuracy: 0.9584 - loss: 0.1416 - val_accuracy: 0.9528 - val_loss: 0.1683\n",
      "Epoch 10/10\n",
      "\u001b[1m8677/8677\u001b[0m \u001b[32m━━━━━━━━━━━━━━━━━━━━\u001b[0m\u001b[37m\u001b[0m \u001b[1m9s\u001b[0m 985us/step - accuracy: 0.9591 - loss: 0.1393 - val_accuracy: 0.9530 - val_loss: 0.1632\n",
      "\u001b[1m2170/2170\u001b[0m \u001b[32m━━━━━━━━━━━━━━━━━━━━\u001b[0m\u001b[37m\u001b[0m \u001b[1m1s\u001b[0m 359us/step - accuracy: 0.9514 - loss: 0.1655\n"
     ]
    },
    {
     "name": "stderr",
     "output_type": "stream",
     "text": [
      "2024/08/29 10:29:53 WARNING mlflow.keras.save: You are saving a Keras model without specifying model signature.\n",
      "2024/08/29 10:29:56 WARNING mlflow.models.model: Input example should be provided to infer model signature if the model signature is not provided when logging the model.\n"
     ]
    },
    {
     "name": "stdout",
     "output_type": "stream",
     "text": [
      "Model saved as CNN_GlobalMaxPooling_2000_32 with accuracy: 0.95\n",
      "Epoch 1/10\n",
      "\u001b[1m8677/8677\u001b[0m \u001b[32m━━━━━━━━━━━━━━━━━━━━\u001b[0m\u001b[37m\u001b[0m \u001b[1m14s\u001b[0m 2ms/step - accuracy: 0.9204 - loss: 0.2349 - val_accuracy: 0.9526 - val_loss: 0.1593\n",
      "Epoch 2/10\n",
      "\u001b[1m8677/8677\u001b[0m \u001b[32m━━━━━━━━━━━━━━━━━━━━\u001b[0m\u001b[37m\u001b[0m \u001b[1m13s\u001b[0m 2ms/step - accuracy: 0.9509 - loss: 0.1614 - val_accuracy: 0.9563 - val_loss: 0.1545\n",
      "Epoch 3/10\n",
      "\u001b[1m8677/8677\u001b[0m \u001b[32m━━━━━━━━━━━━━━━━━━━━\u001b[0m\u001b[37m\u001b[0m \u001b[1m14s\u001b[0m 2ms/step - accuracy: 0.9552 - loss: 0.1512 - val_accuracy: 0.9581 - val_loss: 0.1503\n",
      "Epoch 4/10\n",
      "\u001b[1m8677/8677\u001b[0m \u001b[32m━━━━━━━━━━━━━━━━━━━━\u001b[0m\u001b[37m\u001b[0m \u001b[1m14s\u001b[0m 2ms/step - accuracy: 0.9594 - loss: 0.1431 - val_accuracy: 0.9589 - val_loss: 0.1490\n",
      "Epoch 5/10\n",
      "\u001b[1m8677/8677\u001b[0m \u001b[32m━━━━━━━━━━━━━━━━━━━━\u001b[0m\u001b[37m\u001b[0m \u001b[1m13s\u001b[0m 2ms/step - accuracy: 0.9615 - loss: 0.1388 - val_accuracy: 0.9594 - val_loss: 0.1479\n",
      "Epoch 6/10\n",
      "\u001b[1m8677/8677\u001b[0m \u001b[32m━━━━━━━━━━━━━━━━━━━━\u001b[0m\u001b[37m\u001b[0m \u001b[1m14s\u001b[0m 2ms/step - accuracy: 0.9637 - loss: 0.1339 - val_accuracy: 0.9593 - val_loss: 0.1482\n",
      "Epoch 7/10\n",
      "\u001b[1m8677/8677\u001b[0m \u001b[32m━━━━━━━━━━━━━━━━━━━━\u001b[0m\u001b[37m\u001b[0m \u001b[1m13s\u001b[0m 2ms/step - accuracy: 0.9648 - loss: 0.1313 - val_accuracy: 0.9606 - val_loss: 0.1479\n",
      "Epoch 8/10\n",
      "\u001b[1m8677/8677\u001b[0m \u001b[32m━━━━━━━━━━━━━━━━━━━━\u001b[0m\u001b[37m\u001b[0m \u001b[1m13s\u001b[0m 2ms/step - accuracy: 0.9659 - loss: 0.1290 - val_accuracy: 0.9605 - val_loss: 0.1481\n",
      "Epoch 9/10\n",
      "\u001b[1m8677/8677\u001b[0m \u001b[32m━━━━━━━━━━━━━━━━━━━━\u001b[0m\u001b[37m\u001b[0m \u001b[1m14s\u001b[0m 2ms/step - accuracy: 0.9667 - loss: 0.1251 - val_accuracy: 0.9608 - val_loss: 0.1481\n",
      "Epoch 10/10\n",
      "\u001b[1m8677/8677\u001b[0m \u001b[32m━━━━━━━━━━━━━━━━━━━━\u001b[0m\u001b[37m\u001b[0m \u001b[1m13s\u001b[0m 2ms/step - accuracy: 0.9674 - loss: 0.1234 - val_accuracy: 0.9607 - val_loss: 0.1491\n",
      "\u001b[1m2170/2170\u001b[0m \u001b[32m━━━━━━━━━━━━━━━━━━━━\u001b[0m\u001b[37m\u001b[0m \u001b[1m1s\u001b[0m 319us/step - accuracy: 0.9595 - loss: 0.1514\n"
     ]
    },
    {
     "name": "stderr",
     "output_type": "stream",
     "text": [
      "2024/08/29 10:32:14 WARNING mlflow.keras.save: You are saving a Keras model without specifying model signature.\n",
      "2024/08/29 10:32:16 WARNING mlflow.models.model: Input example should be provided to infer model signature if the model signature is not provided when logging the model.\n"
     ]
    },
    {
     "name": "stdout",
     "output_type": "stream",
     "text": [
      "Model saved as CNN_GlobalMaxPooling_2000_64 with accuracy: 0.96\n",
      "Epoch 1/10\n",
      "\u001b[1m8677/8677\u001b[0m \u001b[32m━━━━━━━━━━━━━━━━━━━━\u001b[0m\u001b[37m\u001b[0m \u001b[1m18s\u001b[0m 2ms/step - accuracy: 0.9280 - loss: 0.2187 - val_accuracy: 0.9552 - val_loss: 0.1541\n",
      "Epoch 2/10\n",
      "\u001b[1m8677/8677\u001b[0m \u001b[32m━━━━━━━━━━━━━━━━━━━━\u001b[0m\u001b[37m\u001b[0m \u001b[1m18s\u001b[0m 2ms/step - accuracy: 0.9545 - loss: 0.1531 - val_accuracy: 0.9567 - val_loss: 0.1483\n",
      "Epoch 3/10\n",
      "\u001b[1m8677/8677\u001b[0m \u001b[32m━━━━━━━━━━━━━━━━━━━━\u001b[0m\u001b[37m\u001b[0m \u001b[1m18s\u001b[0m 2ms/step - accuracy: 0.9592 - loss: 0.1430 - val_accuracy: 0.9564 - val_loss: 0.1475\n",
      "Epoch 4/10\n",
      "\u001b[1m8677/8677\u001b[0m \u001b[32m━━━━━━━━━━━━━━━━━━━━\u001b[0m\u001b[37m\u001b[0m \u001b[1m17s\u001b[0m 2ms/step - accuracy: 0.9621 - loss: 0.1350 - val_accuracy: 0.9579 - val_loss: 0.1449\n",
      "Epoch 5/10\n",
      "\u001b[1m8677/8677\u001b[0m \u001b[32m━━━━━━━━━━━━━━━━━━━━\u001b[0m\u001b[37m\u001b[0m \u001b[1m17s\u001b[0m 2ms/step - accuracy: 0.9647 - loss: 0.1286 - val_accuracy: 0.9568 - val_loss: 0.1448\n",
      "Epoch 6/10\n",
      "\u001b[1m8677/8677\u001b[0m \u001b[32m━━━━━━━━━━━━━━━━━━━━\u001b[0m\u001b[37m\u001b[0m \u001b[1m18s\u001b[0m 2ms/step - accuracy: 0.9675 - loss: 0.1234 - val_accuracy: 0.9601 - val_loss: 0.1424\n",
      "Epoch 7/10\n",
      "\u001b[1m8677/8677\u001b[0m \u001b[32m━━━━━━━━━━━━━━━━━━━━\u001b[0m\u001b[37m\u001b[0m \u001b[1m18s\u001b[0m 2ms/step - accuracy: 0.9694 - loss: 0.1180 - val_accuracy: 0.9596 - val_loss: 0.1452\n",
      "Epoch 8/10\n",
      "\u001b[1m8677/8677\u001b[0m \u001b[32m━━━━━━━━━━━━━━━━━━━━\u001b[0m\u001b[37m\u001b[0m \u001b[1m17s\u001b[0m 2ms/step - accuracy: 0.9710 - loss: 0.1148 - val_accuracy: 0.9593 - val_loss: 0.1455\n",
      "Epoch 9/10\n",
      "\u001b[1m8677/8677\u001b[0m \u001b[32m━━━━━━━━━━━━━━━━━━━━\u001b[0m\u001b[37m\u001b[0m \u001b[1m17s\u001b[0m 2ms/step - accuracy: 0.9707 - loss: 0.1137 - val_accuracy: 0.9588 - val_loss: 0.1481\n",
      "Epoch 10/10\n",
      "\u001b[1m8677/8677\u001b[0m \u001b[32m━━━━━━━━━━━━━━━━━━━━\u001b[0m\u001b[37m\u001b[0m \u001b[1m17s\u001b[0m 2ms/step - accuracy: 0.9731 - loss: 0.1083 - val_accuracy: 0.9597 - val_loss: 0.1497\n",
      "\u001b[1m2170/2170\u001b[0m \u001b[32m━━━━━━━━━━━━━━━━━━━━\u001b[0m\u001b[37m\u001b[0m \u001b[1m1s\u001b[0m 387us/step - accuracy: 0.9587 - loss: 0.1515\n"
     ]
    },
    {
     "name": "stderr",
     "output_type": "stream",
     "text": [
      "2024/08/29 10:35:16 WARNING mlflow.keras.save: You are saving a Keras model without specifying model signature.\n",
      "2024/08/29 10:35:18 WARNING mlflow.models.model: Input example should be provided to infer model signature if the model signature is not provided when logging the model.\n"
     ]
    },
    {
     "name": "stdout",
     "output_type": "stream",
     "text": [
      "Model saved as CNN_GlobalMaxPooling_2000_128 with accuracy: 0.96\n",
      "Epoch 1/10\n",
      "\u001b[1m8677/8677\u001b[0m \u001b[32m━━━━━━━━━━━━━━━━━━━━\u001b[0m\u001b[37m\u001b[0m \u001b[1m6s\u001b[0m 672us/step - accuracy: 0.8636 - loss: 0.3651 - val_accuracy: 0.9172 - val_loss: 0.2837\n",
      "Epoch 2/10\n",
      "\u001b[1m8677/8677\u001b[0m \u001b[32m━━━━━━━━━━━━━━━━━━━━\u001b[0m\u001b[37m\u001b[0m \u001b[1m6s\u001b[0m 653us/step - accuracy: 0.9186 - loss: 0.2397 - val_accuracy: 0.9188 - val_loss: 0.2836\n",
      "Epoch 3/10\n",
      "\u001b[1m8677/8677\u001b[0m \u001b[32m━━━━━━━━━━━━━━━━━━━━\u001b[0m\u001b[37m\u001b[0m \u001b[1m6s\u001b[0m 648us/step - accuracy: 0.9224 - loss: 0.2290 - val_accuracy: 0.9228 - val_loss: 0.2786\n",
      "Epoch 4/10\n",
      "\u001b[1m8677/8677\u001b[0m \u001b[32m━━━━━━━━━━━━━━━━━━━━\u001b[0m\u001b[37m\u001b[0m \u001b[1m6s\u001b[0m 649us/step - accuracy: 0.9278 - loss: 0.2164 - val_accuracy: 0.9285 - val_loss: 0.2617\n",
      "Epoch 5/10\n",
      "\u001b[1m8677/8677\u001b[0m \u001b[32m━━━━━━━━━━━━━━━━━━━━\u001b[0m\u001b[37m\u001b[0m \u001b[1m6s\u001b[0m 650us/step - accuracy: 0.9290 - loss: 0.2144 - val_accuracy: 0.9293 - val_loss: 0.2768\n",
      "Epoch 6/10\n",
      "\u001b[1m8677/8677\u001b[0m \u001b[32m━━━━━━━━━━━━━━━━━━━━\u001b[0m\u001b[37m\u001b[0m \u001b[1m6s\u001b[0m 644us/step - accuracy: 0.9322 - loss: 0.2077 - val_accuracy: 0.9287 - val_loss: 0.2689\n",
      "Epoch 7/10\n",
      "\u001b[1m8677/8677\u001b[0m \u001b[32m━━━━━━━━━━━━━━━━━━━━\u001b[0m\u001b[37m\u001b[0m \u001b[1m6s\u001b[0m 648us/step - accuracy: 0.9346 - loss: 0.2027 - val_accuracy: 0.9263 - val_loss: 0.2661\n",
      "Epoch 8/10\n",
      "\u001b[1m8677/8677\u001b[0m \u001b[32m━━━━━━━━━━━━━━━━━━━━\u001b[0m\u001b[37m\u001b[0m \u001b[1m6s\u001b[0m 643us/step - accuracy: 0.9352 - loss: 0.2005 - val_accuracy: 0.9318 - val_loss: 0.2497\n",
      "Epoch 9/10\n",
      "\u001b[1m8677/8677\u001b[0m \u001b[32m━━━━━━━━━━━━━━━━━━━━\u001b[0m\u001b[37m\u001b[0m \u001b[1m6s\u001b[0m 633us/step - accuracy: 0.9371 - loss: 0.1967 - val_accuracy: 0.9330 - val_loss: 0.2498\n",
      "Epoch 10/10\n",
      "\u001b[1m8677/8677\u001b[0m \u001b[32m━━━━━━━━━━━━━━━━━━━━\u001b[0m\u001b[37m\u001b[0m \u001b[1m6s\u001b[0m 634us/step - accuracy: 0.9387 - loss: 0.1949 - val_accuracy: 0.9338 - val_loss: 0.2284\n",
      "\u001b[1m2170/2170\u001b[0m \u001b[32m━━━━━━━━━━━━━━━━━━━━\u001b[0m\u001b[37m\u001b[0m \u001b[1m0s\u001b[0m 219us/step - accuracy: 0.9332 - loss: 0.2285\n"
     ]
    },
    {
     "name": "stderr",
     "output_type": "stream",
     "text": [
      "2024/08/29 10:36:19 WARNING mlflow.keras.save: You are saving a Keras model without specifying model signature.\n",
      "2024/08/29 10:36:21 WARNING mlflow.models.model: Input example should be provided to infer model signature if the model signature is not provided when logging the model.\n"
     ]
    },
    {
     "name": "stdout",
     "output_type": "stream",
     "text": [
      "Model saved as CNN_GlobalMaxPooling_4000_16 with accuracy: 0.93\n",
      "Epoch 1/10\n",
      "\u001b[1m8677/8677\u001b[0m \u001b[32m━━━━━━━━━━━━━━━━━━━━\u001b[0m\u001b[37m\u001b[0m \u001b[1m12s\u001b[0m 1ms/step - accuracy: 0.8948 - loss: 0.2970 - val_accuracy: 0.9396 - val_loss: 0.1941\n",
      "Epoch 2/10\n",
      "\u001b[1m8677/8677\u001b[0m \u001b[32m━━━━━━━━━━━━━━━━━━━━\u001b[0m\u001b[37m\u001b[0m \u001b[1m12s\u001b[0m 1ms/step - accuracy: 0.9379 - loss: 0.1908 - val_accuracy: 0.9440 - val_loss: 0.1901\n",
      "Epoch 3/10\n",
      "\u001b[1m8677/8677\u001b[0m \u001b[32m━━━━━━━━━━━━━━━━━━━━\u001b[0m\u001b[37m\u001b[0m \u001b[1m11s\u001b[0m 1ms/step - accuracy: 0.9428 - loss: 0.1798 - val_accuracy: 0.9421 - val_loss: 0.1927\n",
      "Epoch 4/10\n",
      "\u001b[1m8677/8677\u001b[0m \u001b[32m━━━━━━━━━━━━━━━━━━━━\u001b[0m\u001b[37m\u001b[0m \u001b[1m12s\u001b[0m 1ms/step - accuracy: 0.9468 - loss: 0.1697 - val_accuracy: 0.9450 - val_loss: 0.1976\n",
      "Epoch 5/10\n",
      "\u001b[1m8677/8677\u001b[0m \u001b[32m━━━━━━━━━━━━━━━━━━━━\u001b[0m\u001b[37m\u001b[0m \u001b[1m11s\u001b[0m 1ms/step - accuracy: 0.9485 - loss: 0.1669 - val_accuracy: 0.9454 - val_loss: 0.1875\n",
      "Epoch 6/10\n",
      "\u001b[1m8677/8677\u001b[0m \u001b[32m━━━━━━━━━━━━━━━━━━━━\u001b[0m\u001b[37m\u001b[0m \u001b[1m12s\u001b[0m 1ms/step - accuracy: 0.9517 - loss: 0.1599 - val_accuracy: 0.9491 - val_loss: 0.1927\n",
      "Epoch 7/10\n",
      "\u001b[1m8677/8677\u001b[0m \u001b[32m━━━━━━━━━━━━━━━━━━━━\u001b[0m\u001b[37m\u001b[0m \u001b[1m12s\u001b[0m 1ms/step - accuracy: 0.9532 - loss: 0.1569 - val_accuracy: 0.9446 - val_loss: 0.1819\n",
      "Epoch 8/10\n",
      "\u001b[1m8677/8677\u001b[0m \u001b[32m━━━━━━━━━━━━━━━━━━━━\u001b[0m\u001b[37m\u001b[0m \u001b[1m12s\u001b[0m 1ms/step - accuracy: 0.9550 - loss: 0.1523 - val_accuracy: 0.9435 - val_loss: 0.1887\n",
      "Epoch 9/10\n",
      "\u001b[1m8677/8677\u001b[0m \u001b[32m━━━━━━━━━━━━━━━━━━━━\u001b[0m\u001b[37m\u001b[0m \u001b[1m12s\u001b[0m 1ms/step - accuracy: 0.9565 - loss: 0.1488 - val_accuracy: 0.9423 - val_loss: 0.1888\n",
      "Epoch 10/10\n",
      "\u001b[1m8677/8677\u001b[0m \u001b[32m━━━━━━━━━━━━━━━━━━━━\u001b[0m\u001b[37m\u001b[0m \u001b[1m12s\u001b[0m 1ms/step - accuracy: 0.9575 - loss: 0.1455 - val_accuracy: 0.9450 - val_loss: 0.1894\n",
      "\u001b[1m2170/2170\u001b[0m \u001b[32m━━━━━━━━━━━━━━━━━━━━\u001b[0m\u001b[37m\u001b[0m \u001b[1m1s\u001b[0m 330us/step - accuracy: 0.9444 - loss: 0.1907\n"
     ]
    },
    {
     "name": "stderr",
     "output_type": "stream",
     "text": [
      "2024/08/29 10:38:22 WARNING mlflow.keras.save: You are saving a Keras model without specifying model signature.\n",
      "2024/08/29 10:38:24 WARNING mlflow.models.model: Input example should be provided to infer model signature if the model signature is not provided when logging the model.\n"
     ]
    },
    {
     "name": "stdout",
     "output_type": "stream",
     "text": [
      "Model saved as CNN_GlobalMaxPooling_4000_32 with accuracy: 0.94\n",
      "Epoch 1/10\n",
      "\u001b[1m8677/8677\u001b[0m \u001b[32m━━━━━━━━━━━━━━━━━━━━\u001b[0m\u001b[37m\u001b[0m \u001b[1m17s\u001b[0m 2ms/step - accuracy: 0.9097 - loss: 0.2613 - val_accuracy: 0.9436 - val_loss: 0.1786\n",
      "Epoch 2/10\n",
      "\u001b[1m8677/8677\u001b[0m \u001b[32m━━━━━━━━━━━━━━━━━━━━\u001b[0m\u001b[37m\u001b[0m \u001b[1m17s\u001b[0m 2ms/step - accuracy: 0.9454 - loss: 0.1732 - val_accuracy: 0.9488 - val_loss: 0.1723\n",
      "Epoch 3/10\n",
      "\u001b[1m8677/8677\u001b[0m \u001b[32m━━━━━━━━━━━━━━━━━━━━\u001b[0m\u001b[37m\u001b[0m \u001b[1m17s\u001b[0m 2ms/step - accuracy: 0.9515 - loss: 0.1594 - val_accuracy: 0.9507 - val_loss: 0.1712\n",
      "Epoch 4/10\n",
      "\u001b[1m8677/8677\u001b[0m \u001b[32m━━━━━━━━━━━━━━━━━━━━\u001b[0m\u001b[37m\u001b[0m \u001b[1m17s\u001b[0m 2ms/step - accuracy: 0.9561 - loss: 0.1521 - val_accuracy: 0.9517 - val_loss: 0.1706\n",
      "Epoch 5/10\n",
      "\u001b[1m8677/8677\u001b[0m \u001b[32m━━━━━━━━━━━━━━━━━━━━\u001b[0m\u001b[37m\u001b[0m \u001b[1m16s\u001b[0m 2ms/step - accuracy: 0.9590 - loss: 0.1432 - val_accuracy: 0.9517 - val_loss: 0.1685\n",
      "Epoch 6/10\n",
      "\u001b[1m8677/8677\u001b[0m \u001b[32m━━━━━━━━━━━━━━━━━━━━\u001b[0m\u001b[37m\u001b[0m \u001b[1m16s\u001b[0m 2ms/step - accuracy: 0.9621 - loss: 0.1379 - val_accuracy: 0.9511 - val_loss: 0.1729\n",
      "Epoch 7/10\n",
      "\u001b[1m8677/8677\u001b[0m \u001b[32m━━━━━━━━━━━━━━━━━━━━\u001b[0m\u001b[37m\u001b[0m \u001b[1m16s\u001b[0m 2ms/step - accuracy: 0.9629 - loss: 0.1334 - val_accuracy: 0.9528 - val_loss: 0.1706\n",
      "Epoch 8/10\n",
      "\u001b[1m8677/8677\u001b[0m \u001b[32m━━━━━━━━━━━━━━━━━━━━\u001b[0m\u001b[37m\u001b[0m \u001b[1m16s\u001b[0m 2ms/step - accuracy: 0.9645 - loss: 0.1292 - val_accuracy: 0.9523 - val_loss: 0.1737\n",
      "Epoch 9/10\n",
      "\u001b[1m8677/8677\u001b[0m \u001b[32m━━━━━━━━━━━━━━━━━━━━\u001b[0m\u001b[37m\u001b[0m \u001b[1m17s\u001b[0m 2ms/step - accuracy: 0.9660 - loss: 0.1254 - val_accuracy: 0.9516 - val_loss: 0.1751\n",
      "Epoch 10/10\n",
      "\u001b[1m8677/8677\u001b[0m \u001b[32m━━━━━━━━━━━━━━━━━━━━\u001b[0m\u001b[37m\u001b[0m \u001b[1m17s\u001b[0m 2ms/step - accuracy: 0.9671 - loss: 0.1234 - val_accuracy: 0.9522 - val_loss: 0.1814\n",
      "\u001b[1m2170/2170\u001b[0m \u001b[32m━━━━━━━━━━━━━━━━━━━━\u001b[0m\u001b[37m\u001b[0m \u001b[1m1s\u001b[0m 370us/step - accuracy: 0.9518 - loss: 0.1812\n"
     ]
    },
    {
     "name": "stderr",
     "output_type": "stream",
     "text": [
      "2024/08/29 10:41:14 WARNING mlflow.keras.save: You are saving a Keras model without specifying model signature.\n",
      "2024/08/29 10:41:16 WARNING mlflow.models.model: Input example should be provided to infer model signature if the model signature is not provided when logging the model.\n"
     ]
    },
    {
     "name": "stdout",
     "output_type": "stream",
     "text": [
      "Model saved as CNN_GlobalMaxPooling_4000_64 with accuracy: 0.95\n",
      "Epoch 1/10\n",
      "\u001b[1m8677/8677\u001b[0m \u001b[32m━━━━━━━━━━━━━━━━━━━━\u001b[0m\u001b[37m\u001b[0m \u001b[1m24s\u001b[0m 3ms/step - accuracy: 0.9164 - loss: 0.2453 - val_accuracy: 0.9451 - val_loss: 0.1742\n",
      "Epoch 2/10\n",
      "\u001b[1m8677/8677\u001b[0m \u001b[32m━━━━━━━━━━━━━━━━━━━━\u001b[0m\u001b[37m\u001b[0m \u001b[1m23s\u001b[0m 3ms/step - accuracy: 0.9499 - loss: 0.1653 - val_accuracy: 0.9512 - val_loss: 0.1651\n",
      "Epoch 3/10\n",
      "\u001b[1m8677/8677\u001b[0m \u001b[32m━━━━━━━━━━━━━━━━━━━━\u001b[0m\u001b[37m\u001b[0m \u001b[1m23s\u001b[0m 3ms/step - accuracy: 0.9565 - loss: 0.1504 - val_accuracy: 0.9501 - val_loss: 0.1623\n",
      "Epoch 4/10\n",
      "\u001b[1m8677/8677\u001b[0m \u001b[32m━━━━━━━━━━━━━━━━━━━━\u001b[0m\u001b[37m\u001b[0m \u001b[1m24s\u001b[0m 3ms/step - accuracy: 0.9610 - loss: 0.1391 - val_accuracy: 0.9494 - val_loss: 0.1648\n",
      "Epoch 5/10\n",
      "\u001b[1m8677/8677\u001b[0m \u001b[32m━━━━━━━━━━━━━━━━━━━━\u001b[0m\u001b[37m\u001b[0m \u001b[1m23s\u001b[0m 3ms/step - accuracy: 0.9651 - loss: 0.1303 - val_accuracy: 0.9513 - val_loss: 0.1649\n",
      "Epoch 6/10\n",
      "\u001b[1m8677/8677\u001b[0m \u001b[32m━━━━━━━━━━━━━━━━━━━━\u001b[0m\u001b[37m\u001b[0m \u001b[1m23s\u001b[0m 3ms/step - accuracy: 0.9677 - loss: 0.1223 - val_accuracy: 0.9516 - val_loss: 0.1660\n",
      "Epoch 7/10\n",
      "\u001b[1m8677/8677\u001b[0m \u001b[32m━━━━━━━━━━━━━━━━━━━━\u001b[0m\u001b[37m\u001b[0m \u001b[1m24s\u001b[0m 3ms/step - accuracy: 0.9699 - loss: 0.1174 - val_accuracy: 0.9531 - val_loss: 0.1695\n",
      "Epoch 8/10\n",
      "\u001b[1m8677/8677\u001b[0m \u001b[32m━━━━━━━━━━━━━━━━━━━━\u001b[0m\u001b[37m\u001b[0m \u001b[1m23s\u001b[0m 3ms/step - accuracy: 0.9710 - loss: 0.1121 - val_accuracy: 0.9522 - val_loss: 0.1736\n",
      "Epoch 9/10\n",
      "\u001b[1m8677/8677\u001b[0m \u001b[32m━━━━━━━━━━━━━━━━━━━━\u001b[0m\u001b[37m\u001b[0m \u001b[1m24s\u001b[0m 3ms/step - accuracy: 0.9731 - loss: 0.1078 - val_accuracy: 0.9523 - val_loss: 0.1795\n",
      "Epoch 10/10\n",
      "\u001b[1m8677/8677\u001b[0m \u001b[32m━━━━━━━━━━━━━━━━━━━━\u001b[0m\u001b[37m\u001b[0m \u001b[1m24s\u001b[0m 3ms/step - accuracy: 0.9744 - loss: 0.1041 - val_accuracy: 0.9522 - val_loss: 0.1774\n",
      "\u001b[1m2170/2170\u001b[0m \u001b[32m━━━━━━━━━━━━━━━━━━━━\u001b[0m\u001b[37m\u001b[0m \u001b[1m1s\u001b[0m 434us/step - accuracy: 0.9517 - loss: 0.1781\n"
     ]
    },
    {
     "name": "stderr",
     "output_type": "stream",
     "text": [
      "2024/08/29 10:45:17 WARNING mlflow.keras.save: You are saving a Keras model without specifying model signature.\n",
      "2024/08/29 10:45:19 WARNING mlflow.models.model: Input example should be provided to infer model signature if the model signature is not provided when logging the model.\n"
     ]
    },
    {
     "name": "stdout",
     "output_type": "stream",
     "text": [
      "Model saved as CNN_GlobalMaxPooling_4000_128 with accuracy: 0.95\n",
      "Epoch 1/10\n",
      "\u001b[1m8677/8677\u001b[0m \u001b[32m━━━━━━━━━━━━━━━━━━━━\u001b[0m\u001b[37m\u001b[0m \u001b[1m6s\u001b[0m 699us/step - accuracy: 0.8619 - loss: 0.3742 - val_accuracy: 0.9144 - val_loss: 0.2922\n",
      "Epoch 2/10\n",
      "\u001b[1m8677/8677\u001b[0m \u001b[32m━━━━━━━━━━━━━━━━━━━━\u001b[0m\u001b[37m\u001b[0m \u001b[1m6s\u001b[0m 681us/step - accuracy: 0.9163 - loss: 0.2442 - val_accuracy: 0.9223 - val_loss: 0.3027\n",
      "Epoch 3/10\n",
      "\u001b[1m8677/8677\u001b[0m \u001b[32m━━━━━━━━━━━━━━━━━━━━\u001b[0m\u001b[37m\u001b[0m \u001b[1m6s\u001b[0m 692us/step - accuracy: 0.9231 - loss: 0.2290 - val_accuracy: 0.9278 - val_loss: 0.2842\n",
      "Epoch 4/10\n",
      "\u001b[1m8677/8677\u001b[0m \u001b[32m━━━━━━━━━━━━━━━━━━━━\u001b[0m\u001b[37m\u001b[0m \u001b[1m6s\u001b[0m 687us/step - accuracy: 0.9271 - loss: 0.2203 - val_accuracy: 0.9296 - val_loss: 0.2740\n",
      "Epoch 5/10\n",
      "\u001b[1m8677/8677\u001b[0m \u001b[32m━━━━━━━━━━━━━━━━━━━━\u001b[0m\u001b[37m\u001b[0m \u001b[1m6s\u001b[0m 678us/step - accuracy: 0.9300 - loss: 0.2159 - val_accuracy: 0.9322 - val_loss: 0.2876\n",
      "Epoch 6/10\n",
      "\u001b[1m8677/8677\u001b[0m \u001b[32m━━━━━━━━━━━━━━━━━━━━\u001b[0m\u001b[37m\u001b[0m \u001b[1m6s\u001b[0m 675us/step - accuracy: 0.9324 - loss: 0.2095 - val_accuracy: 0.9315 - val_loss: 0.2622\n",
      "Epoch 7/10\n",
      "\u001b[1m8677/8677\u001b[0m \u001b[32m━━━━━━━━━━━━━━━━━━━━\u001b[0m\u001b[37m\u001b[0m \u001b[1m6s\u001b[0m 671us/step - accuracy: 0.9347 - loss: 0.2063 - val_accuracy: 0.9295 - val_loss: 0.2559\n",
      "Epoch 8/10\n",
      "\u001b[1m8677/8677\u001b[0m \u001b[32m━━━━━━━━━━━━━━━━━━━━\u001b[0m\u001b[37m\u001b[0m \u001b[1m6s\u001b[0m 669us/step - accuracy: 0.9350 - loss: 0.2032 - val_accuracy: 0.9303 - val_loss: 0.2499\n",
      "Epoch 9/10\n",
      "\u001b[1m8677/8677\u001b[0m \u001b[32m━━━━━━━━━━━━━━━━━━━━\u001b[0m\u001b[37m\u001b[0m \u001b[1m6s\u001b[0m 667us/step - accuracy: 0.9358 - loss: 0.2026 - val_accuracy: 0.9285 - val_loss: 0.2532\n",
      "Epoch 10/10\n",
      "\u001b[1m8677/8677\u001b[0m \u001b[32m━━━━━━━━━━━━━━━━━━━━\u001b[0m\u001b[37m\u001b[0m \u001b[1m6s\u001b[0m 665us/step - accuracy: 0.9380 - loss: 0.1984 - val_accuracy: 0.9262 - val_loss: 0.2513\n",
      "\u001b[1m2170/2170\u001b[0m \u001b[32m━━━━━━━━━━━━━━━━━━━━\u001b[0m\u001b[37m\u001b[0m \u001b[1m0s\u001b[0m 224us/step - accuracy: 0.9250 - loss: 0.2523\n"
     ]
    },
    {
     "name": "stderr",
     "output_type": "stream",
     "text": [
      "2024/08/29 10:46:23 WARNING mlflow.keras.save: You are saving a Keras model without specifying model signature.\n",
      "2024/08/29 10:46:25 WARNING mlflow.models.model: Input example should be provided to infer model signature if the model signature is not provided when logging the model.\n"
     ]
    },
    {
     "name": "stdout",
     "output_type": "stream",
     "text": [
      "Model saved as CNN_GlobalMaxPooling_5000_16 with accuracy: 0.93\n",
      "Epoch 1/10\n",
      "\u001b[1m8677/8677\u001b[0m \u001b[32m━━━━━━━━━━━━━━━━━━━━\u001b[0m\u001b[37m\u001b[0m \u001b[1m12s\u001b[0m 1ms/step - accuracy: 0.8901 - loss: 0.3079 - val_accuracy: 0.9313 - val_loss: 0.2009\n",
      "Epoch 2/10\n",
      "\u001b[1m8677/8677\u001b[0m \u001b[32m━━━━━━━━━━━━━━━━━━━━\u001b[0m\u001b[37m\u001b[0m \u001b[1m12s\u001b[0m 1ms/step - accuracy: 0.9365 - loss: 0.1940 - val_accuracy: 0.9301 - val_loss: 0.1995\n",
      "Epoch 3/10\n",
      "\u001b[1m8677/8677\u001b[0m \u001b[32m━━━━━━━━━━━━━━━━━━━━\u001b[0m\u001b[37m\u001b[0m \u001b[1m11s\u001b[0m 1ms/step - accuracy: 0.9426 - loss: 0.1799 - val_accuracy: 0.9423 - val_loss: 0.1885\n",
      "Epoch 4/10\n",
      "\u001b[1m8677/8677\u001b[0m \u001b[32m━━━━━━━━━━━━━━━━━━━━\u001b[0m\u001b[37m\u001b[0m \u001b[1m11s\u001b[0m 1ms/step - accuracy: 0.9467 - loss: 0.1691 - val_accuracy: 0.9432 - val_loss: 0.1919\n",
      "Epoch 5/10\n",
      "\u001b[1m8677/8677\u001b[0m \u001b[32m━━━━━━━━━━━━━━━━━━━━\u001b[0m\u001b[37m\u001b[0m \u001b[1m11s\u001b[0m 1ms/step - accuracy: 0.9499 - loss: 0.1634 - val_accuracy: 0.9458 - val_loss: 0.1911\n",
      "Epoch 6/10\n",
      "\u001b[1m8677/8677\u001b[0m \u001b[32m━━━━━━━━━━━━━━━━━━━━\u001b[0m\u001b[37m\u001b[0m \u001b[1m12s\u001b[0m 1ms/step - accuracy: 0.9518 - loss: 0.1582 - val_accuracy: 0.9404 - val_loss: 0.2018\n",
      "Epoch 7/10\n",
      "\u001b[1m8677/8677\u001b[0m \u001b[32m━━━━━━━━━━━━━━━━━━━━\u001b[0m\u001b[37m\u001b[0m \u001b[1m11s\u001b[0m 1ms/step - accuracy: 0.9540 - loss: 0.1541 - val_accuracy: 0.9430 - val_loss: 0.1935\n",
      "Epoch 8/10\n",
      "\u001b[1m8677/8677\u001b[0m \u001b[32m━━━━━━━━━━━━━━━━━━━━\u001b[0m\u001b[37m\u001b[0m \u001b[1m12s\u001b[0m 1ms/step - accuracy: 0.9564 - loss: 0.1489 - val_accuracy: 0.9461 - val_loss: 0.1952\n",
      "Epoch 9/10\n",
      "\u001b[1m8677/8677\u001b[0m \u001b[32m━━━━━━━━━━━━━━━━━━━━\u001b[0m\u001b[37m\u001b[0m \u001b[1m12s\u001b[0m 1ms/step - accuracy: 0.9570 - loss: 0.1451 - val_accuracy: 0.9479 - val_loss: 0.1941\n",
      "Epoch 10/10\n",
      "\u001b[1m8677/8677\u001b[0m \u001b[32m━━━━━━━━━━━━━━━━━━━━\u001b[0m\u001b[37m\u001b[0m \u001b[1m12s\u001b[0m 1ms/step - accuracy: 0.9586 - loss: 0.1427 - val_accuracy: 0.9464 - val_loss: 0.2014\n",
      "\u001b[1m2170/2170\u001b[0m \u001b[32m━━━━━━━━━━━━━━━━━━━━\u001b[0m\u001b[37m\u001b[0m \u001b[1m1s\u001b[0m 287us/step - accuracy: 0.9455 - loss: 0.2015\n"
     ]
    },
    {
     "name": "stderr",
     "output_type": "stream",
     "text": [
      "2024/08/29 10:48:25 WARNING mlflow.keras.save: You are saving a Keras model without specifying model signature.\n",
      "2024/08/29 10:48:27 WARNING mlflow.models.model: Input example should be provided to infer model signature if the model signature is not provided when logging the model.\n"
     ]
    },
    {
     "name": "stdout",
     "output_type": "stream",
     "text": [
      "Model saved as CNN_GlobalMaxPooling_5000_32 with accuracy: 0.95\n",
      "Epoch 1/10\n",
      "\u001b[1m8677/8677\u001b[0m \u001b[32m━━━━━━━━━━━━━━━━━━━━\u001b[0m\u001b[37m\u001b[0m \u001b[1m16s\u001b[0m 2ms/step - accuracy: 0.9058 - loss: 0.2673 - val_accuracy: 0.9421 - val_loss: 0.1809\n",
      "Epoch 2/10\n",
      "\u001b[1m8677/8677\u001b[0m \u001b[32m━━━━━━━━━━━━━━━━━━━━\u001b[0m\u001b[37m\u001b[0m \u001b[1m17s\u001b[0m 2ms/step - accuracy: 0.9447 - loss: 0.1773 - val_accuracy: 0.9456 - val_loss: 0.1760\n",
      "Epoch 3/10\n",
      "\u001b[1m8677/8677\u001b[0m \u001b[32m━━━━━━━━━━━━━━━━━━━━\u001b[0m\u001b[37m\u001b[0m \u001b[1m17s\u001b[0m 2ms/step - accuracy: 0.9504 - loss: 0.1634 - val_accuracy: 0.9446 - val_loss: 0.1746\n",
      "Epoch 4/10\n",
      "\u001b[1m8677/8677\u001b[0m \u001b[32m━━━━━━━━━━━━━━━━━━━━\u001b[0m\u001b[37m\u001b[0m \u001b[1m16s\u001b[0m 2ms/step - accuracy: 0.9562 - loss: 0.1513 - val_accuracy: 0.9460 - val_loss: 0.1755\n",
      "Epoch 5/10\n",
      "\u001b[1m8677/8677\u001b[0m \u001b[32m━━━━━━━━━━━━━━━━━━━━\u001b[0m\u001b[37m\u001b[0m \u001b[1m17s\u001b[0m 2ms/step - accuracy: 0.9595 - loss: 0.1435 - val_accuracy: 0.9484 - val_loss: 0.1755\n",
      "Epoch 6/10\n",
      "\u001b[1m8677/8677\u001b[0m \u001b[32m━━━━━━━━━━━━━━━━━━━━\u001b[0m\u001b[37m\u001b[0m \u001b[1m17s\u001b[0m 2ms/step - accuracy: 0.9624 - loss: 0.1363 - val_accuracy: 0.9501 - val_loss: 0.1772\n",
      "Epoch 7/10\n",
      "\u001b[1m8677/8677\u001b[0m \u001b[32m━━━━━━━━━━━━━━━━━━━━\u001b[0m\u001b[37m\u001b[0m \u001b[1m17s\u001b[0m 2ms/step - accuracy: 0.9641 - loss: 0.1326 - val_accuracy: 0.9497 - val_loss: 0.1804\n",
      "Epoch 8/10\n",
      "\u001b[1m8677/8677\u001b[0m \u001b[32m━━━━━━━━━━━━━━━━━━━━\u001b[0m\u001b[37m\u001b[0m \u001b[1m16s\u001b[0m 2ms/step - accuracy: 0.9659 - loss: 0.1294 - val_accuracy: 0.9501 - val_loss: 0.1879\n",
      "Epoch 9/10\n",
      "\u001b[1m8677/8677\u001b[0m \u001b[32m━━━━━━━━━━━━━━━━━━━━\u001b[0m\u001b[37m\u001b[0m \u001b[1m17s\u001b[0m 2ms/step - accuracy: 0.9664 - loss: 0.1256 - val_accuracy: 0.9496 - val_loss: 0.1875\n",
      "Epoch 10/10\n",
      "\u001b[1m8677/8677\u001b[0m \u001b[32m━━━━━━━━━━━━━━━━━━━━\u001b[0m\u001b[37m\u001b[0m \u001b[1m17s\u001b[0m 2ms/step - accuracy: 0.9684 - loss: 0.1205 - val_accuracy: 0.9492 - val_loss: 0.1867\n",
      "\u001b[1m2170/2170\u001b[0m \u001b[32m━━━━━━━━━━━━━━━━━━━━\u001b[0m\u001b[37m\u001b[0m \u001b[1m1s\u001b[0m 325us/step - accuracy: 0.9486 - loss: 0.1884\n"
     ]
    },
    {
     "name": "stderr",
     "output_type": "stream",
     "text": [
      "2024/08/29 10:51:18 WARNING mlflow.keras.save: You are saving a Keras model without specifying model signature.\n",
      "2024/08/29 10:51:20 WARNING mlflow.models.model: Input example should be provided to infer model signature if the model signature is not provided when logging the model.\n"
     ]
    },
    {
     "name": "stdout",
     "output_type": "stream",
     "text": [
      "Model saved as CNN_GlobalMaxPooling_5000_64 with accuracy: 0.95\n",
      "Epoch 1/10\n",
      "\u001b[1m8677/8677\u001b[0m \u001b[32m━━━━━━━━━━━━━━━━━━━━\u001b[0m\u001b[37m\u001b[0m \u001b[1m27s\u001b[0m 3ms/step - accuracy: 0.9138 - loss: 0.2478 - val_accuracy: 0.9453 - val_loss: 0.1758\n",
      "Epoch 2/10\n",
      "\u001b[1m8677/8677\u001b[0m \u001b[32m━━━━━━━━━━━━━━━━━━━━\u001b[0m\u001b[37m\u001b[0m \u001b[1m25s\u001b[0m 3ms/step - accuracy: 0.9473 - loss: 0.1688 - val_accuracy: 0.9488 - val_loss: 0.1685\n",
      "Epoch 3/10\n",
      "\u001b[1m8677/8677\u001b[0m \u001b[32m━━━━━━━━━━━━━━━━━━━━\u001b[0m\u001b[37m\u001b[0m \u001b[1m27s\u001b[0m 3ms/step - accuracy: 0.9561 - loss: 0.1503 - val_accuracy: 0.9500 - val_loss: 0.1663\n",
      "Epoch 4/10\n",
      "\u001b[1m8677/8677\u001b[0m \u001b[32m━━━━━━━━━━━━━━━━━━━━\u001b[0m\u001b[37m\u001b[0m \u001b[1m25s\u001b[0m 3ms/step - accuracy: 0.9611 - loss: 0.1384 - val_accuracy: 0.9498 - val_loss: 0.1666\n",
      "Epoch 5/10\n",
      "\u001b[1m8677/8677\u001b[0m \u001b[32m━━━━━━━━━━━━━━━━━━━━\u001b[0m\u001b[37m\u001b[0m \u001b[1m25s\u001b[0m 3ms/step - accuracy: 0.9645 - loss: 0.1278 - val_accuracy: 0.9508 - val_loss: 0.1683\n",
      "Epoch 6/10\n",
      "\u001b[1m8677/8677\u001b[0m \u001b[32m━━━━━━━━━━━━━━━━━━━━\u001b[0m\u001b[37m\u001b[0m \u001b[1m25s\u001b[0m 3ms/step - accuracy: 0.9677 - loss: 0.1226 - val_accuracy: 0.9504 - val_loss: 0.1733\n",
      "Epoch 7/10\n",
      "\u001b[1m8677/8677\u001b[0m \u001b[32m━━━━━━━━━━━━━━━━━━━━\u001b[0m\u001b[37m\u001b[0m \u001b[1m25s\u001b[0m 3ms/step - accuracy: 0.9701 - loss: 0.1156 - val_accuracy: 0.9502 - val_loss: 0.1784\n",
      "Epoch 8/10\n",
      "\u001b[1m8677/8677\u001b[0m \u001b[32m━━━━━━━━━━━━━━━━━━━━\u001b[0m\u001b[37m\u001b[0m \u001b[1m25s\u001b[0m 3ms/step - accuracy: 0.9714 - loss: 0.1109 - val_accuracy: 0.9503 - val_loss: 0.1796\n",
      "Epoch 9/10\n",
      "\u001b[1m8677/8677\u001b[0m \u001b[32m━━━━━━━━━━━━━━━━━━━━\u001b[0m\u001b[37m\u001b[0m \u001b[1m25s\u001b[0m 3ms/step - accuracy: 0.9735 - loss: 0.1066 - val_accuracy: 0.9488 - val_loss: 0.1886\n",
      "Epoch 10/10\n",
      "\u001b[1m8677/8677\u001b[0m \u001b[32m━━━━━━━━━━━━━━━━━━━━\u001b[0m\u001b[37m\u001b[0m \u001b[1m26s\u001b[0m 3ms/step - accuracy: 0.9747 - loss: 0.1032 - val_accuracy: 0.9506 - val_loss: 0.1873\n",
      "\u001b[1m2170/2170\u001b[0m \u001b[32m━━━━━━━━━━━━━━━━━━━━\u001b[0m\u001b[37m\u001b[0m \u001b[1m1s\u001b[0m 376us/step - accuracy: 0.9501 - loss: 0.1921\n"
     ]
    },
    {
     "name": "stderr",
     "output_type": "stream",
     "text": [
      "2024/08/29 10:55:41 WARNING mlflow.keras.save: You are saving a Keras model without specifying model signature.\n",
      "2024/08/29 10:55:43 WARNING mlflow.models.model: Input example should be provided to infer model signature if the model signature is not provided when logging the model.\n"
     ]
    },
    {
     "name": "stdout",
     "output_type": "stream",
     "text": [
      "Model saved as CNN_GlobalMaxPooling_5000_128 with accuracy: 0.95\n"
     ]
    }
   ],
   "source": [
    "for input_dim in [1000, 2000, 4000, 5000]:\n",
    "    for output_dim in [16, 32, 64, 128]:\n",
    "        input_length = 10\n",
    "        with mlflow.start_run():\n",
    "            # Tokenization and Padding\n",
    "            tokenizer = Tokenizer(num_words=input_dim)\n",
    "            tokenizer.fit_on_texts(filtered_questions)\n",
    "            sequences = tokenizer.texts_to_sequences(filtered_questions)\n",
    "            X = pad_sequences(sequences, maxlen=input_length)\n",
    "            y = np.array(filtered_labels.tolist())\n",
    "\n",
    "            # New Model: CNN with Global Max Pooling\n",
    "            model_name = f\"CNN_GlobalMaxPooling_{input_dim}_{output_dim}\"\n",
    "            model = Sequential([\n",
    "                Embedding(input_dim=input_dim, output_dim=output_dim, input_length=input_length),\n",
    "                Conv1D(filters=output_dim, kernel_size=3, activation='relu'),\n",
    "                GlobalMaxPooling1D(),\n",
    "                Dropout(0.5),\n",
    "                Dense(32, activation='relu'),\n",
    "                Dense(3, activation='softmax')\n",
    "            ])\n",
    "\n",
    "            # Compile and train\n",
    "            model.compile(optimizer='adam', loss='categorical_crossentropy', metrics=['accuracy'])\n",
    "            X_train, X_test, y_train, y_test = train_test_split(X, y, test_size=0.2, random_state=42)\n",
    "            model.fit(X_train, y_train, epochs=10, validation_data=(X_test, y_test))\n",
    "\n",
    "            # Evaluate and log\n",
    "            loss, accuracy = model.evaluate(X_test, y_test)\n",
    "            mlflow.log_params({\"input_dim\": input_dim, \"output_dim\": output_dim, \"input_length\": input_length})\n",
    "            mlflow.log_metric(\"loss\", loss)\n",
    "            mlflow.log_metric(\"accuracy\", accuracy)\n",
    "\n",
    "            # Save the model with a unique name\n",
    "            mlflow.keras.log_model(model, artifact_path=model_name)\n",
    "            print(f\"Model saved as {model_name} with accuracy: {accuracy:.2f}\")\n",
    "        mlflow.end_run()\n"
   ]
  },
  {
   "attachments": {},
   "cell_type": "markdown",
   "metadata": {},
   "source": [
    "# Chosen Model \n",
    "## Bi-directional LSTM\n",
    "### Params\n",
    "- input_dim : 1000\n",
    "- output_dim : 64\n",
    "- input_length : 10"
   ]
  },
  {
   "cell_type": "code",
   "execution_count": 30,
   "metadata": {},
   "outputs": [
    {
     "name": "stdout",
     "output_type": "stream",
     "text": [
      "Epoch 1/10\n",
      "\u001b[1m12967/12967\u001b[0m \u001b[32m━━━━━━━━━━━━━━━━━━━━\u001b[0m\u001b[37m\u001b[0m \u001b[1m64s\u001b[0m 5ms/step - accuracy: 0.9093 - loss: 0.2284\n",
      "Epoch 2/10\n",
      "\u001b[1m12967/12967\u001b[0m \u001b[32m━━━━━━━━━━━━━━━━━━━━\u001b[0m\u001b[37m\u001b[0m \u001b[1m61s\u001b[0m 5ms/step - accuracy: 0.9397 - loss: 0.1524\n",
      "Epoch 3/10\n",
      "\u001b[1m12967/12967\u001b[0m \u001b[32m━━━━━━━━━━━━━━━━━━━━\u001b[0m\u001b[37m\u001b[0m \u001b[1m59s\u001b[0m 5ms/step - accuracy: 0.9461 - loss: 0.1377\n",
      "Epoch 4/10\n",
      "\u001b[1m12967/12967\u001b[0m \u001b[32m━━━━━━━━━━━━━━━━━━━━\u001b[0m\u001b[37m\u001b[0m \u001b[1m58s\u001b[0m 4ms/step - accuracy: 0.9506 - loss: 0.1274\n",
      "Epoch 5/10\n",
      "\u001b[1m12967/12967\u001b[0m \u001b[32m━━━━━━━━━━━━━━━━━━━━\u001b[0m\u001b[37m\u001b[0m \u001b[1m58s\u001b[0m 4ms/step - accuracy: 0.9538 - loss: 0.1193\n",
      "Epoch 6/10\n",
      "\u001b[1m12967/12967\u001b[0m \u001b[32m━━━━━━━━━━━━━━━━━━━━\u001b[0m\u001b[37m\u001b[0m \u001b[1m57s\u001b[0m 4ms/step - accuracy: 0.9565 - loss: 0.1128\n",
      "Epoch 7/10\n",
      "\u001b[1m12967/12967\u001b[0m \u001b[32m━━━━━━━━━━━━━━━━━━━━\u001b[0m\u001b[37m\u001b[0m \u001b[1m57s\u001b[0m 4ms/step - accuracy: 0.9604 - loss: 0.1030\n",
      "Epoch 8/10\n",
      "\u001b[1m12967/12967\u001b[0m \u001b[32m━━━━━━━━━━━━━━━━━━━━\u001b[0m\u001b[37m\u001b[0m \u001b[1m56s\u001b[0m 4ms/step - accuracy: 0.9624 - loss: 0.0981\n",
      "Epoch 9/10\n",
      "\u001b[1m12967/12967\u001b[0m \u001b[32m━━━━━━━━━━━━━━━━━━━━\u001b[0m\u001b[37m\u001b[0m \u001b[1m57s\u001b[0m 4ms/step - accuracy: 0.9649 - loss: 0.0931\n",
      "Epoch 10/10\n",
      "\u001b[1m12967/12967\u001b[0m \u001b[32m━━━━━━━━━━━━━━━━━━━━\u001b[0m\u001b[37m\u001b[0m \u001b[1m56s\u001b[0m 4ms/step - accuracy: 0.9672 - loss: 0.0865\n"
     ]
    },
    {
     "name": "stderr",
     "output_type": "stream",
     "text": [
      "2024/09/19 12:42:16 WARNING mlflow.keras.save: You are saving a Keras model without specifying model signature.\n",
      "2024/09/19 12:42:19 WARNING mlflow.models.model: Input example should be provided to infer model signature if the model signature is not provided when logging the model.\n",
      "WARNING:absl:You are saving your model as an HDF5 file via `model.save()` or `keras.saving.save_model(model)`. This file format is considered legacy. We recommend using instead the native Keras format, e.g. `model.save('my_model.keras')` or `keras.saving.save_model(model, 'my_model.keras')`. \n"
     ]
    },
    {
     "name": "stdout",
     "output_type": "stream",
     "text": [
      "Tokenizer saved to Bidirectional_LSTM_1000_64_3_tokenizer.pkl\n",
      "Model saved as Bidirectional_LSTM_1000_64_3.h5\n",
      "Model path saved to Bidirectional_LSTM_1000_64_3_path.pkl\n"
     ]
    }
   ],
   "source": [
    "# Define parameters\n",
    "input_dim = 1000\n",
    "output_dim = 64\n",
    "input_length = 10\n",
    "\n",
    "# Start MLflow run\n",
    "with mlflow.start_run():\n",
    "    # Tokenization and Padding\n",
    "    tokenizer = Tokenizer(num_words=input_dim)\n",
    "    tokenizer.fit_on_texts(filtered_questions)\n",
    "    sequences = tokenizer.texts_to_sequences(filtered_questions)\n",
    "    X = pad_sequences(sequences, maxlen=input_length)\n",
    "    y = np.array(filtered_labels.tolist())\n",
    "\n",
    "    # Create model\n",
    "    model_name = f\"Bidirectional_LSTM_{input_dim}_{output_dim}_3\"\n",
    "    model = Sequential([\n",
    "        Embedding(input_dim=input_dim, output_dim=output_dim, input_length=input_length),\n",
    "        Bidirectional(LSTM(output_dim)),\n",
    "        Dropout(0.5),\n",
    "        Dense(32, activation='relu'),\n",
    "        Dense(3, activation='softmax')\n",
    "    ])\n",
    "\n",
    "    # Compile and train\n",
    "    model.compile(optimizer='adam', loss='categorical_crossentropy', metrics=['accuracy'])\n",
    "    model.fit(X, y, epochs=10)  # Train on the entire dataset\n",
    "\n",
    "    # Log parameters and model\n",
    "    mlflow.log_params({\"input_dim\": input_dim, \"output_dim\": output_dim, \"input_length\": input_length})\n",
    "    mlflow.keras.log_model(model, artifact_path=model_name)\n",
    "\n",
    "    # Save the tokenizer to a file\n",
    "    tokenizer_path = f\"{model_name}_tokenizer.pkl\"\n",
    "    with open(tokenizer_path, 'wb') as f:\n",
    "        pickle.dump(tokenizer, f)\n",
    "    print(f\"Tokenizer saved to {tokenizer_path}\")\n",
    "\n",
    "    # Save the model to an HDF5 file\n",
    "    model_path = f\"{model_name}.h5\"\n",
    "    model.save(model_path)\n",
    "    print(f\"Model saved as {model_path}\")\n",
    "\n",
    "    # Save the model path to a pickle file\n",
    "    model_path_pickle = f\"{model_name}_path.pkl\"\n",
    "    with open(model_path_pickle, 'wb') as f:\n",
    "        pickle.dump(model_path, f)\n",
    "    print(f\"Model path saved to {model_path_pickle}\")\n",
    "\n",
    "# End MLflow run\n",
    "mlflow.end_run()\n"
   ]
  },
  {
   "cell_type": "code",
   "execution_count": 49,
   "metadata": {},
   "outputs": [],
   "source": [
    "from tensorflow.keras.models import load_model\n",
    "from tensorflow.keras.preprocessing.sequence import pad_sequences"
   ]
  },
  {
   "cell_type": "code",
   "execution_count": 60,
   "metadata": {},
   "outputs": [
    {
     "name": "stderr",
     "output_type": "stream",
     "text": [
      "WARNI [absl] Compiled the loaded model, but the compiled metrics have yet to be built. `model.compile_metrics` will be empty until you train or evaluate the model.\n"
     ]
    },
    {
     "name": "stdout",
     "output_type": "stream",
     "text": [
      "\u001b[1m12967/12967\u001b[0m \u001b[32m━━━━━━━━━━━━━━━━━━━━\u001b[0m\u001b[37m\u001b[0m \u001b[1m17s\u001b[0m 1ms/step\n",
      "CSV file 'questions_outputs.csv' and Parquet file 'questions_outputs.parquet' created successfully.\n"
     ]
    }
   ],
   "source": [
    "\n",
    "\n",
    "# Load the tokenizer from the pickle file\n",
    "with open('/Users/lancesanterre/intern_2024/notebooks/Bidirectional_LSTM_1000_64_2_tokenizer.pkl', 'rb') as f:\n",
    "    tokenizer = pickle.load(f)\n",
    "\n",
    "# Load the Keras model from the HDF5 file\n",
    "model = load_model('/Users/lancesanterre/intern_2024/notebooks/Bidirectional_LSTM_1000_64_2.h5')\n",
    "\n",
    "# Example questions\n",
    "questions = questions\n",
    "filtered_questions = []\n",
    "invalid_entries = []\n",
    "\n",
    "for q in questions:\n",
    "    if isinstance(q, str):\n",
    "        filtered_questions.append(q)\n",
    "    else:\n",
    "        invalid_entries.append(q)\n",
    "# Ensure questions are in the correct format\n",
    "if isinstance(filtered_questions, np.ndarray):\n",
    "    filtered_questions = filtered_questions.tolist()\n",
    "\n",
    "# Tokenize and pad sequences\n",
    "input_length = 10  # Ensure this matches your model's input length\n",
    "sequences = tokenizer.texts_to_sequences(filtered_questions)\n",
    "X_new = pad_sequences(sequences, maxlen=input_length)\n",
    "\n",
    "# Make predictions\n",
    "predictions = model.predict(X_new)\n",
    "\n",
    "# Convert predictions to a list\n",
    "output_labels = [list(pred) for pred in predictions]\n",
    "\n",
    "# Create a DataFrame\n",
    "df = pd.DataFrame({\n",
    "    'Question': filtered_questions,\n",
    "    'Output': output_labels\n",
    "})\n",
    "\n",
    "# Save to CSV\n",
    "csv_file = 'questions_outputs.csv'\n",
    "df.to_csv(csv_file, index=False)\n",
    "\n",
    "# Save to Parquet\n",
    "parquet_file = 'questions_outputs.parquet'\n",
    "df.to_parquet(parquet_file, index=False)\n",
    "\n",
    "print(f\"CSV file '{csv_file}' and Parquet file '{parquet_file}' created successfully.\")\n"
   ]
  },
  {
   "cell_type": "code",
   "execution_count": null,
   "metadata": {},
   "outputs": [],
   "source": []
  }
 ],
 "metadata": {
  "kernelspec": {
   "display_name": "base",
   "language": "python",
   "name": "python3"
  },
  "language_info": {
   "codemirror_mode": {
    "name": "ipython",
    "version": 3
   },
   "file_extension": ".py",
   "mimetype": "text/x-python",
   "name": "python",
   "nbconvert_exporter": "python",
   "pygments_lexer": "ipython3",
   "version": "3.11.9"
  },
  "orig_nbformat": 4
 },
 "nbformat": 4,
 "nbformat_minor": 2
}
